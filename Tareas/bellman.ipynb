{
 "cells": [
  {
   "cell_type": "markdown",
   "metadata": {},
   "source": [
    "# Ariel Chitay\n",
    "# 19002065\n"
   ]
  },
  {
   "cell_type": "markdown",
   "metadata": {},
   "source": [
    "**Ejemplo en DS** : en inteligencia artificial y ML en la sub-rama \"reinforcement learning\" la \"ecuacion de bellman\" puede aplicarse de manera vectorizada a traves del operar vectores, matrices y escalares en una sola expresion.\n",
    "\n",
    "<img src=\"https://rebornhugo.github.io/assets/images/post_images/%E5%BC%BA%E5%8C%96%E5%AD%A6%E4%B9%A02/bellman%20equation2.PNG\">\n",
    "\n",
    "* n = numero de estados del sistema.\n",
    "* V(s) = vector que representa el valor esperado para cierto estado\n",
    "* R = recompensa inmediata percibida por el agente al salir de cierto estado.(vector)\n",
    "* P = matriz de transicion de la cadena de Markov sub-yacente.(matriz)\n",
    "* γ = factor de descuento de recompensas futuras(escalar)\n",
    "\n",
    "Calcular V(s) para el siguiente sistema aplicando la ecuación de bellman de manera vectorizada."
   ]
  },
  {
   "cell_type": "code",
   "execution_count": 17,
   "metadata": {},
   "outputs": [
    {
     "data": {
      "text/plain": [
       "array([10.,  2.,  5.])"
      ]
     },
     "execution_count": 17,
     "metadata": {},
     "output_type": "execute_result"
    }
   ],
   "source": [
    "import numpy as np\n",
    "V = np.array([0,0,0]) # valor inicial de V(s)\n",
    "R = np.array([10,2,5]) # vector de recompensas\n",
    "P = np.array([[0.5,0.25,0.25],\n",
    "              [0.2,0.40,0.40],\n",
    "              [0.80,0.10,0.10]])  # matriz de transición\n",
    "gamma = 0.99\n",
    "\n",
    "V = R + gamma*np.matmul(P, V)\n",
    "V"
   ]
  },
  {
   "cell_type": "markdown",
   "metadata": {},
   "source": [
    "# Redes Neuronales\n",
    "\n",
    "### Ejercicio \n",
    "\n",
    "Implementar en una funcion neural_network(X) la red neuronal definida por la siguiente arquitectura:\n",
    "\n",
    "<img src=\"http://i.imgur.com/UNlffE1.png\">\n",
    "\n",
    "Podemos validar si fue correctamente implementada si usamos como entrada el vector x=[1,1] . Debemos obtener el resultado mostrado en la imagen.\n",
    "\n",
    "Una vez tenemos la implementacion correcta, cambiar la funcion de activacion de la capa de salida por la funcion de activacion ReLu(https://en.wikipedia.org/wiki/Rectifier_(neural_networks)):\n",
    "\n",
    "<img src=\"https://cdn-images-1.medium.com/max/1600/1*DfMRHwxY1gyyDmrIAd-gjQ.png\">\n",
    "\n",
    "Luego evaluar la red neuronal sobre la matriz de datos X(de manera vectorizada):"
   ]
  },
  {
   "cell_type": "code",
   "execution_count": 19,
   "metadata": {},
   "outputs": [],
   "source": [
    "def sigmoid(x): \n",
    "    #convertir los valores de x al rango de 0 a 1\n",
    "    return 1/(1 + np.exp(-x))"
   ]
  },
  {
   "cell_type": "code",
   "execution_count": 18,
   "metadata": {},
   "outputs": [
    {
     "name": "stdout",
     "output_type": "stream",
     "text": [
      "[0.69269553]\n"
     ]
    }
   ],
   "source": [
    "# Ingrese los valores en la matriz\n",
    "inputs = np.array([1,1])\n",
    "\n",
    "def proceso(x):\n",
    "#Asignación de parametros por capa\n",
    "    capa1 = np.array([[0.712,0.355,0.268], [0.112,0.855,0.468]])\n",
    "    capa2 = np.array([[0.116], [0.329], [0.708]])\n",
    "#Asignación de respuestas\n",
    "    av1 = sigmoid(np.matmul(x, capa1))\n",
    "    av2 = sigmoid(np.matmul(av1, capa2))\n",
    "    return av2\n",
    "\n",
    "# comprobación\n",
    "print(proceso(inputs))"
   ]
  }
 ],
 "metadata": {
  "kernelspec": {
   "display_name": "Python 3",
   "language": "python",
   "name": "python3"
  },
  "language_info": {
   "codemirror_mode": {
    "name": "ipython",
    "version": 3
   },
   "file_extension": ".py",
   "mimetype": "text/x-python",
   "name": "python",
   "nbconvert_exporter": "python",
   "pygments_lexer": "ipython3",
   "version": "3.7.2"
  }
 },
 "nbformat": 4,
 "nbformat_minor": 2
}
