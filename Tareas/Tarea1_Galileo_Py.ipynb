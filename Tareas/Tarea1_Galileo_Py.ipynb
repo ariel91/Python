{
 "cells": [
  {
   "cell_type": "markdown",
   "metadata": {},
   "source": [
    "# Anaconda\n",
    "\n",
    "Anaconda es una distribución de ciencia de datos para Python y R, esta distribución incluye una colección de más de 1500 paquetes de código abierto.\n",
    "\n",
    "# Ventajas\n",
    "\n",
    "* Soporte comunitario gratuito\n",
    "* Posee Interfaz Gráfica (Navigator)\n",
    "* Puede manejarlo desde una terminal (Anaconda Prompt)\n",
    "* Todo es código abierto.\n",
    "\n",
    "https://docs.anaconda.com/anaconda/\n",
    "\n",
    "# Instalacion de Anaconda para Linux\n",
    "\n",
    "Para sistemas x86.\n",
    "\n",
    "1. En su navegador, descargue el instalador Anaconda para Linux .\n",
    "2. Ubiquese en la carpeta donde se descargo Anaconda3.\n",
    "2. Ingrese lo siguiente para instalar Anaconda para Python 3.7: <br>`bash Anaconda3-5.3.0-Linux-x86_64.sh`\n",
    "3. "
   ]
  }
 ],
 "metadata": {
  "kernelspec": {
   "display_name": "Python 3",
   "language": "python",
   "name": "python3"
  },
  "language_info": {
   "codemirror_mode": {
    "name": "ipython",
    "version": 3
   },
   "file_extension": ".py",
   "mimetype": "text/x-python",
   "name": "python",
   "nbconvert_exporter": "python",
   "pygments_lexer": "ipython3",
   "version": "3.5.3"
  }
 },
 "nbformat": 4,
 "nbformat_minor": 2
}
