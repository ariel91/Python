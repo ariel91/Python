{
 "cells": [
  {
   "cell_type": "markdown",
   "metadata": {},
   "source": [
    "# Jaime Ariel Chitay\n",
    "# 19002065\n",
    "# Python aplicado a ciencia de datos"
   ]
  },
  {
   "cell_type": "markdown",
   "metadata": {},
   "source": [
    "# Proyeccion vectorial \n",
    "\n",
    "Se puede considerar una proyeccion vectorial a la sombra que genera un vector sobre uno de sus ejes o sobre otro.\n",
    "\n",
    "## Ejemplo de forma matematica\n",
    "\n",
    "\n",
    "<img src=\"proyeccion1.png\">\n",
    "\n",
    "\n",
    "## Ejemplo de forma abstracta\n",
    "\n",
    "<img src=\"http://4.bp.blogspot.com/-hNxDRB2QBig/Tikqi5MSfoI/AAAAAAAAANk/9nGr11vsqTk/s1600/proy.png\">\n",
    "\n",
    "\n"
   ]
  },
  {
   "cell_type": "markdown",
   "metadata": {},
   "source": [
    "# Producto punto\n",
    "Es el producto de dos vectores y como resultande da un escalar.\n",
    "\n",
    "# Determinante\n",
    "Es sacar la magnitud de un vector elevando sus componentes al cuadrado y sacando su raiz cuadrada.\n",
    "\n",
    "# Proyeccion vectorial\n",
    "Es la sombra que genera un vector sobre otro, se logra a partir de la division entre el producto punto de dos vectores y la magnitud de donde se quiere analizar la proyeccion."
   ]
  },
  {
   "cell_type": "code",
   "execution_count": 23,
   "metadata": {},
   "outputs": [
    {
     "name": "stdout",
     "output_type": "stream",
     "text": [
      "2.2\n"
     ]
    }
   ],
   "source": [
    "import numpy as np\n",
    "#Declarando vectores\n",
    "x = np.arange(1, 3)\n",
    "y = np.array([3, 4])\n",
    "# Generando producto punto\n",
    "p1 = np.dot(x, y)\n",
    "# Generando la norma de un vector\n",
    "p2 = np.linalg.norm(y)\n",
    "#Generando la proyecccion\n",
    "p = p1/p2\n",
    "print (p)"
   ]
  },
  {
   "cell_type": "markdown",
   "metadata": {},
   "source": [
    "# Aplicacion de las proyecciones vectoriales\n",
    "\n",
    "Las proyecciones vectoriales haciendo un mapa de muchas de ellas nos puede ayudar a saber a donde va a converger un comportamiento.\n",
    "\n",
    "<img src=\"http://fcm.ens.uabc.mx/~chelo/analisis%20vectorial/nucleos/capitulo3/l3_6_files/image002.jpg\">\n",
    "\n",
    "\n"
   ]
  }
 ],
 "metadata": {
  "kernelspec": {
   "display_name": "Python 3",
   "language": "python",
   "name": "python3"
  },
  "language_info": {
   "codemirror_mode": {
    "name": "ipython",
    "version": 3
   },
   "file_extension": ".py",
   "mimetype": "text/x-python",
   "name": "python",
   "nbconvert_exporter": "python",
   "pygments_lexer": "ipython3",
   "version": "3.7.2"
  }
 },
 "nbformat": 4,
 "nbformat_minor": 2
}
