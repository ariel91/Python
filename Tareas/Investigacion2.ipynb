{
 "cells": [
  {
   "cell_type": "markdown",
   "metadata": {},
   "source": [
    "# Jaime Ariel Chitay Bautista\n",
    "# 19002065"
   ]
  },
  {
   "cell_type": "markdown",
   "metadata": {},
   "source": [
    "# Funciones\n",
    "## Funciones de llamadas\n",
    "En el contexto de la programación, una función es una secuencia de instrucciones con nombre que realiza un cálculo. Cuando define una función, especifica el nombre y la secuencia de instrucciones. Más tarde, puede \"llamar\" a la función por su nombre. Por ejemplo:"
   ]
  },
  {
   "cell_type": "code",
   "execution_count": 2,
   "metadata": {},
   "outputs": [
    {
     "data": {
      "text/plain": [
       "int"
      ]
     },
     "execution_count": 2,
     "metadata": {},
     "output_type": "execute_result"
    }
   ],
   "source": [
    "type(42)"
   ]
  },
  {
   "cell_type": "markdown",
   "metadata": {},
   "source": [
    "El nombre de la función es ```type```. La expresión entre paréntesis se llama el ***argumento*** de la función. El argumento es un valor o variable que estamos pasando a la función como entrada a la función. El resultado, para la typefunción, es el tipo de argumento.\n",
    "\n",
    "Es común decir que una función \"toma\" un argumento y \"devuelve\" un resultado. El resultado se llama el ***valor de retorno o return value*** "
   ]
  },
  {
   "cell_type": "markdown",
   "metadata": {},
   "source": [
    "# Funciones integradas (Built-in functions)\n",
    "Python proporciona una serie de funciones integradas importantes que podemos usar sin necesidad de proporcionar la definición de la función. Los creadores de Python escribieron un conjunto de funciones para resolver problemas comunes y las incluyeron en Python para que las utilicemos.\n",
    "\n",
    "Las funciones ```max min``` dan los valores más grandes y más pequeños en una lista, respectivamente:"
   ]
  },
  {
   "cell_type": "code",
   "execution_count": 8,
   "metadata": {},
   "outputs": [
    {
     "name": "stdout",
     "output_type": "stream",
     "text": [
      "w\n"
     ]
    },
    {
     "data": {
      "text/plain": [
       "' '"
      ]
     },
     "execution_count": 8,
     "metadata": {},
     "output_type": "execute_result"
    }
   ],
   "source": [
    "print(max('Hello world'))\n",
    "min('Hello world')"
   ]
  },
  {
   "cell_type": "markdown",
   "metadata": {},
   "source": [
    "La funcion <b>max</b> nos dice el \"carácter más grande\" en la cadena (que resulta ser la letra \"w\") y la función <b>min</b> nos muestra el carácter más pequeño (que es un espacio).\n",
    "\n",
    "Otra función incorporada muy común es la función <b>len</b> que nos dice cuántos elementos hay en su argumento. Si el argumento lenes una cadena, devuelve el número de caracteres en la cadena."
   ]
  },
  {
   "cell_type": "markdown",
   "metadata": {},
   "source": [
    "# Parametros y Argumentos\n",
    "\n",
    "Algunas de las funciones incorporadas que hemos visto requieren argumentos. Por ejemplo, cuando llamas `math.sin` pasa un número como argumento. Algunas funciones toman más de un argumento: `math.pow` toma dos, la base y el exponente.\n",
    "\n",
    "Dentro de la función, los argumentos se asignan a variables llamadas parámetros . Aquí hay un ejemplo de una función definida por el usuario que toma un argumento:"
   ]
  },
  {
   "cell_type": "code",
   "execution_count": 2,
   "metadata": {},
   "outputs": [],
   "source": [
    "def print_twice(bruce):\n",
    "    print(bruce)\n",
    "    print(bruce)"
   ]
  },
  {
   "cell_type": "markdown",
   "metadata": {},
   "source": [
    "Esta función asigna el argumento a un parámetro llamado bruce. Cuando se llama a la función, imprime el valor del parámetro (cualquiera que sea) dos veces.Esta función funciona con cualquier valor que se pueda imprimir."
   ]
  },
  {
   "cell_type": "code",
   "execution_count": 3,
   "metadata": {},
   "outputs": [
    {
     "name": "stdout",
     "output_type": "stream",
     "text": [
      "Spam\n",
      "Spam\n"
     ]
    }
   ],
   "source": [
    "print_twice('Spam')"
   ]
  },
  {
   "cell_type": "markdown",
   "metadata": {},
   "source": [
    "# Parametros Posicionales y Parametros Nombrados\n",
    "\n",
    "Es cuando independientemente de donde posiciones la variable, siempre y cuando los nombres de la forma correcta las salidas siempre seran las mismas."
   ]
  },
  {
   "cell_type": "code",
   "execution_count": 7,
   "metadata": {},
   "outputs": [
    {
     "name": "stdout",
     "output_type": "stream",
     "text": [
      "Hola Pedrito, ¿cómo estás?\n"
     ]
    }
   ],
   "source": [
    "def saludo(nombre, mensaje=\"encantado de saludarte\"):\n",
    "    print(\"Hola {}, {}\".format(nombre, mensaje))\n",
    "#Ejemplo    \n",
    "saludo(mensaje=\"¿cómo estás?\", nombre=\"Pedrito\")"
   ]
  },
  {
   "cell_type": "markdown",
   "metadata": {},
   "source": [
    "# Retorno de multiples valores\n",
    "\n",
    "Es cuando una funcion dentro de si misma esta creada para devolver varios valores"
   ]
  },
  {
   "cell_type": "markdown",
   "metadata": {},
   "source": [
    "# funciones como objetos y como parametros de otras funciones\n",
    "\n",
    "Toda funcion tiene atributos y metodos dentro de si y a la vez las funciones pueden funcionar como parametros de otras funciones"
   ]
  },
  {
   "cell_type": "markdown",
   "metadata": {},
   "source": [
    "# funciones anonimas o lambda\n",
    "\n",
    "Una función lambda es cuando enviamos a una función de orden superior directamente una función anónima"
   ]
  }
 ],
 "metadata": {
  "kernelspec": {
   "display_name": "Python 3",
   "language": "python",
   "name": "python3"
  },
  "language_info": {
   "codemirror_mode": {
    "name": "ipython",
    "version": 3
   },
   "file_extension": ".py",
   "mimetype": "text/x-python",
   "name": "python",
   "nbconvert_exporter": "python",
   "pygments_lexer": "ipython3",
   "version": "3.7.2"
  }
 },
 "nbformat": 4,
 "nbformat_minor": 2
}
