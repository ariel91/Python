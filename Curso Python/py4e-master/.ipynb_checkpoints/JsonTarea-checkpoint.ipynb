{
 "cells": [
  {
   "cell_type": "markdown",
   "metadata": {},
   "source": [
    "Bienvenido Ariel Chitay de Python para todos\n",
    "\n",
    "Extrayendo datos de JSON\n",
    "\n",
    "En esta tarea escribirás un programa de Python similar a http://www.py4e.com/code3/json2.py. El programa solicitará una URL, leerá los datos JSON de esa URL usando urllib y luego analizará y extraerá los conteos de comentarios de los datos JSON, calculará la suma de los números en el archivo e ingresará la suma a continuación: Proporcionamos dos archivos para esta asignación. Uno es un archivo de muestra donde le damos la suma de sus pruebas y el otro es la información real que necesita procesar para la tarea.\n",
    "\n",
    "Datos de muestra: http://py4e-data.dr-chuck.net/comments_42.json (Sum = 2553) \n",
    "Datos reales: http://py4e-data.dr-chuck.net/comments_81304.json (La suma finaliza con 32 )\n",
    "\n",
    "No necesita guardar estos archivos en su carpeta ya que su programa leerá los datos directamente desde la URL. Nota: Cada estudiante tendrá una url de datos distinta para la tarea, por lo que solo debe usar su propia URL de datos para el análisis. Formato de datos Los datos consisten en una cantidad de nombres y conteos de comentarios en JSON de la siguiente manera:"
   ]
  },
  {
   "cell_type": "code",
   "execution_count": null,
   "metadata": {},
   "outputs": [],
   "source": [
    "{\n",
    "  comments: [\n",
    "    {\n",
    "      name: \"Matthias\"\n",
    "      count: 97\n",
    "    },\n",
    "    {\n",
    "      name: \"Geomer\"\n",
    "      count: 97\n",
    "    }\n",
    "    ...\n",
    "  ]\n",
    "}"
   ]
  },
  {
   "cell_type": "markdown",
   "metadata": {},
   "source": [
    "The closest sample code that shows how to parse JSON and extract a list is json2.py. You might also want to look at geoxml.py to see how to prompt for a URL and retrieve data from a URL.\n",
    "\n",
    "Sample Execution"
   ]
  },
  {
   "cell_type": "code",
   "execution_count": null,
   "metadata": {},
   "outputs": [],
   "source": [
    "$ python3 solution.py\n",
    "Enter location: http://py4e-data.dr-chuck.net/comments_42.json\n",
    "Retrieving http://py4e-data.dr-chuck.net/comments_42.json\n",
    "Retrieved 2733 characters\n",
    "Count: 50\n",
    "Sum: 2..."
   ]
  },
  {
   "cell_type": "code",
   "execution_count": null,
   "metadata": {},
   "outputs": [],
   "source": []
  },
  {
   "cell_type": "code",
   "execution_count": 7,
   "metadata": {},
   "outputs": [
    {
     "name": "stdout",
     "output_type": "stream",
     "text": [
      "User count: 2\n",
      "Name Chuck\n",
      "Id 001\n",
      "Attribute 2\n",
      "Name Chuck\n",
      "Id 009\n",
      "Attribute 7\n",
      "<class 'dict'>\n",
      "<class 'list'>\n"
     ]
    }
   ],
   "source": [
    "import json\n",
    "\n",
    "data = '''\n",
    "[\n",
    "  { \"id\" : \"001\",\n",
    "    \"x\" : \"2\",\n",
    "    \"name\" : \"Chuck\"\n",
    "  } ,\n",
    "  { \"id\" : \"009\",\n",
    "    \"x\" : \"7\",\n",
    "    \"name\" : \"Chuck\"\n",
    "  }\n",
    "]'''\n",
    "\n",
    "info = json.loads(data)\n",
    "print('User count:', len(info))\n",
    "\n",
    "for item in info:\n",
    "    print('Name', item['name'])\n",
    "    print('Id', item['id'])\n",
    "    print('Attribute', item['x'])\n",
    "    \n",
    "print(type(item))\n",
    "print(type(info))"
   ]
  },
  {
   "cell_type": "code",
   "execution_count": 47,
   "metadata": {
    "scrolled": true
   },
   "outputs": [
    {
     "name": "stdout",
     "output_type": "stream",
     "text": [
      "Enter address: http://py4e-data.dr-chuck.net/comments_42.json\n",
      "Retrieving http://py4e-data.dr-chuck.net/comments_42.json\n",
      "Retrieved 2711 characters\n",
      "Counts: note\n",
      "name*********: This file contains the sample data for testing\n",
      "Counts: comments\n",
      "name*********: [{'count': 97, 'name': 'Romina'}, {'count': 97, 'name': 'Laurie'}, {'count': 90, 'name': 'Bayli'}, {'count': 90, 'name': 'Siyona'}, {'count': 88, 'name': 'Taisha'}, {'count': 87, 'name': 'Alanda'}, {'count': 87, 'name': 'Ameelia'}, {'count': 80, 'name': 'Prasheeta'}, {'count': 79, 'name': 'Asif'}, {'count': 79, 'name': 'Risa'}, {'count': 78, 'name': 'Zi'}, {'count': 76, 'name': 'Danyil'}, {'count': 76, 'name': 'Ediomi'}, {'count': 72, 'name': 'Barry'}, {'count': 72, 'name': 'Lance'}, {'count': 66, 'name': 'Hattie'}, {'count': 66, 'name': 'Mathu'}, {'count': 65, 'name': 'Bowie'}, {'count': 65, 'name': 'Samara'}, {'count': 64, 'name': 'Uchenna'}, {'count': 61, 'name': 'Shauni'}, {'count': 61, 'name': 'Georgia'}, {'count': 59, 'name': 'Rivan'}, {'count': 58, 'name': 'Kenan'}, {'count': 57, 'name': 'Hassan'}, {'count': 57, 'name': 'Isma'}, {'count': 54, 'name': 'Samanthalee'}, {'count': 51, 'name': 'Alexa'}, {'count': 49, 'name': 'Caine'}, {'count': 47, 'name': 'Grady'}, {'count': 40, 'name': 'Anne'}, {'count': 38, 'name': 'Rihan'}, {'count': 37, 'name': 'Alexei'}, {'count': 36, 'name': 'Indie'}, {'count': 36, 'name': 'Rhuairidh'}, {'count': 32, 'name': 'Annoushka'}, {'count': 25, 'name': 'Kenzi'}, {'count': 24, 'name': 'Shahd'}, {'count': 22, 'name': 'Irvine'}, {'count': 21, 'name': 'Carys'}, {'count': 19, 'name': 'Skye'}, {'count': 18, 'name': 'Atiya'}, {'count': 18, 'name': 'Rohan'}, {'count': 14, 'name': 'Nuala'}, {'count': 12, 'name': 'Maram'}, {'count': 12, 'name': 'Carlo'}, {'count': 9, 'name': 'Japleen'}, {'count': 7, 'name': 'Breeanna'}, {'count': 3, 'name': 'Zaaine'}, {'count': 2, 'name': 'Inika'}]\n"
     ]
    }
   ],
   "source": [
    "import urllib.request, urllib.parse, urllib.error, xml.etree.ElementTree as ET\n",
    "\n",
    "#while True:\n",
    "url = input('Enter address: ')\n",
    "sigma = 0\n",
    "print('Retrieving', url) #Imprime la URL que se ha analizado\n",
    "uh = urllib.request.urlopen(url) #abre la URL con la informacion que posee\n",
    "data = uh.read().decode() # Lee la informacion de la URL y la decodifica a formato normal\n",
    "print('Retrieved', len(data), 'characters')#Imprime el numero de caracteres\n",
    "info = json.loads(data)\n",
    "info2 = list(info)\n",
    "#print(info)\n",
    "#print(info.items())\n",
    "for k,v in info.items():\n",
    "    print('Counts: {}'.format(k))\n",
    "    print('name*********: {}'.format(v))\n",
    " \n",
    "    \n",
    "        "
   ]
  },
  {
   "cell_type": "code",
   "execution_count": 9,
   "metadata": {},
   "outputs": [
    {
     "name": "stdout",
     "output_type": "stream",
     "text": [
      "Enter address: http://py4e-data.dr-chuck.net/comments_81304.json\n",
      "Retrieving http://py4e-data.dr-chuck.net/comments_81304.json\n",
      "Retrieved 2693 characters\n",
      "count 100\n",
      "count 97\n",
      "count 97\n",
      "count 97\n",
      "count 94\n",
      "count 93\n",
      "count 90\n",
      "count 88\n",
      "count 84\n",
      "count 82\n",
      "count 78\n",
      "count 75\n",
      "count 73\n",
      "count 73\n",
      "count 69\n",
      "count 66\n",
      "count 60\n",
      "count 60\n",
      "count 56\n",
      "count 51\n",
      "count 48\n",
      "count 48\n",
      "count 47\n",
      "count 43\n",
      "count 40\n",
      "count 40\n",
      "count 38\n",
      "count 35\n",
      "count 34\n",
      "count 33\n",
      "count 33\n",
      "count 32\n",
      "count 31\n",
      "count 29\n",
      "count 25\n",
      "count 25\n",
      "count 22\n",
      "count 22\n",
      "count 21\n",
      "count 20\n",
      "count 17\n",
      "count 13\n",
      "count 13\n",
      "count 11\n",
      "count 11\n",
      "count 9\n",
      "count 3\n",
      "count 3\n",
      "count 2\n",
      "count 1\n",
      "Count: 2332\n"
     ]
    }
   ],
   "source": [
    "import urllib.request, urllib.parse, urllib.error, json\n",
    "\n",
    "#while True:\n",
    "url = input('Enter address: ')\n",
    "sigma = 0\n",
    "print('Retrieving', url) #Imprime la URL que se ha analizado\n",
    "uh = urllib.request.urlopen(url)\n",
    "data = uh.read().decode('utf-8')\n",
    "print('Retrieved', len(data), 'characters')#Imprime el numero de caracteres\n",
    "info = json.loads(data)\n",
    "for item in info['comments']:\n",
    "    print('count', item['count'])\n",
    "    sigma += item['count']\n",
    "    \n",
    "print (\"Count: {}\".format(sigma))\n",
    "#print (\"Sum: {0}\".format(sum(counts)))\n",
    "    "
   ]
  },
  {
   "cell_type": "code",
   "execution_count": 19,
   "metadata": {},
   "outputs": [
    {
     "name": "stdout",
     "output_type": "stream",
     "text": [
      "Enter location: http://py4e-data.dr-chuck.net/comments_81304.json\n",
      "Retrieving  http://py4e-data.dr-chuck.net/comments_81304.json\n",
      "Retrieved 2693 characters\n",
      "Count: 50\n",
      "Sum: 2332\n"
     ]
    }
   ],
   "source": [
    "import urllib.request as ur\n",
    "import json\n",
    "\n",
    "# json_url = 'http://python-data.dr-chuck.net/comments_42.json'\n",
    "\n",
    "json_url = input(\"Enter location: \")\n",
    "print(\"Retrieving \", json_url)\n",
    "data = ur.urlopen(json_url).read().decode('utf-8')\n",
    "print('Retrieved', len(data), 'characters')\n",
    "json_obj = json.loads(data)\n",
    "\n",
    "sum = 0\n",
    "total_number = 0\n",
    "\n",
    "for comment in json_obj[\"comments\"]:\n",
    "    sum += int(comment[\"count\"])\n",
    "    total_number += 1\n",
    "\n",
    "print('Count:', total_number)\n",
    "print('Sum:', sum)\n",
    "\n"
   ]
  },
  {
   "cell_type": "code",
   "execution_count": null,
   "metadata": {},
   "outputs": [],
   "source": []
  }
 ],
 "metadata": {
  "kernelspec": {
   "display_name": "Python 3",
   "language": "python",
   "name": "python3"
  },
  "language_info": {
   "codemirror_mode": {
    "name": "ipython",
    "version": 3
   },
   "file_extension": ".py",
   "mimetype": "text/x-python",
   "name": "python",
   "nbconvert_exporter": "python",
   "pygments_lexer": "ipython3",
   "version": "3.5.2"
  }
 },
 "nbformat": 4,
 "nbformat_minor": 2
}
