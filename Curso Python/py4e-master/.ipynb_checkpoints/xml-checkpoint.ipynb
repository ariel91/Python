{
 "cells": [
  {
   "cell_type": "markdown",
   "metadata": {},
   "source": [
    "## Using Web Services\n",
    "\n",
    "Una vez que fue fácil recuperar documentos y analizar documentos a través de HTTP utilizando programas, no pasó mucho tiempo para desarrollar un enfoque donde\n",
    "\n",
    "comenzó a producir documentos que fueron diseñados específicamente para ser consumidos por otros programas (es decir, no HTML para mostrarse en un navegador).\n",
    "\n",
    "Hay dos formatos comunes que usamos cuando intercambiamos datos a través de la web. El \"lenguaje de marcado extensible\" o XML ha estado en uso durante mucho tiempo y es el más adecuado para el intercambio de datos de estilo de documento. Cuando los programas solo desean intercambiar diccionarios, listas u otra información interna entre ellos, usan JavaScript Object Notation o JSON (consulte www.json.org). Veremos ambos formatos.\n",
    "\n",
    "## eXtensible Markup Language - XML(Lenguaje de marcado extensible)\n",
    "XML se ve muy similar a HTML, pero XML está más estructurado que HTML. Aquí hay una muestra de un documento XML:"
   ]
  },
  {
   "cell_type": "code",
   "execution_count": null,
   "metadata": {},
   "outputs": [],
   "source": [
    "<person>\n",
    "  <name>Chuck</name>\n",
    "  <phone type=\"intl\">\n",
    "     +1 734 303 4456\n",
    "   </phone>\n",
    "   <email hide=\"yes\"/>\n",
    "</person>"
   ]
  },
  {
   "cell_type": "markdown",
   "metadata": {},
   "source": []
  },
  {
   "cell_type": "markdown",
   "metadata": {},
   "source": [
    "A menudo es útil pensar en un documento XML como una estructura de árbol donde hay una persona de etiqueta superior y otras etiquetas, como el teléfono, dibujadas como elementos secundarios de sus nodos principales.\n",
    "\n",
    "![](arbol.svg)\n",
    "\n",
    "### La representacion de arbol en XML\n"
   ]
  },
  {
   "cell_type": "markdown",
   "metadata": {},
   "source": [
    "## Parsing XML (Análisis XML)\n",
    "Aquí hay una aplicación simple que analiza algunos XML y extrae algunos elementos de datos del XML:"
   ]
  },
  {
   "cell_type": "code",
   "execution_count": 3,
   "metadata": {},
   "outputs": [
    {
     "name": "stdout",
     "output_type": "stream",
     "text": [
      "Name: Chuck\n",
      "Attr: yes\n"
     ]
    }
   ],
   "source": [
    "import xml.etree.ElementTree as ET\n",
    "\n",
    "data = '''\n",
    "<person>\n",
    "  <name>Chuck</name>\n",
    "  <phone type=\"intl\">\n",
    "     +1 734 303 4456\n",
    "   </phone>\n",
    "   <email hide=\"yes\"/>\n",
    "</person>'''\n",
    "\n",
    "tree = ET.fromstring(data)\n",
    "print('Name:', tree.find('name').text)\n",
    "print('Attr:', tree.find('email').get('hide'))\n",
    "\n",
    "# Code: http://www.py4e.com/code3/xml1.py\n",
    "    "
   ]
  },
  {
   "cell_type": "markdown",
   "metadata": {},
   "source": [
    "Llamar <b>fromstring convierte la representación de cadena del XML en un \"árbol\" de nodos XML</b>. Cuando XML está en un árbol, tenemos una serie de métodos a los que podemos llamar para extraer porciones de datos del XML.\n",
    "\n",
    "La find function busca en el árbol XML y recupera un nodo que coincide con la etiqueta especificada. Cada nodo puede tener texto, algunos atributos (como hide) y algunos nodos \"secundarios\"(child nodes). Cada nodo puede ser la parte superior de un árbol de nodos.\n",
    "\n",
    "El uso de un analizador XML como ElementTree tiene la ventaja de que si bien el XML en este ejemplo es bastante simple, resulta que hay muchas reglas sobre XML válido y el uso de ElementTree nos permite extraer datos de XML sin preocuparse por las reglas de la sintaxis XML."
   ]
  },
  {
   "cell_type": "markdown",
   "metadata": {},
   "source": [
    "## Looping through nodes (Looping a través de los nodos)\n",
    "A menudo, el XML tiene múltiples nodos y necesitamos escribir un bucle para procesar todos los nodos. En el siguiente programa, recorremos todos los nodos de usuario"
   ]
  },
  {
   "cell_type": "code",
   "execution_count": 21,
   "metadata": {},
   "outputs": [
    {
     "name": "stdout",
     "output_type": "stream",
     "text": [
      "<Element 'stuff' at 0x7facf4181318>\n",
      "[<Element 'user' at 0x7facf41811d8>, <Element 'user' at 0x7facf4165ea8>]\n",
      "User count: 2\n",
      "Name Chuck\n",
      "Id 001\n",
      "Attribute 2\n",
      "Name Brent\n",
      "Id 009\n",
      "Attribute 7\n"
     ]
    }
   ],
   "source": [
    "import xml.etree.ElementTree as ET\n",
    "\n",
    "input = '''\n",
    "<stuff>\n",
    "    <users>\n",
    "        <user x=\"2\">\n",
    "            <id>001</id>\n",
    "            <name>Chuck</name>\n",
    "        </user>\n",
    "        <user x=\"7\">\n",
    "            <id>009</id>\n",
    "            <name>Brent</name>\n",
    "        </user>\n",
    "    </users>\n",
    "</stuff>''' #colocamos en un comentario multilinea lo que guardaremos en la variable input\n",
    "\n",
    "stuff = ET.fromstring(input) #Convierte el testo input en un diagrama de arbol tipo xml\n",
    "print(stuff)\n",
    "lst = stuff.findall('users/user') #Sub arboles del arbol\n",
    "print(lst)\n",
    "print('User count:', len(lst)) # Imprime la cantidad de ramas Users/user que existen \n",
    "\n",
    "for item in lst:\n",
    "    print('Name', item.find('name').text)\n",
    "    print('Id', item.find('id').text)\n",
    "    print('Attribute', item.get(\"x\"))\n",
    "\n",
    "# Code: http://www.py4e.com/code3/xml2.py"
   ]
  },
  {
   "cell_type": "markdown",
   "metadata": {},
   "source": [
    "El método findall recupera una lista de Python de subárboles que representan las estructuras de usuario en el árbol XML. Luego, podemos escribir un bucle for que examina cada uno de los nodos de usuario, e imprime los elementos de nombre y texto, así como también el atributo x del nodo de usuario.\n",
    "\n",
    "## JavaScript Object Notation - JSON (Notación de objetos JavaScript - JSON)\n",
    "\n",
    "El formato JSON se inspiró en el objjet and array format, utilizado en el lenguaje JavaScript. Pero como Python se inventó antes que JavaScript, la sintaxis de Python para diccionarios y listas influyó en la sintaxis de JSON. Entonces, el formato de JSON es casi idéntico a una combinación de listas y diccionarios de Python.\n",
    "\n",
    "Aquí hay una codificación JSON que es más o menos equivalente al XML simple de arriba:"
   ]
  },
  {
   "cell_type": "code",
   "execution_count": 1,
   "metadata": {},
   "outputs": [
    {
     "data": {
      "text/plain": [
       "{'email': {'hide': 'yes'},\n",
       " 'name': 'Chuck',\n",
       " 'phone': {'number': '+1 734 303 4456', 'type': 'intl'}}"
      ]
     },
     "execution_count": 1,
     "metadata": {},
     "output_type": "execute_result"
    }
   ],
   "source": [
    "{\n",
    "  \"name\" : \"Chuck\",\n",
    "  \"phone\" : {\n",
    "    \"type\" : \"intl\",\n",
    "    \"number\" : \"+1 734 303 4456\"\n",
    "   },\n",
    "   \"email\" : {\n",
    "     \"hide\" : \"yes\"\n",
    "   }\n",
    "}"
   ]
  },
  {
   "cell_type": "markdown",
   "metadata": {},
   "source": [
    "Notarás algunas diferencias. Primero, en XML, podemos agregar atributos como \"intl\" a la etiqueta \"teléfono\". En JSON, simplemente tenemos pares clave-valor. Además, la etiqueta XML \"persona\" se ha ido, reemplazada por un conjunto de llaves externas.\n",
    "\n",
    "En general, las estructuras JSON son más simples que XML porque JSON tiene menos capacidades que XML. Pero JSON tiene la ventaja de que se asigna directamente a una combinación de diccionarios y listas. Y dado que casi todos los lenguajes de programación tienen algo equivalente a los diccionarios y listas de Python, JSON es un formato muy natural para que dos programas cooperantes intercambien datos.\n",
    "\n",
    "JSON se está convirtiendo rápidamente en el formato de elección para casi todos los intercambios de datos entre aplicaciones debido a su relativa simplicidad en comparación con XML.\n",
    "\n",
    "## Parsing JSON\n",
    "\n",
    "Construimos nuestro JSON anidando diccionarios (objetos) y listas según sea necesario. En este ejemplo, representamos una lista de usuarios en donde cada usuario es un conjunto de pares clave-valor (es decir, un diccionario). Entonces tenemos una lista de diccionarios.\n",
    "\n",
    "En el siguiente programa, usamos la biblioteca json incorporada para analizar el JSON y leer los datos. Compare esto de cerca con los datos XML equivalentes y el código anterior. El JSON tiene menos detalles, por lo que debemos saber de antemano que estamos obteniendo una lista y que la lista de usuarios y que cada uno es un conjunto de pares clave-valor. El JSON es también sucinto (una ventaja) pero también es menos autodescriptivo (una desventaja)."
   ]
  },
  {
   "cell_type": "code",
   "execution_count": 4,
   "metadata": {},
   "outputs": [
    {
     "name": "stdout",
     "output_type": "stream",
     "text": [
      "User count: 2\n",
      "[{'id': '001', 'x': '2', 'name': 'Chuck'}, {'id': '009', 'x': '7', 'name': 'Chuck'}]\n",
      "Name Chuck\n",
      "Id 001\n",
      "Attribute 2\n",
      "Name Chuck\n",
      "Id 009\n",
      "Attribute 7\n"
     ]
    },
    {
     "data": {
      "text/plain": [
       "dict"
      ]
     },
     "execution_count": 4,
     "metadata": {},
     "output_type": "execute_result"
    }
   ],
   "source": [
    "import json\n",
    "\n",
    "data = '''\n",
    "[\n",
    "  { \"id\" : \"001\",\n",
    "    \"x\" : \"2\",\n",
    "    \"name\" : \"Chuck\"\n",
    "  } ,\n",
    "  { \"id\" : \"009\",\n",
    "    \"x\" : \"7\",\n",
    "    \"name\" : \"Chuck\"\n",
    "  }\n",
    "]'''\n",
    "\n",
    "info = json.loads(data)\n",
    "print('User count:', len(info))\n",
    "print(info)\n",
    "for item in info:\n",
    "    print('Name', item['name'])\n",
    "    print('Id', item['id'])\n",
    "    print('Attribute', item['x'])\n",
    "    \n",
    "type(item)\n",
    "\n",
    "# Code: http://www.py4e.com/code3/json2.py"
   ]
  },
  {
   "cell_type": "markdown",
   "metadata": {},
   "source": [
    "Si compara el código para extraer datos de JSON y XML analizados, verá que lo que obtenemos de json.loads () es una lista de Python que atravesamos con un bucle for , y cada elemento dentro de esa lista es un diccionario de Python. Una vez que se ha analizado el JSON, podemos usar el operador de índice de Python para extraer los diversos bits de datos para cada usuario. No tenemos que usar la biblioteca JSON para explorar el JSON analizado, ya que los datos devueltos son simplemente estructuras nativas de Python.\n",
    "\n",
    "El resultado de este programa es exactamente el mismo que la versión XML anterior.\n",
    "\n",
    "En general, hay una tendencia de la industria de XML y hacia JSON para servicios web. Debido a que el JSON es más simple y se asigna de forma más directa a las estructuras de datos nativas que ya tenemos en los lenguajes de programación, el código de análisis y extracción de datos suele ser más simple y directo cuando se usa JSON. Pero XML es más autodescriptivo que JSON, por lo que hay algunas aplicaciones donde XML conserva una ventaja. Por ejemplo, la mayoría de los procesadores de texto almacenan documentos internamente usando XML en lugar de JSON."
   ]
  },
  {
   "cell_type": "markdown",
   "metadata": {},
   "source": [
    "## Application Programming Interfaces(Interfaces de programación de aplicaciones API)\n",
    "Ahora tenemos la capacidad de intercambiar datos entre aplicaciones usando el protocolo de transporte de hipertexto (HTTP) y una forma de representar datos complejos que estamos enviando hacia adelante y hacia atrás entre estas aplicaciones usando eXtensible Markup Language (XML) o JavaScript Object Notation (JSON).\n",
    "\n",
    "El siguiente paso es comenzar a definir y documentar los \"contratos\" entre las aplicaciones que utilizan estas técnicas. El nombre general para estos contratos de aplicación a aplicación es Interfaces de programa de aplicación o API. <b>Cuando usamos una API, generalmente un programa hace que un conjunto de servicios esté disponible para su uso por otras aplicaciones y publica las API (es decir, las \"reglas\") que se deben seguir para acceder a los servicios proporcionados por el programa</b>.\n",
    "\n",
    "Cuando comenzamos a construir nuestros programas donde la funcionalidad de nuestro programa incluye el acceso a servicios provistos por otros programas, llamamos al enfoque una Arquitectura Orientada a Servicios o SOA. Un enfoque SOA es aquel en el que nuestra aplicación general hace uso de los servicios de otras aplicaciones. Un enfoque no SOA es cuando la aplicación es una aplicación independiente que contiene todo el código necesario para implementar la aplicación.\n",
    "\n",
    "Vemos muchos ejemplos de SOA cuando usamos la web. Podemos ir a un único sitio web y reservar viajes aéreos, hoteles y automóviles, todo desde un único sitio. Los datos de los hoteles no se almacenan en las computadoras de las aerolíneas. En cambio, las computadoras de las aerolíneas se comunican con los servicios en las computadoras del hotel y recuperan los datos del hotel y se los presentan al usuario. Cuando el usuario acepta hacer una reserva de hotel utilizando el sitio de la aerolínea, el sitio de la aerolínea usa otro servicio web en los sistemas del hotel para realizar la reserva. Y cuando llega el momento de cargar su tarjeta de crédito por toda la transacción, otras computadoras se involucran en el proceso.\n",
    "\n",
    "![](imagenapi.svg)\n",
    "\n",
    "## Service Oriented Architecture(Arquitectura orientada a Servicios SOA)\n",
    "\n",
    "Una arquitectura orientada a servicios tiene muchas ventajas, entre las que se incluyen: (1) siempre mantenemos una sola copia de datos (esto es particularmente importante para cosas como reservas de hotel en las que no queremos realizar demasiados compromisos) y (2) los propietarios de los datos puede establecer las reglas sobre el uso de sus datos. Con estas ventajas, un sistema SOA debe diseñarse cuidadosamente para tener un buen rendimiento y satisfacer las necesidades del usuario.\n",
    "\n",
    "Cuando una aplicación hace que un conjunto de servicios en su API esté disponible en la web, llamamos a estos servicios web .\n",
    "\n",
    "## Google geocoding web service(Servicio web de geocodificación de Google)\n",
    "Google tiene un excelente servicio web que nos permite hacer uso de su gran base de datos de información geográfica. Podemos enviar una cadena de búsqueda geográfica como \"Ann Arbor, MI\" a su API de geocodificación y hacer que Google arroje su mejor estimación sobre en qué lugar del mapa podemos encontrar nuestra cadena de búsqueda y cuéntenos sobre los puntos de referencia cercanos.\n",
    "\n",
    "El servicio de geocodificación es gratuito pero tiene una tarifa limitada por lo que no puede hacer un uso ilimitado de la API en una aplicación comercial. Pero si tiene algunos datos de encuestas donde un usuario final ha ingresado una ubicación en un cuadro de entrada de formato libre, puede usar esta API para limpiar sus datos bastante bien.\n",
    "\n",
    "Cuando utilizas una API gratuita como la API de geocodificación de Google, debes ser respetuoso con el uso de estos recursos. Si demasiadas personas abusan del servicio, Google podría suspender o reducir significativamente su servicio gratuito.\n",
    "\n",
    "Puede leer la documentación en línea para este servicio, pero es bastante simple e incluso puede probarlo usando un navegador escribiendo la siguiente URL en su navegador:\n",
    "\n",
    "http://maps.googleapis.com/maps/api/geocode/json?address=Ann+Arbor%2C+MI\n",
    "\n",
    "Asegúrese de desenvolver la URL y eliminar los espacios de la URL antes de pegarla en su navegador.\n",
    "\n",
    "La siguiente es una aplicación simple para solicitar al usuario una cadena de búsqueda, llamar a la API de geocodificación de Google y extraer información del JSON devuelto."
   ]
  },
  {
   "cell_type": "code",
   "execution_count": 1,
   "metadata": {},
   "outputs": [
    {
     "name": "stdout",
     "output_type": "stream",
     "text": [
      "Enter location: Guatemala\n",
      "Retrieving http://maps.googleapis.com/maps/api/geocode/json?address=Guatemala\n",
      "Retrieved 271 characters\n",
      "==== Failure To Retrieve ====\n",
      "{\n",
      "   \"error_message\" : \"You have exceeded your daily request quota for this API. We recommend registering for a key at the Google Developers Console: https://console.developers.google.com/apis/credentials?project=_\",\n",
      "   \"results\" : [],\n",
      "   \"status\" : \"OVER_QUERY_LIMIT\"\n",
      "}\n",
      "\n"
     ]
    },
    {
     "ename": "KeyboardInterrupt",
     "evalue": "",
     "output_type": "error",
     "traceback": [
      "\u001b[0;31m---------------------------------------------------------------------------\u001b[0m",
      "\u001b[0;31mKeyboardInterrupt\u001b[0m                         Traceback (most recent call last)",
      "\u001b[0;32m~/.local/lib/python3.5/site-packages/ipykernel/kernelbase.py\u001b[0m in \u001b[0;36m_input_request\u001b[0;34m(self, prompt, ident, parent, password)\u001b[0m\n\u001b[1;32m    728\u001b[0m             \u001b[0;32mtry\u001b[0m\u001b[0;34m:\u001b[0m\u001b[0;34m\u001b[0m\u001b[0m\n\u001b[0;32m--> 729\u001b[0;31m                 \u001b[0mident\u001b[0m\u001b[0;34m,\u001b[0m \u001b[0mreply\u001b[0m \u001b[0;34m=\u001b[0m \u001b[0mself\u001b[0m\u001b[0;34m.\u001b[0m\u001b[0msession\u001b[0m\u001b[0;34m.\u001b[0m\u001b[0mrecv\u001b[0m\u001b[0;34m(\u001b[0m\u001b[0mself\u001b[0m\u001b[0;34m.\u001b[0m\u001b[0mstdin_socket\u001b[0m\u001b[0;34m,\u001b[0m \u001b[0;36m0\u001b[0m\u001b[0;34m)\u001b[0m\u001b[0;34m\u001b[0m\u001b[0m\n\u001b[0m\u001b[1;32m    730\u001b[0m             \u001b[0;32mexcept\u001b[0m \u001b[0mException\u001b[0m\u001b[0;34m:\u001b[0m\u001b[0;34m\u001b[0m\u001b[0m\n",
      "\u001b[0;32m~/.local/lib/python3.5/site-packages/jupyter_client/session.py\u001b[0m in \u001b[0;36mrecv\u001b[0;34m(self, socket, mode, content, copy)\u001b[0m\n\u001b[1;32m    802\u001b[0m         \u001b[0;32mtry\u001b[0m\u001b[0;34m:\u001b[0m\u001b[0;34m\u001b[0m\u001b[0m\n\u001b[0;32m--> 803\u001b[0;31m             \u001b[0mmsg_list\u001b[0m \u001b[0;34m=\u001b[0m \u001b[0msocket\u001b[0m\u001b[0;34m.\u001b[0m\u001b[0mrecv_multipart\u001b[0m\u001b[0;34m(\u001b[0m\u001b[0mmode\u001b[0m\u001b[0;34m,\u001b[0m \u001b[0mcopy\u001b[0m\u001b[0;34m=\u001b[0m\u001b[0mcopy\u001b[0m\u001b[0;34m)\u001b[0m\u001b[0;34m\u001b[0m\u001b[0m\n\u001b[0m\u001b[1;32m    804\u001b[0m         \u001b[0;32mexcept\u001b[0m \u001b[0mzmq\u001b[0m\u001b[0;34m.\u001b[0m\u001b[0mZMQError\u001b[0m \u001b[0;32mas\u001b[0m \u001b[0me\u001b[0m\u001b[0;34m:\u001b[0m\u001b[0;34m\u001b[0m\u001b[0m\n",
      "\u001b[0;32m~/.local/lib/python3.5/site-packages/zmq/sugar/socket.py\u001b[0m in \u001b[0;36mrecv_multipart\u001b[0;34m(self, flags, copy, track)\u001b[0m\n\u001b[1;32m    465\u001b[0m         \"\"\"\n\u001b[0;32m--> 466\u001b[0;31m         \u001b[0mparts\u001b[0m \u001b[0;34m=\u001b[0m \u001b[0;34m[\u001b[0m\u001b[0mself\u001b[0m\u001b[0;34m.\u001b[0m\u001b[0mrecv\u001b[0m\u001b[0;34m(\u001b[0m\u001b[0mflags\u001b[0m\u001b[0;34m,\u001b[0m \u001b[0mcopy\u001b[0m\u001b[0;34m=\u001b[0m\u001b[0mcopy\u001b[0m\u001b[0;34m,\u001b[0m \u001b[0mtrack\u001b[0m\u001b[0;34m=\u001b[0m\u001b[0mtrack\u001b[0m\u001b[0;34m)\u001b[0m\u001b[0;34m]\u001b[0m\u001b[0;34m\u001b[0m\u001b[0m\n\u001b[0m\u001b[1;32m    467\u001b[0m         \u001b[0;31m# have first part already, only loop while more to receive\u001b[0m\u001b[0;34m\u001b[0m\u001b[0;34m\u001b[0m\u001b[0m\n",
      "\u001b[0;32mzmq/backend/cython/socket.pyx\u001b[0m in \u001b[0;36mzmq.backend.cython.socket.Socket.recv\u001b[0;34m()\u001b[0m\n",
      "\u001b[0;32mzmq/backend/cython/socket.pyx\u001b[0m in \u001b[0;36mzmq.backend.cython.socket.Socket.recv\u001b[0;34m()\u001b[0m\n",
      "\u001b[0;32mzmq/backend/cython/socket.pyx\u001b[0m in \u001b[0;36mzmq.backend.cython.socket._recv_copy\u001b[0;34m()\u001b[0m\n",
      "\u001b[0;32m~/.local/lib/python3.5/site-packages/zmq/backend/cython/checkrc.pxd\u001b[0m in \u001b[0;36mzmq.backend.cython.checkrc._check_rc\u001b[0;34m()\u001b[0m\n",
      "\u001b[0;31mKeyboardInterrupt\u001b[0m: ",
      "\nDuring handling of the above exception, another exception occurred:\n",
      "\u001b[0;31mKeyboardInterrupt\u001b[0m                         Traceback (most recent call last)",
      "\u001b[0;32m<ipython-input-1-d64257445b2c>\u001b[0m in \u001b[0;36m<module>\u001b[0;34m()\u001b[0m\n\u001b[1;32m      7\u001b[0m \u001b[0;34m\u001b[0m\u001b[0m\n\u001b[1;32m      8\u001b[0m \u001b[0;32mwhile\u001b[0m \u001b[0;32mTrue\u001b[0m\u001b[0;34m:\u001b[0m\u001b[0;34m\u001b[0m\u001b[0m\n\u001b[0;32m----> 9\u001b[0;31m     \u001b[0maddress\u001b[0m \u001b[0;34m=\u001b[0m \u001b[0minput\u001b[0m\u001b[0;34m(\u001b[0m\u001b[0;34m'Enter location: '\u001b[0m\u001b[0;34m)\u001b[0m\u001b[0;34m\u001b[0m\u001b[0m\n\u001b[0m\u001b[1;32m     10\u001b[0m     \u001b[0;32mif\u001b[0m \u001b[0mlen\u001b[0m\u001b[0;34m(\u001b[0m\u001b[0maddress\u001b[0m\u001b[0;34m)\u001b[0m \u001b[0;34m<\u001b[0m \u001b[0;36m1\u001b[0m\u001b[0;34m:\u001b[0m \u001b[0;32mbreak\u001b[0m\u001b[0;34m\u001b[0m\u001b[0m\n\u001b[1;32m     11\u001b[0m \u001b[0;34m\u001b[0m\u001b[0m\n",
      "\u001b[0;32m~/.local/lib/python3.5/site-packages/ipykernel/kernelbase.py\u001b[0m in \u001b[0;36mraw_input\u001b[0;34m(self, prompt)\u001b[0m\n\u001b[1;32m    702\u001b[0m             \u001b[0mself\u001b[0m\u001b[0;34m.\u001b[0m\u001b[0m_parent_ident\u001b[0m\u001b[0;34m,\u001b[0m\u001b[0;34m\u001b[0m\u001b[0m\n\u001b[1;32m    703\u001b[0m             \u001b[0mself\u001b[0m\u001b[0;34m.\u001b[0m\u001b[0m_parent_header\u001b[0m\u001b[0;34m,\u001b[0m\u001b[0;34m\u001b[0m\u001b[0m\n\u001b[0;32m--> 704\u001b[0;31m             \u001b[0mpassword\u001b[0m\u001b[0;34m=\u001b[0m\u001b[0;32mFalse\u001b[0m\u001b[0;34m,\u001b[0m\u001b[0;34m\u001b[0m\u001b[0m\n\u001b[0m\u001b[1;32m    705\u001b[0m         )\n\u001b[1;32m    706\u001b[0m \u001b[0;34m\u001b[0m\u001b[0m\n",
      "\u001b[0;32m~/.local/lib/python3.5/site-packages/ipykernel/kernelbase.py\u001b[0m in \u001b[0;36m_input_request\u001b[0;34m(self, prompt, ident, parent, password)\u001b[0m\n\u001b[1;32m    732\u001b[0m             \u001b[0;32mexcept\u001b[0m \u001b[0mKeyboardInterrupt\u001b[0m\u001b[0;34m:\u001b[0m\u001b[0;34m\u001b[0m\u001b[0m\n\u001b[1;32m    733\u001b[0m                 \u001b[0;31m# re-raise KeyboardInterrupt, to truncate traceback\u001b[0m\u001b[0;34m\u001b[0m\u001b[0;34m\u001b[0m\u001b[0m\n\u001b[0;32m--> 734\u001b[0;31m                 \u001b[0;32mraise\u001b[0m \u001b[0mKeyboardInterrupt\u001b[0m\u001b[0;34m\u001b[0m\u001b[0m\n\u001b[0m\u001b[1;32m    735\u001b[0m             \u001b[0;32melse\u001b[0m\u001b[0;34m:\u001b[0m\u001b[0;34m\u001b[0m\u001b[0m\n\u001b[1;32m    736\u001b[0m                 \u001b[0;32mbreak\u001b[0m\u001b[0;34m\u001b[0m\u001b[0m\n",
      "\u001b[0;31mKeyboardInterrupt\u001b[0m: "
     ]
    }
   ],
   "source": [
    "import urllib.request, urllib.parse, urllib.error\n",
    "import json #librerias para extracccion de datos en archivos xml\n",
    "\n",
    "# Note that Google is increasingly requiring keys\n",
    "# for this API\n",
    "serviceurl = 'http://maps.googleapis.com/maps/api/geocode/json?' #Almacenamiento del link del archivo json\n",
    "\n",
    "while True:\n",
    "    address = input('Enter location: ')\n",
    "    if len(address) < 1: break\n",
    "\n",
    "    url = serviceurl + urllib.parse.urlencode(\n",
    "        {'address': address}) #Convierte la informacion en un formato ASCII\n",
    "\n",
    "    print('Retrieving', url) #Imprime la URL que se ha analizado\n",
    "    uh = urllib.request.urlopen(url) #abre la URL con la informacion que posee\n",
    "    data = uh.read().decode() # Lee la informacion de la URL y la decodifica a formato normal\n",
    "    print('Retrieved', len(data), 'characters')#Imprime el numero de caracteres\n",
    "\n",
    "    try:\n",
    "        js = json.loads(data)\n",
    "    except:\n",
    "        js = None\n",
    "\n",
    "    if not js or 'status' not in js or js['status'] != 'OK':\n",
    "        print('==== Failure To Retrieve ====')\n",
    "        print(data)\n",
    "        continue\n",
    "\n",
    "    print(json.dumps(js, indent=4))#Imprime el codigo Json\n",
    "\n",
    "    lat = js[\"results\"][0][\"geometry\"][\"location\"][\"lat\"]\n",
    "    lng = js[\"results\"][0][\"geometry\"][\"location\"][\"lng\"]\n",
    "    print('lat', lat, 'lng', lng)\n",
    "    location = js['results'][0]['formatted_address']\n",
    "    print(location)\n",
    "    print('===================================================')\n",
    "# Code: http://www.py4e.com/code3/geojson.py"
   ]
  },
  {
   "cell_type": "markdown",
   "metadata": {},
   "source": [
    "El programa toma la cadena de búsqueda y construye una URL con la cadena de búsqueda como un parámetro codificado correctamente y <b>luego usa urllib para recuperar el texto de la API de geocodificación de Google</b>. A diferencia de una página web fija, los datos que obtenemos dependen de los parámetros que enviamos y de los datos geográficos almacenados en los servidores de Google.\n",
    "\n",
    "Una vez que recuperamos los datos JSON, los analizamos con la biblioteca json y hacemos algunas comprobaciones para asegurarnos de que recibimos buenos datos, luego extraemos la información que estamos buscando.\n",
    "\n",
    "El resultado del programa se mostro antenriormente.\n",
    "\n",
    "You can download www.py4e.com/code3/geoxml.py to explore the XML variant of the Google geocoding API.\n",
    "\n",
    "## Seguridad y uso de API\n",
    "Es bastante común que necesite algún tipo de \"clave API\" para hacer uso de la API de un proveedor. La idea general es que quieren saber quién está usando sus servicios y cuánto está usando cada usuario. Tal vez tengan niveles gratuitos y de pago de sus servicios o tengan una política que limite el número de solicitudes que un individuo puede hacer durante un período de tiempo en particular.\n",
    "\n",
    "A veces, una vez que obtiene su clave API, simplemente incluye la clave como parte de los datos POST o quizás como un parámetro en la URL al llamar a la API.\n",
    "\n",
    "Otras veces, el vendedor desea una mayor seguridad del origen de las solicitudes y, por lo tanto, agregan que espera que envíe mensajes firmados criptográficamente utilizando claves y secretos compartidos.<b> Una tecnología muy común que se utiliza para firmar solicitudes a través de Internet se llama OAuth </b>. Puede leer más sobre el protocolo OAuth en www.oauth.net .\n",
    "\n",
    "A medida que la API de Twitter se volvió cada vez más valiosa, Twitter pasó de ser una API abierta y pública a una API que requería el uso de firmas OAuth en cada solicitud API. Afortunadamente, todavía hay varias librerías OAuth cómodas y gratuitas para que pueda evitar escribir desde cero una implementación de OAuth al leer las especificaciones. Estas bibliotecas son de complejidad variable y tienen diversos grados de riqueza. El sitio web de OAuth tiene información sobre varias bibliotecas de OAuth.\n",
    "\n",
    "Para este próximo programa de ejemplo, descargaremos los archivos twurl.py , hidden.py , oauth.py y twitter1.py de www.py4e.com/code y los pondremos todos en una carpeta en su computadora.\n",
    "\n",
    "Para hacer uso de estos programas, deberá tener una cuenta de Twitter y autorizar su código de Python como una aplicación, configurar una clave, secreto, token y secreto de token. Editarás el archivo hidden.py y colocarás estas cuatro cadenas en las variables apropiadas en el archivo:"
   ]
  },
  {
   "cell_type": "code",
   "execution_count": 3,
   "metadata": {},
   "outputs": [],
   "source": [
    "# Keep this file separate\n",
    "\n",
    "# https://apps.twitter.com/\n",
    "# Create new App and get the four strings\n",
    "\n",
    "def oauth():\n",
    "    return {\"consumer_key\": \"h7Lu...Ng\",\n",
    "            \"consumer_secret\": \"dNKenAC3New...mmn7Q\",\n",
    "            \"token_key\": \"10185562-eibxCp9n2...P4GEQQOSGI\",\n",
    "            \"token_secret\": \"H0ycCFemmC4wyf1...qoIpBo\"}\n",
    "\n",
    "# Code: http://www.py4e.com/code3/hidden.py"
   ]
  },
  {
   "cell_type": "markdown",
   "metadata": {},
   "source": [
    "Se accede al servicio web de Twitter usando una URL como esta:\n",
    "\n",
    "https://api.twitter.com/1.1/statuses/user_timeline.json\n",
    "\n",
    "Pero una vez que se haya agregado toda la información de seguridad, la URL se verá más como:"
   ]
  },
  {
   "cell_type": "code",
   "execution_count": null,
   "metadata": {},
   "outputs": [],
   "source": [
    "https://api.twitter.com/1.1/statuses/user_timeline.json?count=2\n",
    "&oauth_version=1.0&oauth_token=101...SGI&screen_name=drchuck\n",
    "&oauth_nonce=09239679&oauth_timestamp=1380395644\n",
    "&oauth_signature=rLK...BoD&oauth_consumer_key=h7Lu...GNg\n",
    "&oauth_signature_method=HMAC-SHA1"
   ]
  },
  {
   "cell_type": "markdown",
   "metadata": {},
   "source": [
    "Puede leer la especificación OAuth si quiere saber más sobre el significado de los diversos parámetros que se agregan para cumplir con los requisitos de seguridad de OAuth.\n",
    "\n",
    "Para los programas que ejecutamos con Twitter, ocultamos toda la complejidad en los archivos oauth.py y twurl.py . Simplemente establecemos los secretos en hidden.py y luego enviamos la URL deseada a la función twurl.augment () y el código de la biblioteca agrega todos los parámetros necesarios a la URL.\n",
    "\n",
    "Este programa recupera la línea de tiempo para un usuario de Twitter en particular y nos la devuelve en formato JSON en una cadena. Simplemente imprimimos los primeros 250 caracteres de la cadena:"
   ]
  },
  {
   "cell_type": "markdown",
   "metadata": {},
   "source": [
    "## Problemas propuestos"
   ]
  },
  {
   "cell_type": "code",
   "execution_count": 3,
   "metadata": {},
   "outputs": [
    {
     "name": "stdout",
     "output_type": "stream",
     "text": [
      "Enter location: villa nueva\n",
      "Retrieving http://maps.googleapis.com/maps/api/geocode/json?address=villa+nueva\n",
      "Retrieved 1595 characters\n",
      "{\n",
      "    \"results\": [\n",
      "        {\n",
      "            \"geometry\": {\n",
      "                \"location\": {\n",
      "                    \"lat\": 14.5298287,\n",
      "                    \"lng\": -90.5920027\n",
      "                },\n",
      "                \"viewport\": {\n",
      "                    \"northeast\": {\n",
      "                        \"lat\": 14.5855985,\n",
      "                        \"lng\": -90.55343630000002\n",
      "                    },\n",
      "                    \"southwest\": {\n",
      "                        \"lat\": 14.4812231,\n",
      "                        \"lng\": -90.6360054\n",
      "                    }\n",
      "                },\n",
      "                \"bounds\": {\n",
      "                    \"northeast\": {\n",
      "                        \"lat\": 14.5855985,\n",
      "                        \"lng\": -90.55343630000002\n",
      "                    },\n",
      "                    \"southwest\": {\n",
      "                        \"lat\": 14.4812231,\n",
      "                        \"lng\": -90.6360054\n",
      "                    }\n",
      "                },\n",
      "                \"location_type\": \"APPROXIMATE\"\n",
      "            },\n",
      "            \"place_id\": \"ChIJHyocLmSniYURoCruRhMNZDI\",\n",
      "            \"types\": [\n",
      "                \"locality\",\n",
      "                \"political\"\n",
      "            ],\n",
      "            \"formatted_address\": \"Villa Nueva, Guatemala\",\n",
      "            \"address_components\": [\n",
      "                {\n",
      "                    \"types\": [\n",
      "                        \"locality\",\n",
      "                        \"political\"\n",
      "                    ],\n",
      "                    \"long_name\": \"Villa Nueva\",\n",
      "                    \"short_name\": \"Villa Nueva\"\n",
      "                },\n",
      "                {\n",
      "                    \"types\": [\n",
      "                        \"administrative_area_level_1\",\n",
      "                        \"political\"\n",
      "                    ],\n",
      "                    \"long_name\": \"Guatemala Department\",\n",
      "                    \"short_name\": \"Guatemala Department\"\n",
      "                },\n",
      "                {\n",
      "                    \"types\": [\n",
      "                        \"country\",\n",
      "                        \"political\"\n",
      "                    ],\n",
      "                    \"long_name\": \"Guatemala\",\n",
      "                    \"short_name\": \"GT\"\n",
      "                }\n",
      "            ]\n",
      "        }\n",
      "    ],\n",
      "    \"status\": \"OK\"\n",
      "}\n",
      "lat 14.5298287 lng -90.5920027\n",
      "Villa Nueva, Guatemala\n"
     ]
    },
    {
     "ename": "KeyboardInterrupt",
     "evalue": "",
     "output_type": "error",
     "traceback": [
      "\u001b[0;31m---------------------------------------------------------------------------\u001b[0m",
      "\u001b[0;31mKeyboardInterrupt\u001b[0m                         Traceback (most recent call last)",
      "\u001b[0;32m~/.local/lib/python3.5/site-packages/ipykernel/kernelbase.py\u001b[0m in \u001b[0;36m_input_request\u001b[0;34m(self, prompt, ident, parent, password)\u001b[0m\n\u001b[1;32m    728\u001b[0m             \u001b[0;32mtry\u001b[0m\u001b[0;34m:\u001b[0m\u001b[0;34m\u001b[0m\u001b[0m\n\u001b[0;32m--> 729\u001b[0;31m                 \u001b[0mident\u001b[0m\u001b[0;34m,\u001b[0m \u001b[0mreply\u001b[0m \u001b[0;34m=\u001b[0m \u001b[0mself\u001b[0m\u001b[0;34m.\u001b[0m\u001b[0msession\u001b[0m\u001b[0;34m.\u001b[0m\u001b[0mrecv\u001b[0m\u001b[0;34m(\u001b[0m\u001b[0mself\u001b[0m\u001b[0;34m.\u001b[0m\u001b[0mstdin_socket\u001b[0m\u001b[0;34m,\u001b[0m \u001b[0;36m0\u001b[0m\u001b[0;34m)\u001b[0m\u001b[0;34m\u001b[0m\u001b[0m\n\u001b[0m\u001b[1;32m    730\u001b[0m             \u001b[0;32mexcept\u001b[0m \u001b[0mException\u001b[0m\u001b[0;34m:\u001b[0m\u001b[0;34m\u001b[0m\u001b[0m\n",
      "\u001b[0;32m~/.local/lib/python3.5/site-packages/jupyter_client/session.py\u001b[0m in \u001b[0;36mrecv\u001b[0;34m(self, socket, mode, content, copy)\u001b[0m\n\u001b[1;32m    802\u001b[0m         \u001b[0;32mtry\u001b[0m\u001b[0;34m:\u001b[0m\u001b[0;34m\u001b[0m\u001b[0m\n\u001b[0;32m--> 803\u001b[0;31m             \u001b[0mmsg_list\u001b[0m \u001b[0;34m=\u001b[0m \u001b[0msocket\u001b[0m\u001b[0;34m.\u001b[0m\u001b[0mrecv_multipart\u001b[0m\u001b[0;34m(\u001b[0m\u001b[0mmode\u001b[0m\u001b[0;34m,\u001b[0m \u001b[0mcopy\u001b[0m\u001b[0;34m=\u001b[0m\u001b[0mcopy\u001b[0m\u001b[0;34m)\u001b[0m\u001b[0;34m\u001b[0m\u001b[0m\n\u001b[0m\u001b[1;32m    804\u001b[0m         \u001b[0;32mexcept\u001b[0m \u001b[0mzmq\u001b[0m\u001b[0;34m.\u001b[0m\u001b[0mZMQError\u001b[0m \u001b[0;32mas\u001b[0m \u001b[0me\u001b[0m\u001b[0;34m:\u001b[0m\u001b[0;34m\u001b[0m\u001b[0m\n",
      "\u001b[0;32m~/.local/lib/python3.5/site-packages/zmq/sugar/socket.py\u001b[0m in \u001b[0;36mrecv_multipart\u001b[0;34m(self, flags, copy, track)\u001b[0m\n\u001b[1;32m    465\u001b[0m         \"\"\"\n\u001b[0;32m--> 466\u001b[0;31m         \u001b[0mparts\u001b[0m \u001b[0;34m=\u001b[0m \u001b[0;34m[\u001b[0m\u001b[0mself\u001b[0m\u001b[0;34m.\u001b[0m\u001b[0mrecv\u001b[0m\u001b[0;34m(\u001b[0m\u001b[0mflags\u001b[0m\u001b[0;34m,\u001b[0m \u001b[0mcopy\u001b[0m\u001b[0;34m=\u001b[0m\u001b[0mcopy\u001b[0m\u001b[0;34m,\u001b[0m \u001b[0mtrack\u001b[0m\u001b[0;34m=\u001b[0m\u001b[0mtrack\u001b[0m\u001b[0;34m)\u001b[0m\u001b[0;34m]\u001b[0m\u001b[0;34m\u001b[0m\u001b[0m\n\u001b[0m\u001b[1;32m    467\u001b[0m         \u001b[0;31m# have first part already, only loop while more to receive\u001b[0m\u001b[0;34m\u001b[0m\u001b[0;34m\u001b[0m\u001b[0m\n",
      "\u001b[0;32mzmq/backend/cython/socket.pyx\u001b[0m in \u001b[0;36mzmq.backend.cython.socket.Socket.recv\u001b[0;34m()\u001b[0m\n",
      "\u001b[0;32mzmq/backend/cython/socket.pyx\u001b[0m in \u001b[0;36mzmq.backend.cython.socket.Socket.recv\u001b[0;34m()\u001b[0m\n",
      "\u001b[0;32mzmq/backend/cython/socket.pyx\u001b[0m in \u001b[0;36mzmq.backend.cython.socket._recv_copy\u001b[0;34m()\u001b[0m\n",
      "\u001b[0;32m~/.local/lib/python3.5/site-packages/zmq/backend/cython/checkrc.pxd\u001b[0m in \u001b[0;36mzmq.backend.cython.checkrc._check_rc\u001b[0;34m()\u001b[0m\n",
      "\u001b[0;31mKeyboardInterrupt\u001b[0m: ",
      "\nDuring handling of the above exception, another exception occurred:\n",
      "\u001b[0;31mKeyboardInterrupt\u001b[0m                         Traceback (most recent call last)",
      "\u001b[0;32m<ipython-input-3-30897f648e9d>\u001b[0m in \u001b[0;36m<module>\u001b[0;34m()\u001b[0m\n\u001b[1;32m      7\u001b[0m \u001b[0;34m\u001b[0m\u001b[0m\n\u001b[1;32m      8\u001b[0m \u001b[0;32mwhile\u001b[0m \u001b[0;32mTrue\u001b[0m\u001b[0;34m:\u001b[0m\u001b[0;34m\u001b[0m\u001b[0m\n\u001b[0;32m----> 9\u001b[0;31m     \u001b[0maddress\u001b[0m \u001b[0;34m=\u001b[0m \u001b[0minput\u001b[0m\u001b[0;34m(\u001b[0m\u001b[0;34m'Enter location: '\u001b[0m\u001b[0;34m)\u001b[0m\u001b[0;34m\u001b[0m\u001b[0m\n\u001b[0m\u001b[1;32m     10\u001b[0m     \u001b[0;32mif\u001b[0m \u001b[0mlen\u001b[0m\u001b[0;34m(\u001b[0m\u001b[0maddress\u001b[0m\u001b[0;34m)\u001b[0m \u001b[0;34m<\u001b[0m \u001b[0;36m1\u001b[0m\u001b[0;34m:\u001b[0m \u001b[0;32mbreak\u001b[0m\u001b[0;34m\u001b[0m\u001b[0m\n\u001b[1;32m     11\u001b[0m \u001b[0;34m\u001b[0m\u001b[0m\n",
      "\u001b[0;32m~/.local/lib/python3.5/site-packages/ipykernel/kernelbase.py\u001b[0m in \u001b[0;36mraw_input\u001b[0;34m(self, prompt)\u001b[0m\n\u001b[1;32m    702\u001b[0m             \u001b[0mself\u001b[0m\u001b[0;34m.\u001b[0m\u001b[0m_parent_ident\u001b[0m\u001b[0;34m,\u001b[0m\u001b[0;34m\u001b[0m\u001b[0m\n\u001b[1;32m    703\u001b[0m             \u001b[0mself\u001b[0m\u001b[0;34m.\u001b[0m\u001b[0m_parent_header\u001b[0m\u001b[0;34m,\u001b[0m\u001b[0;34m\u001b[0m\u001b[0m\n\u001b[0;32m--> 704\u001b[0;31m             \u001b[0mpassword\u001b[0m\u001b[0;34m=\u001b[0m\u001b[0;32mFalse\u001b[0m\u001b[0;34m,\u001b[0m\u001b[0;34m\u001b[0m\u001b[0m\n\u001b[0m\u001b[1;32m    705\u001b[0m         )\n\u001b[1;32m    706\u001b[0m \u001b[0;34m\u001b[0m\u001b[0m\n",
      "\u001b[0;32m~/.local/lib/python3.5/site-packages/ipykernel/kernelbase.py\u001b[0m in \u001b[0;36m_input_request\u001b[0;34m(self, prompt, ident, parent, password)\u001b[0m\n\u001b[1;32m    732\u001b[0m             \u001b[0;32mexcept\u001b[0m \u001b[0mKeyboardInterrupt\u001b[0m\u001b[0;34m:\u001b[0m\u001b[0;34m\u001b[0m\u001b[0m\n\u001b[1;32m    733\u001b[0m                 \u001b[0;31m# re-raise KeyboardInterrupt, to truncate traceback\u001b[0m\u001b[0;34m\u001b[0m\u001b[0;34m\u001b[0m\u001b[0m\n\u001b[0;32m--> 734\u001b[0;31m                 \u001b[0;32mraise\u001b[0m \u001b[0mKeyboardInterrupt\u001b[0m\u001b[0;34m\u001b[0m\u001b[0m\n\u001b[0m\u001b[1;32m    735\u001b[0m             \u001b[0;32melse\u001b[0m\u001b[0;34m:\u001b[0m\u001b[0;34m\u001b[0m\u001b[0m\n\u001b[1;32m    736\u001b[0m                 \u001b[0;32mbreak\u001b[0m\u001b[0;34m\u001b[0m\u001b[0m\n",
      "\u001b[0;31mKeyboardInterrupt\u001b[0m: "
     ]
    }
   ],
   "source": [
    "import urllib.request, urllib.parse, urllib.error\n",
    "import json #librerias para extracccion de datos en archivos xml\n",
    "\n",
    "# Note that Google is increasingly requiring keys\n",
    "# for this API\n",
    "serviceurl = 'http://maps.googleapis.com/maps/api/geocode/json?' #Almacenamiento del link del archivo json\n",
    "\n",
    "while True:\n",
    "    address = input('Enter location: ')\n",
    "    if len(address) < 1: break\n",
    "\n",
    "    url = serviceurl + urllib.parse.urlencode(\n",
    "        {'address': address}) #Convierte la informacion en un formato ASCII\n",
    "\n",
    "    print('Retrieving', url) #Imprime la URL que se ha analizado\n",
    "    uh = urllib.request.urlopen(url) #abre la URL con la informacion que posee\n",
    "    data = uh.read().decode() # Lee la informacion de la URL y la decodifica a formato normal\n",
    "    print('Retrieved', len(data), 'characters')#Imprime el numero de caracteres\n",
    "\n",
    "    try:\n",
    "        js = json.loads(data)\n",
    "    except:\n",
    "        js = None\n",
    "\n",
    "    if not js or 'status' not in js or js['status'] != 'OK':\n",
    "        print('==== Failure To Retrieve ====')\n",
    "        print(data)\n",
    "        continue\n",
    "\n",
    "    print(json.dumps(js, indent=4))\n",
    "\n",
    "    lat = js[\"results\"][0][\"geometry\"][\"location\"][\"lat\"]\n",
    "    lng = js[\"results\"][0][\"geometry\"][\"location\"][\"lng\"]\n",
    "    print('lat', lat, 'lng', lng)\n",
    "    location = js['results'][0]['formatted_address']\n",
    "    print(location)\n",
    "\n",
    "# Code: http://www.py4e.com/code3/geojson.py"
   ]
  },
  {
   "cell_type": "code",
   "execution_count": 4,
   "metadata": {},
   "outputs": [
    {
     "name": "stdout",
     "output_type": "stream",
     "text": [
      "<Element 'comment' at 0x7f0cd4ee3228>\n",
      "[<Element 'count' at 0x7f0cd4ee3818>]\n",
      "User count: 1\n",
      "count2 None\n"
     ]
    }
   ],
   "source": [
    "import xml.etree.ElementTree as ET\n",
    "\n",
    "input = ''' \n",
    "<comment>\n",
    "  <name>Matthias</name>\n",
    "  <count>97</count>\n",
    "</comment>\n",
    "''' #colocamos en un comentario multilinea lo que guardaremos en la variable input\n",
    "\n",
    "commentinfo = ET.fromstring(input) #Convierte el testo input en un diagrama de arbol tipo xml\n",
    "lst = commentinfo.findall('.//count') #Almacena el contenido del arbol de users/user\n",
    "print(commentinfo)\n",
    "print(lst)\n",
    "print('User count:', len(lst)) # Imprime la cantidad de usuarios que hay\n",
    "\n",
    "\n",
    "for item in lst:\n",
    "    #print('Name', item.find('name').text)\n",
    "   # print('Count', item.find('count').text)\n",
    "    print('count2', item.get(\"count\"))\n",
    "\n",
    "# Code: http://www.py4e.com/code3/xml2.py"
   ]
  },
  {
   "cell_type": "markdown",
   "metadata": {},
   "source": [
    "## Glosario\n",
    "\n",
    "<b>La geocodificación</b> es el proceso de transformar una descripción de una ubicación (por ejemplo, un par de coordenadas, una dirección o un nombre de un lugar) en una ubicación de la superficie de la Tierra. Se puede geocodificar introduciendo una descripción de una ubicación a la vez o proporcionando muchas de ellas al mismo tiempo en una tabla. Las ubicaciones que se obtienen se transforman en entidades geográficas con atributos, que se pueden utilizar para la representación cartográfica o el para análisis espacial.\n",
    "\n",
    "## Bibliografia extra\n",
    "Como usar urllib()\n",
    "http://christophergs.github.io/python/2016/12/03/python-urllib-parse\n",
    "\n",
    "Conversion de Python a Json\n",
    "http://www.bogotobogo.com/python/python-json-dumps-loads-file-read-write.php\n",
    "\n",
    "\n",
    "## urlencode\n",
    "Convierte un objeto de mapeo (diccionario) o una secuencia de tuplas de dos elementos en una cadena de texto ASCII codificada en porcentaje.\n",
    "\n",
    "El módulo <b>urllib.request</b> define funciones y clases que ayudan a abrir URL (principalmente HTTP) en un mundo complejo: autenticación básica y resumida, redirecciones, cookies y más.\n",
    "\n",
    "El módulo urllib.request define las siguientes funciones:\n",
    "\n",
    "urllib.request.urlopen (url [, data] [, timeout])\n",
    "Abra la url URL, que puede ser una cadena o un objeto Request.\n",
    "\n",
    "\n",
    "## json.dumps () y json.loads ()\n",
    "<b>dumps()</b> takes an object and produces a string:\n",
    "\n",
    "a = {'foo': 3} \n",
    "json.dumps(a)\n",
    "\n",
    "\n",
    "<b>load()</b> Tomaría un objeto similar a un archivo, leería los datos de ese objeto y usaría esa cadena para crear un objeto:\n",
    "\n",
    "with open('file.son') as fh:\n",
    "    a = json.load(fh)\n"
   ]
  },
  {
   "cell_type": "code",
   "execution_count": 6,
   "metadata": {},
   "outputs": [
    {
     "name": "stdout",
     "output_type": "stream",
     "text": [
      "respuesta: client_id=123&type=customer+foo\n"
     ]
    }
   ],
   "source": [
    "#Ejemplo urlncode\n",
    "import urllib.request\n",
    "\n",
    "data = urllib.parse.urlencode({'type': 'customer foo','client_id': 123})\n",
    "print('respuesta urlencode:', data)\n",
    "#'client_id=123&type=customer'"
   ]
  }
 ],
 "metadata": {
  "kernelspec": {
   "display_name": "Python 3",
   "language": "python",
   "name": "python3"
  },
  "language_info": {
   "codemirror_mode": {
    "name": "ipython",
    "version": 3
   },
   "file_extension": ".py",
   "mimetype": "text/x-python",
   "name": "python",
   "nbconvert_exporter": "python",
   "pygments_lexer": "ipython3",
   "version": "3.5.2"
  }
 },
 "nbformat": 4,
 "nbformat_minor": 2
}
