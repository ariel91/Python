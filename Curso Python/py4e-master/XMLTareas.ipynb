{
 "cells": [
  {
   "cell_type": "markdown",
   "metadata": {},
   "source": [
    "Bienvenido Ariel Chitay de Python para todos\n",
    "\n",
    "## Extrayendo datos de XML\n",
    "\n",
    "En esta tarea escribirás un programa de Python similar a http://www.py4e.com/code3/geoxml.py. El programa solicitará una URL, leerá los datos XML de esa URL usando urllib y luego analizará y extraerá los recuentos de comentarios de los datos XML, calculará la suma de los números en el archivo.\n",
    "\n",
    "Proporcionamos dos archivos para esta tarea. Uno es un archivo de muestra donde le damos la suma de sus pruebas y el otro es la información real que necesita procesar para la tarea.\n",
    "\n",
    "Datos de muestra: http://py4e-data.dr-chuck.net/comments_42.xml (Sum = 2553)\n",
    "Datos reales: http://py4e-data.dr-chuck.net/comments_81303.xml (La suma finaliza con 80)\n",
    "No necesita guardar estos archivos en su carpeta ya que su programa leerá los datos directamente desde la URL. Nota: Cada estudiante tendrá una url de datos distinta para la tarea, por lo que solo debe usar su propia URL de datos para el análisis.\n",
    "\n",
    "Formato de datos y enfoque\n",
    "Los datos consisten en una cantidad de nombres y recuentos de comentarios en XML de la siguiente manera:"
   ]
  },
  {
   "cell_type": "code",
   "execution_count": null,
   "metadata": {},
   "outputs": [],
   "source": [
    "<comment>\n",
    "  <name>Matthias</name>\n",
    "  <count>97</count>\n",
    "</comment>"
   ]
  },
  {
   "cell_type": "markdown",
   "metadata": {},
   "source": [
    "Debe consultar todas las etiquetas <b>\"comment\"</b> y encontrar que los valores <b>\"count\"</b> suman los números. El código de muestra más cercano que muestra cómo analizar XML es geoxml.py. Pero dado que la anidación de los elementos en nuestros datos es diferente de los datos que estamos analizando en ese código de muestra, tendrá que hacer cambios reales en el código.\n",
    "Para hacer el código un poco más simple, puede usar una cadena de selector de XPath para buscar en todo el árbol de XML cualquier etiqueta llamada 'conteo' con la siguiente línea de código:"
   ]
  },
  {
   "cell_type": "code",
   "execution_count": null,
   "metadata": {},
   "outputs": [],
   "source": [
    "counts = tree.findall('.//count')"
   ]
  },
  {
   "cell_type": "markdown",
   "metadata": {},
   "source": [
    "Eche un vistazo a la documentación de Python ElementTree y busque la sintaxis de XPath soportada para más detalles. También podría trabajar desde la parte superior del XML hasta el nodo de comentarios y luego recorrer los nodos secundarios del nodo de comentarios.\n",
    "Ejecución de muestra"
   ]
  },
  {
   "cell_type": "code",
   "execution_count": null,
   "metadata": {},
   "outputs": [],
   "source": [
    "$ python3 solution.py\n",
    "Enter location: http://py4e-data.dr-chuck.net/comments_42.xml\n",
    "Retrieving http://py4e-data.dr-chuck.net/comments_42.xml\n",
    "Retrieved 4189 characters\n",
    "Count: 50\n",
    "Sum: 2..."
   ]
  },
  {
   "cell_type": "markdown",
   "metadata": {},
   "source": [
    "## Entendiendo como extraer datos de un arbol"
   ]
  },
  {
   "cell_type": "code",
   "execution_count": 26,
   "metadata": {},
   "outputs": [
    {
     "name": "stdout",
     "output_type": "stream",
     "text": [
      "3\n",
      "Name: Chuck\n",
      "Attr: yes\n"
     ]
    }
   ],
   "source": [
    "import xml.etree.ElementTree as ET\n",
    "\n",
    "data = '''\n",
    "<person>\n",
    "  <name>Chuck</name>\n",
    "  <phone type=\"intl\">\n",
    "     +1 734 303 4456\n",
    "   </phone>\n",
    "   <email hide=\"yes\"/>\n",
    "</person>'''\n",
    "\n",
    "tree = ET.fromstring(data)\n",
    "print(len(tree)) #Cuantos elementos hay dentro del arbol\n",
    "print('Name:', tree.find('name').text)\n",
    "print('Attr:', tree.find('email').get('hide'))\n"
   ]
  },
  {
   "cell_type": "markdown",
   "metadata": {},
   "source": [
    "### Entendiendo como extraer datos de las Sub ramas de las ramas de un arbol"
   ]
  },
  {
   "cell_type": "code",
   "execution_count": 43,
   "metadata": {},
   "outputs": [
    {
     "name": "stdout",
     "output_type": "stream",
     "text": [
      "1\n",
      "2\n",
      "<class 'list'>\n",
      "[<Element 'user' at 0x7f8d3c536458>, <Element 'user' at 0x7f8d3c536818>]\n",
      "Name: Chuck\n",
      "Id 001\n",
      "Attribute 2\n",
      "Name: Brent\n",
      "Id 009\n",
      "Attribute 7\n"
     ]
    }
   ],
   "source": [
    "#Importamos la libreria\n",
    "import xml.etree.ElementTree as ET\n",
    "data = '''\n",
    "<stuff>\n",
    "    <users>#1\n",
    "        <user x=\"2\">\n",
    "            <id>001</id>\n",
    "            <name>Chuck</name>\n",
    "        </user>\n",
    "        <user x=\"7\">#2\n",
    "            <id>009</id>\n",
    "            <name>Brent</name>\n",
    "        </user>\n",
    "    </users>\n",
    "</stuff>'''\n",
    "\n",
    "tree = ET.fromstring(data)\n",
    "print(len(tree))\n",
    "lst = tree.findall('users/user')#Sub arboles del arbol\n",
    "print(len(lst)) #Cuantas subramas de Users con el nombre user existen.\n",
    "print(type(lst))\n",
    "print(lst)\n",
    "for item in lst:\n",
    "    print('Name:', item.find('name').text)\n",
    "    print('Id', item.find('id').text)\n",
    "    print('Attribute', item.get('x'))\n"
   ]
  },
  {
   "cell_type": "markdown",
   "metadata": {},
   "source": [
    "## Parte 2 ramas de subramas"
   ]
  },
  {
   "cell_type": "code",
   "execution_count": 15,
   "metadata": {},
   "outputs": [
    {
     "name": "stdout",
     "output_type": "stream",
     "text": [
      "97\n",
      "[<Element 'comment' at 0x7f98a816c098>, <Element 'comment' at 0x7f98a816c458>, <Element 'comment' at 0x7f98a816c5e8>, <Element 'comment' at 0x7f98a8170638>, <Element 'comment' at 0x7f98a8170ea8>]\n",
      "count:  97\n",
      "count:  97\n",
      "count:  90\n",
      "count:  90\n",
      "count:  88\n"
     ]
    }
   ],
   "source": [
    "import xml.etree.ElementTree as ET\n",
    "data = '''\n",
    "<comment>\n",
    "  <name>Matthias</name>\n",
    "  <count>97</count>\n",
    "</comment>'''\n",
    "tree = ET.fromstring(data)\n",
    "print(tree.find('count').text)\n",
    "\n",
    "data2='''\n",
    "<commentinfo>\n",
    "    <note>This file contains the sample data for testing</note>\n",
    "    <comments>\n",
    "        <comment>\n",
    "            <name>Romina</name>\n",
    "            <count>97</count>\n",
    "        </comment>\n",
    "        <comment>\n",
    "            <name>Laurie</name>\n",
    "            <count>97</count>\n",
    "        </comment>\n",
    "        <comment>\n",
    "            <name>Bayli</name>\n",
    "            <count>90</count>\n",
    "        </comment>\n",
    "        <comment>\n",
    "            <name>Siyona</name>\n",
    "            <count>90</count>\n",
    "        </comment>\n",
    "        <comment>\n",
    "            <name>Taisha</name>\n",
    "            <count>88</count>\n",
    "        </comment>\n",
    "    </comments>\n",
    "</commentinfo>'''\n",
    "tree2=ET.fromstring(data2)\n",
    "lst = tree2.findall('comments/comment')#Sub arboles del arbol\n",
    "print(lst)\n",
    "for item in lst:\n",
    "    print('count: ', item.find('count').text)\n",
    "    \n",
    "    "
   ]
  },
  {
   "cell_type": "markdown",
   "metadata": {},
   "source": [
    "## Otro ejemplo extraccion de datos"
   ]
  },
  {
   "cell_type": "code",
   "execution_count": 4,
   "metadata": {},
   "outputs": [
    {
     "name": "stdout",
     "output_type": "stream",
     "text": [
      "<Element 'comment' at 0x7f8770ac4138>\n",
      "[<Element 'count' at 0x7f8770265868>]\n",
      "User count: 1\n",
      "count2 None\n"
     ]
    }
   ],
   "source": [
    "import xml.etree.ElementTree as ET\n",
    "\n",
    "input = ''' \n",
    "<comment>\n",
    "  <name>Matthias</name>\n",
    "  <count>97</count>\n",
    "</comment>\n",
    "''' #colocamos en un comentario multilinea lo que guardaremos en la variable input\n",
    "\n",
    "commentinfo = ET.fromstring(input) #Convierte el testo input en un diagrama de arbol tipo xml\n",
    "lst = commentinfo.findall('.//count') #Almacena el contenido del arbol de users/user\n",
    "print(commentinfo)\n",
    "print(lst)\n",
    "print('User count:', len(lst)) # Imprime la cantidad de usuarios que hay\n",
    "\n",
    "\n",
    "for item in lst:\n",
    "    #print('Name', item.find('name').text)\n",
    "   # print('Count', item.find('count').text)\n",
    "    print('count2', item.get(\"count\"))\n",
    "\n",
    "# Code: http://www.py4e.com/code3/xml2.py"
   ]
  },
  {
   "cell_type": "markdown",
   "metadata": {},
   "source": [
    "## Extrayendo datos XML de las ramas de un arbol en una pagina web."
   ]
  },
  {
   "cell_type": "code",
   "execution_count": null,
   "metadata": {},
   "outputs": [
    {
     "name": "stdout",
     "output_type": "stream",
     "text": [
      "Enter address: http://py4e-data.dr-chuck.net/comments_81303.xml\n",
      "Retrieving http://py4e-data.dr-chuck.net/comments_81303.xml\n",
      "Retrieved 4217 characters\n",
      "Count 100\n",
      "Count 100\n",
      "Count 99\n",
      "Count 97\n",
      "Count 96\n",
      "Count 96\n",
      "Count 96\n",
      "Count 94\n",
      "Count 89\n",
      "Count 89\n",
      "Count 89\n",
      "Count 88\n",
      "Count 85\n",
      "Count 81\n",
      "Count 78\n",
      "Count 76\n",
      "Count 75\n",
      "Count 74\n",
      "Count 73\n",
      "Count 68\n",
      "Count 65\n",
      "Count 65\n",
      "Count 60\n",
      "Count 58\n",
      "Count 58\n",
      "Count 53\n",
      "Count 50\n",
      "Count 50\n",
      "Count 47\n",
      "Count 37\n",
      "Count 35\n",
      "Count 32\n",
      "Count 26\n",
      "Count 22\n",
      "Count 21\n",
      "Count 21\n",
      "Count 17\n",
      "Count 17\n",
      "Count 15\n",
      "Count 14\n",
      "Count 14\n",
      "Count 13\n",
      "Count 12\n",
      "Count 10\n",
      "Count 8\n",
      "Count 7\n",
      "Count 6\n",
      "Count 2\n",
      "Count 1\n",
      "Count 1\n",
      "La sumatoria final es:  2580\n"
     ]
    }
   ],
   "source": [
    "import urllib.request, urllib.parse, urllib.error, xml.etree.ElementTree as ET\n",
    "\n",
    "while True:\n",
    "    url = input('Enter address: ')\n",
    "    sigma = 0\n",
    "    print('Retrieving', url) #Imprime la URL que se ha analizado\n",
    "    uh = urllib.request.urlopen(url) #abre la URL con la informacion que posee\n",
    "    data = uh.read().decode() # Lee la informacion de la URL y la decodifica a formato normal\n",
    "    print('Retrieved', len(data), 'characters')#Imprime el numero de caracteres\n",
    "    tree=ET.fromstring(data)\n",
    "    lst = tree.findall('comments/comment')\n",
    "    for item in lst:\n",
    "        sigma = sigma + int(item.find('count').text)\n",
    "        print('Count', item.find('count').text)\n",
    "    print('La sumatoria final es: ', sigma)\n",
    "        "
   ]
  },
  {
   "cell_type": "code",
   "execution_count": null,
   "metadata": {},
   "outputs": [],
   "source": []
  }
 ],
 "metadata": {
  "kernelspec": {
   "display_name": "Python 3",
   "language": "python",
   "name": "python3"
  },
  "language_info": {
   "codemirror_mode": {
    "name": "ipython",
    "version": 3
   },
   "file_extension": ".py",
   "mimetype": "text/x-python",
   "name": "python",
   "nbconvert_exporter": "python",
   "pygments_lexer": "ipython3",
   "version": "3.5.2"
  }
 },
 "nbformat": 4,
 "nbformat_minor": 2
}
