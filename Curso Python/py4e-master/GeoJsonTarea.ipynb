{
 "cells": [
  {
   "cell_type": "markdown",
   "metadata": {},
   "source": [
    "Bienvenido Ariel Chitay de Python para todos\n",
    "\n",
    "Llamar a una API JSON\n",
    "\n",
    "En esta tarea escribirás un programa de Python similar a http://www.py4e.com/code3/geojson.py. El programa solicitará una ubicación, se pondrá en contacto con un servicio web y recuperará JSON para el servicio web, analizará esos datos y recuperará el primer place_id del JSON. Un ID de lugar es un identificador de texto que identifica un lugar de forma única como dentro de Google Maps.\n",
    "Puntos finales de la API\n",
    "\n",
    "Para completar esta tarea, debe usar este punto final API que tiene un subconjunto estático de los datos de Google:"
   ]
  },
  {
   "cell_type": "code",
   "execution_count": null,
   "metadata": {},
   "outputs": [],
   "source": [
    "http://py4e-data.dr-chuck.net/geojson?"
   ]
  },
  {
   "cell_type": "markdown",
   "metadata": {},
   "source": [
    "Esta API usa el mismo parámetro (dirección) que la API de Google. Esta API tampoco tiene límite de frecuencia, por lo que puede realizar las pruebas con la frecuencia que desee. Si visita la URL sin parámetros, obtendrá una lista de todos los valores de dirección que se pueden usar con esta API.\n",
    "Para llamar a la API, debe proporcionar la dirección que está solicitando como el parámetro address = que está codificado correctamente por URL utilizando urllib.urlencode () como se muestra en http://www.py4e.com/code3/geojson.py\n",
    "\n",
    "Datos de prueba / Ejecución de muestra\n",
    "\n",
    "Puede probar para ver si su programa está trabajando con una ubicación de \"South Federal University\" que tendrá un place_id de \"ChIJJ8oO7_B_bIcR2AlhC8nKlok\"."
   ]
  },
  {
   "cell_type": "code",
   "execution_count": null,
   "metadata": {},
   "outputs": [],
   "source": [
    "$ python3 solution.py\n",
    "Enter location: South Federal University\n",
    "Retrieving http://...\n",
    "Retrieved 2101 characters\n",
    "Place id ChIJJ8oO7_B_bIcR2AlhC8nKlok"
   ]
  },
  {
   "cell_type": "code",
   "execution_count": 11,
   "metadata": {},
   "outputs": [
    {
     "ename": "AttributeError",
     "evalue": "module 'urllib' has no attribute 'urlencode'",
     "output_type": "error",
     "traceback": [
      "\u001b[0;31m---------------------------------------------------------------------------\u001b[0m",
      "\u001b[0;31mAttributeError\u001b[0m                            Traceback (most recent call last)",
      "\u001b[0;32m<ipython-input-11-38705b4eefa4>\u001b[0m in \u001b[0;36m<module>\u001b[0;34m()\u001b[0m\n\u001b[1;32m     10\u001b[0m \u001b[0;31m#Setting the GET parameters on the URL\u001b[0m\u001b[0;34m\u001b[0m\u001b[0;34m\u001b[0m\u001b[0m\n\u001b[1;32m     11\u001b[0m \u001b[0mparameters\u001b[0m \u001b[0;34m=\u001b[0m \u001b[0;34m{\u001b[0m\u001b[0;34m\"sensor\"\u001b[0m\u001b[0;34m:\u001b[0m \u001b[0;34m\"false\"\u001b[0m\u001b[0;34m,\u001b[0m \u001b[0;34m\"address\"\u001b[0m\u001b[0;34m:\u001b[0m \u001b[0maddress_wanted\u001b[0m\u001b[0;34m}\u001b[0m\u001b[0;34m\u001b[0m\u001b[0m\n\u001b[0;32m---> 12\u001b[0;31m \u001b[0mparamsurl\u001b[0m \u001b[0;34m=\u001b[0m \u001b[0murllib\u001b[0m\u001b[0;34m.\u001b[0m\u001b[0murlencode\u001b[0m\u001b[0;34m(\u001b[0m\u001b[0mparameters\u001b[0m\u001b[0;34m)\u001b[0m\u001b[0;34m\u001b[0m\u001b[0m\n\u001b[0m\u001b[1;32m     13\u001b[0m \u001b[0;34m\u001b[0m\u001b[0m\n\u001b[1;32m     14\u001b[0m \u001b[0;31m#Generating the complete URL. Printing it in order to check if it's correct.\u001b[0m\u001b[0;34m\u001b[0m\u001b[0;34m\u001b[0m\u001b[0m\n",
      "\u001b[0;31mAttributeError\u001b[0m: module 'urllib' has no attribute 'urlencode'"
     ]
    }
   ],
   "source": [
    "import urllib.request as ur\n",
    "import urllib.parse as up\n",
    "import json\n",
    "\n",
    "serviceurl = \"http://python-data.dr-chuck.net/geojson?\"\n",
    "# This API only accepts the university in a list of its accepted ones.\n",
    "# This API uses the same parameters (sensor and address) as the Google API.\n",
    "# This API also has no rate limit so you can test as often as you like.\n",
    "# If you visit the URL with no parameters, you get a list of all of the address values which can be used with this API.\n",
    "\n",
    "address_input = input(\"Enter location: \")\n",
    "params = {\"sensor\": \"false\", \"address\": address_input}\n",
    "url = serviceurl + up.urlencode(params)\n",
    "print(\"Retrieving \", url)\n",
    "data = ur.urlopen(url).read().decode('utf-8')\n",
    "print('Retrieved', len(data), 'characters')\n",
    "json_obj = json.loads(data)\n",
    "\n",
    "place_id = json_obj[\"results\"][0][\"place_id\"]\n",
    "print(\"Place id\", place_id)\n"
   ]
  },
  {
   "cell_type": "code",
   "execution_count": 20,
   "metadata": {
    "scrolled": true
   },
   "outputs": [
    {
     "name": "stdout",
     "output_type": "stream",
     "text": [
      "DATA URL:  http://python-data.dr-chuck.net/geojson?address=University+of+Southern+California&sensor=false\n",
      "PLACE ID:  ChIJC2aD3nASaYgRcPtXuhXCsf0\n"
     ]
    }
   ],
   "source": [
    "import json\n",
    "import urllib\n",
    "import urllib.request, urllib.parse, urllib.error\n",
    "\n",
    "\n",
    "#Stroring the given parameters\n",
    "serviceurl = \"http://python-data.dr-chuck.net/geojson?\"\n",
    "sample_address = \"South Federal University\"\n",
    "data_address = \"University of Southern California\"\n",
    "address_wanted = data_address\n",
    "\n",
    "#Setting the GET parameters on the URL\n",
    "parameters = {\"sensor\": \"false\", \"address\": address_wanted}\n",
    "#paramsurl = urllib.urlencode(parameters)\n",
    "paramsurl = urllib.parse.urlencode(parameters)\n",
    "#Generating the complete URL. Printing it in order to check if it's correct.\n",
    "queryurl = serviceurl + paramsurl\n",
    "print(\"DATA URL: \", queryurl)\n",
    "\n",
    "#Obtaining and reading the data\n",
    "#data = urllib.request.urlopen(queryurl).read()\n",
    "data = urllib.request.urlopen(queryurl).read().decode()\n",
    "#Parsing the data and looking for the field we want.\n",
    "#That field is inside the \"Results\" array, in its first item (if our address is \n",
    "#correct we can assume that the result would be the correct one) and on its \n",
    "#\"place_id\" field\n",
    "#jsondata = json.loads(str(data))\n",
    "jsondata = json.loads(str(data))\n",
    "place_id = jsondata[\"results\"][0][\"place_id\"]\n",
    "print(\"PLACE ID: \", place_id)"
   ]
  },
  {
   "cell_type": "code",
   "execution_count": 23,
   "metadata": {},
   "outputs": [
    {
     "name": "stdout",
     "output_type": "stream",
     "text": [
      "DATA URL:  http://python-data.dr-chuck.net/geojson?address=University+of+Southern+California&sensor=false\n",
      "PLACE ID:  ChIJC2aD3nASaYgRcPtXuhXCsf0\n"
     ]
    }
   ],
   "source": [
    "import json\n",
    "import urllib\n",
    "\n",
    "serviceurl = \"http://python-data.dr-chuck.net/geojson?\"\n",
    "sample_address = \"South Federal University\"\n",
    "data_address = \"University of Southern California\"\n",
    "address_wanted = data_address\n",
    "parameters = {\"sensor\": \"false\", \"address\": address_wanted}\n",
    "paramsurl = urllib.parse.urlencode(parameters)\n",
    "queryurl = serviceurl + paramsurl\n",
    "print(\"DATA URL: \", queryurl)\n",
    "data = urllib.request.urlopen(queryurl).read().decode()\n",
    "jsondata = json.loads(str(data))\n",
    "place_id = jsondata[\"results\"][0][\"place_id\"]\n",
    "print(\"PLACE ID: \", place_id)"
   ]
  }
 ],
 "metadata": {
  "kernelspec": {
   "display_name": "Python 3",
   "language": "python",
   "name": "python3"
  },
  "language_info": {
   "codemirror_mode": {
    "name": "ipython",
    "version": 3
   },
   "file_extension": ".py",
   "mimetype": "text/x-python",
   "name": "python",
   "nbconvert_exporter": "python",
   "pygments_lexer": "ipython3",
   "version": "3.5.2"
  }
 },
 "nbformat": 4,
 "nbformat_minor": 2
}
