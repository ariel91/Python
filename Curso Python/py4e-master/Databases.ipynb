{
 "cells": [
  {
   "cell_type": "markdown",
   "metadata": {},
   "source": [
    "# Usar bases de datos y SQL\n",
    "## ¿Que es una base de datos?\n",
    "Una base de datos es un archivo que está organizado para almacenar datos. La mayoría de las bases de datos están organizadas como un diccionario en el sentido de que se asignan desde claves a valores. La mayor diferencia es que la base de datos está en el disco (u otro almacenamiento permanente), por lo que persiste una vez que finaliza el programa. Debido a que una base de datos se almacena en almacenamiento permanente, puede almacenar muchos más datos que un diccionario, que está limitado al tamaño de la memoria en la computadora.\n",
    "\n",
    "Al igual que un diccionario, el software de base de datos está diseñado para mantener la inserción y el acceso a los datos muy rápido, incluso para grandes cantidades de datos. El software de base de datos mantiene su rendimiento mediante la creación de índices a medida que se agregan datos a la base de datos para permitir que la computadora salte rápidamente a una entrada en particular.\n",
    "\n",
    "Hay muchos sistemas de bases de datos diferentes que se utilizan para una amplia variedad de propósitos, incluidos: Oracle, MySQL, Microsoft SQL Server, PostgreSQL y SQLite. Nos centramos en SQLite en este libro porque es una base de datos muy común y ya está integrada en Python. SQLite está diseñado para integrarse en otras aplicaciones para proporcionar soporte de base de datos dentro de la aplicación. Por ejemplo, el navegador Firefox también usa la base de datos SQLite internamente como lo hacen muchos otros productos.\n",
    "\n",
    "http://sqlite.org/\n",
    "\n",
    "SQLite se adapta bien a algunos de los problemas de manipulación de datos que vemos en Informática, como la aplicación de rastreo de Twitter que describimos en este capítulo.\n",
    "\n",
    "## Conceptos de base\n",
    "Cuando miras por primera vez una base de datos, se ve como una hoja de cálculo con varias hojas. Las estructuras de datos principales en una base de datos son: tablas , filas y columnas .\n",
    "\n",
    "![](bd.svg)\n",
    "\n",
    "#### Bases de datos relacionales\n",
    "\n",
    "En las descripciones técnicas de las bases de datos relacionales,<b> los conceptos de tabla, fila y columna se conocen más formalmente como relación , tupla y atributo</b> , respectivamente. Usaremos los términos menos formales en este capítulo.\n",
    "\n",
    "## Navegador de base de datos para SQLite\n",
    "\n",
    "Si bien este capítulo se centrará en el uso de Python para trabajar con datos en archivos de base de datos SQLite, se pueden realizar muchas operaciones de manera más conveniente mediante el software denominado Navegador de bases de datos para SQLite, que está disponible de forma gratuita desde:\n",
    "\n",
    "http://sqlitebrowser.org/\n",
    "\n",
    "Con el navegador puede crear fácilmente tablas, insertar datos, editar datos o ejecutar consultas SQL simples sobre los datos en la base de datos.\n",
    "\n",
    "En cierto sentido, el navegador de la base de datos es similar a un editor de texto cuando se trabaja con archivos de texto. Cuando desee realizar una o muy pocas operaciones en un archivo de texto, puede simplemente abrirlo en un editor de texto y realizar los cambios que desee. Cuando tenga que hacer muchos cambios en un archivo de texto, a menudo escribirá un programa simple de Python. Encontrará el mismo patrón cuando trabaje con bases de datos. Harás operaciones simples en el administrador de bases de datos y las operaciones más complejas se realizarán de forma más conveniente en Python.\n",
    "\n",
    "## Creando una tabla de base de datos\n",
    "\n",
    "Las bases de datos requieren una estructura más definida que las listas o los diccionarios de Python 1 .\n",
    "\n",
    "Cuando creamos una tabla de base de datos, debemos informar a la base de datos con anticipación los nombres de cada una de las columnas en la tabla y el tipo de datos que planeamos almacenar en cada columna . Cuando el software de la base de datos conoce el tipo de datos en cada columna, puede elegir la manera más eficiente de almacenar y buscar los datos según el tipo de datos.\n",
    "\n",
    "Puede ver los diversos tipos de datos soportados por SQLite en la siguiente url:\n",
    "\n",
    "http://www.sqlite.org/datatypes.html\n",
    "\n",
    "Definir la estructura de sus datos por adelantado puede parecer incómodo al principio, pero la recompensa es un acceso rápido a sus datos, incluso cuando la base de datos contiene una gran cantidad de datos.\n",
    "\n",
    "El código para crear un archivo de base de datos y una tabla llamada Tracks con dos columnas en la base de datos es el siguiente:"
   ]
  },
  {
   "cell_type": "code",
   "execution_count": 1,
   "metadata": {},
   "outputs": [],
   "source": [
    "import sqlite3\n",
    "\n",
    "conn = sqlite3.connect('music.sqlite')#Realiza una conexion a la bdd llamada music.sqlite3\n",
    "cur = conn.cursor() # cursor() podemos hacer operaciones en ciertos datos almacenados\n",
    "\n",
    "cur.execute('DROP TABLE IF EXISTS Tracks') #Se elimina la tabla si existiera\n",
    "cur.execute('CREATE TABLE Tracks (title TEXT, plays INTEGER)')# Crea una tabla nombre Tracks\n",
    "#Y crea una columna llamada Plays y otra columna llamada title\n",
    "conn.close()\n",
    "\n",
    "# Code: http://www.py4e.com/code3/db1.py"
   ]
  },
  {
   "cell_type": "markdown",
   "metadata": {},
   "source": [
    "La operación de <b>connect</b> realiza una \"conexión\" a la base de datos almacenada en el archivo music.sqlite3 en el directorio actual. <b>Si el archivo no existe, se creará</b>. La razón por la que esto se llama \"conexión\" es que a veces la base de datos se almacena en un \"servidor de base de datos\" separado del servidor en el que estamos ejecutando nuestra aplicación. En nuestros ejemplos simples, la base de datos solo será un archivo local en el mismo directorio que el código de Python que estamos ejecutando.\n",
    "\n",
    "<b>Un cursor es como un identificador de archivo que podemos usar para realizar operaciones en los datos almacenados en la base de datos</b>. Llamar cursor() es muy similar conceptualmente a llamar a open() cuando se trata de archivos de texto.\n",
    "\n",
    "![](bd2.svg)\n",
    "\n",
    "Un cursor de base de datos\n",
    "\n",
    "Una vez que tenemos el cursor, podemos comenzar a ejecutar comandos sobre los contenidos de la base de datos utilizando el método <b>execute()</b> .\n",
    "\n",
    "<b>Los comandos de la base de datos se expresan en un lenguaje especial que se ha estandarizado en muchos proveedores de bases de datos diferentes para permitirnos aprender un único lenguaje de base de datos. El lenguaje de la base de datos se llama Structure Query Lenguage, lenguaje de consulta estructurado o SQL para abreviar.</b>\n",
    "\n",
    "http://en.wikipedia.org/wiki/SQL\n",
    "\n",
    "En nuestro ejemplo, estamos ejecutando dos comandos SQL en nuestra base de datos. <b>Como una convención, mostraremos las palabras clave SQL en mayúsculas y las partes del comando que estamos agregando (como los nombres de las tablas y columnas) se mostrarán en minúsculas.</b>\n",
    "\n",
    "El primer comando SQL elimina la tabla de Tracks de la base de datos si existe. Este patrón es simplemente para permitirnos ejecutar el mismo programa para crear la tabla de Tracks una y otra vez sin causar un error. Tenga en cuenta que el comando DROP TABLE borra la tabla y todos sus contenidos de la base de datos (es decir, no hay \"deshacer\").\n",
    "\n"
   ]
  },
  {
   "cell_type": "code",
   "execution_count": null,
   "metadata": {},
   "outputs": [],
   "source": [
    "cur.execute('DROP TABLE IF EXISTS Tracks ')"
   ]
  },
  {
   "cell_type": "markdown",
   "metadata": {},
   "source": [
    "El segundo comando crea una tabla llamada Tracks con una columna de texto llamada title y una columna entera llamada plays."
   ]
  },
  {
   "cell_type": "code",
   "execution_count": null,
   "metadata": {},
   "outputs": [],
   "source": [
    "cur.execute('CREATE TABLE Tracks (title TEXT, plays INTEGER)') "
   ]
  },
  {
   "cell_type": "markdown",
   "metadata": {},
   "source": [
    "<b>Ahora que hemos creado una tabla llamada Tracks , podemos poner algunos datos en esa tabla usando la operación SQL INSERT </b>. De nuevo, comenzamos haciendo una conexión a la base de datos y obteniendo el cursor . Entonces podemos ejecutar comandos SQL usando el cursor.\n",
    "\n",
    "<b>El comando SQL INSERT indica qué tabla estamos utilizando y luego define una nueva fila al enumerar los campos que queremos incluir (title, plays) seguido de los VALUES que queremos colocar en la nueva fila</b>. Especificamos los valores como signos de interrogación (?, ?) Para indicar que los valores reales se pasan como una tupla ( 'My Way', 15 ) como el segundo parámetro de la llamada a execute() ."
   ]
  },
  {
   "cell_type": "code",
   "execution_count": 11,
   "metadata": {},
   "outputs": [
    {
     "name": "stdout",
     "output_type": "stream",
     "text": [
      "Tracks:\n",
      "('Thunderstruck', 20)\n",
      "('My Way', 15)\n",
      "('Thunderstruck', 20)\n",
      "('My Way', 15)\n",
      "('Gata Fiera', 200)\n",
      "('My Way', 15)\n"
     ]
    }
   ],
   "source": [
    "import sqlite3\n",
    "\n",
    "conn = sqlite3.connect('music.sqlite')\n",
    "cur = conn.cursor()\n",
    "\n",
    "cur.execute('INSERT INTO Tracks (title, plays) VALUES (?, ?)',\n",
    "    ('Gata Fiera', 200))\n",
    "cur.execute('INSERT INTO Tracks (title, plays) VALUES (?, ?)',\n",
    "    ('My Way', 15))\n",
    "conn.commit()\n",
    "\n",
    "print('Tracks:')\n",
    "cur.execute('SELECT title, plays FROM Tracks')\n",
    "for row in cur:\n",
    "     print(row)\n",
    "\n",
    "cur.execute('DELETE FROM Tracks WHERE plays < 100')\n",
    "\n",
    "cur.close()\n",
    "\n",
    "# Code: http://www.py4e.com/code3/db2.py"
   ]
  },
  {
   "cell_type": "markdown",
   "metadata": {},
   "source": [
    "First we INSERT two rows into our table and use commit() to force the data to be written to the database file.\n",
    "\n",
    "![](tracks.svg)\n",
    "\n",
    "### Filas en una tabla\n",
    "\n",
    "Luego usamos el comando SELECT para recuperar las filas que acabamos de insertar de la tabla. En el comando SELECT , indicamos qué columnas nos gustaría (title, plays) e indicamos de qué tabla queremos recuperar los datos. Después de que ejecutamos la instrucción SELECT , el cursor es algo que podemos recorrer en una instrucción for . Para mayor eficiencia, el cursor no lee todos los datos de la base de datos cuando ejecutamos la instrucción SELECT . En cambio, los datos se leen a medida que recorremos las filas en la instrucción for .\n",
    "\n",
    "El resultado del programa es el siguiente:\n"
   ]
  },
  {
   "cell_type": "code",
   "execution_count": null,
   "metadata": {},
   "outputs": [],
   "source": [
    "Tracks:\n",
    "('Thunderstruck', 20)\n",
    "('My Way', 15)"
   ]
  },
  {
   "cell_type": "markdown",
   "metadata": {},
   "source": [
    "Nuestro ciclo for encuentra dos filas, <b>y cada fila es una tupla de Python</b> con el primer valor como title y el segundo valor como número de plays .\n",
    "\n",
    "Nota: Puede ver cadenas que comienzan con u' en otros libros o en Internet. Esto fue una indicación en Python 2 de que las cadenas son cadenas Unicode * que son capaces de almacenar conjuntos de caracteres no latinos. En Python 3, todas las cadenas son cadenas unicode por defecto. *\n",
    "\n",
    "Al final del programa, ejecutamos un comando SQL para DELETE las filas que acabamos de crear para que podamos ejecutar el programa una y otra vez. El comando DELETE muestra el uso de una cláusula WHERE que nos permite expresar un criterio de selección para que podamos solicitar a la base de datos que aplique el comando solo a las filas que coinciden con el criterio. En este ejemplo, el criterio se aplica a todas las filas, por lo que vaciamos la tabla para que podamos ejecutar el programa repetidamente. Después de realizar el DELETE , también llamamos a commit() para forzar que los datos sean eliminados de la base de datos.\n",
    "\n",
    "## Resumen del lenguaje de consulta estructurado\n",
    "\n",
    "Hasta ahora, hemos utilizado el lenguaje de consulta estructurado en nuestros ejemplos de Python y hemos cubierto muchos de los conceptos básicos de los comandos de SQL. En esta sección, observamos el lenguaje SQL en particular y ofrecemos una descripción general de la sintaxis SQL.\n",
    "\n",
    "Debido a que hay tantos proveedores de bases de datos diferentes, el Lenguaje de consulta estructurado (SQL) se estandarizó para que pudiéramos comunicarnos de manera portátil a los sistemas de bases de datos de múltiples proveedores.\n",
    "\n",
    "Una base de datos relacional se compone de tablas, filas y columnas. Las columnas generalmente tienen un tipo como texto, numérico o datos de fecha. Cuando creamos una tabla, indicamos los nombres y tipos de las columnas:"
   ]
  },
  {
   "cell_type": "code",
   "execution_count": null,
   "metadata": {},
   "outputs": [],
   "source": [
    "CREATE TABLE Tracks (title TEXT, plays INTEGER)"
   ]
  },
  {
   "cell_type": "markdown",
   "metadata": {},
   "source": [
    "Para insertar una fila en una tabla, usamos el comando SQL INSERT :"
   ]
  },
  {
   "cell_type": "code",
   "execution_count": null,
   "metadata": {},
   "outputs": [],
   "source": [
    "INSERT INTO Tracks (title, plays) VALUES ('My Way', 15) "
   ]
  },
  {
   "cell_type": "markdown",
   "metadata": {},
   "source": [
    "La INSERT especifica el nombre de la tabla, luego una lista de los campos / columnas que le gustaría establecer en la nueva fila, y luego la palabra clave VALUES y una lista de valores correspondientes para cada uno de los campos.\n",
    "\n",
    "El comando SQL SELECT se usa para recuperar filas y columnas de una base de datos. La instrucción SELECT permite especificar qué columnas le gustaría recuperar, así como una cláusula WHERE para seleccionar las filas que le gustaría ver. También permite una cláusula opcional ORDER BY para controlar la clasificación de las filas devueltas."
   ]
  },
  {
   "cell_type": "code",
   "execution_count": null,
   "metadata": {},
   "outputs": [],
   "source": [
    "SELECT * FROM Tracks WHERE title = 'My Way' "
   ]
  },
  {
   "cell_type": "markdown",
   "metadata": {},
   "source": [
    "Usar * indica que desea que la base de datos devuelva todas las columnas para cada fila que coincida con la cláusula WHERE .\n",
    "\n",
    "Tenga en cuenta que, a diferencia de Python, en una cláusula WHERE SQL usamos un solo signo igual para indicar una prueba de igualdad en lugar de un signo de igual doble. Otras operaciones lógicas permitidas en una cláusula WHERE incluyen < , > , <= , >= != , Así como AND y OR y paréntesis para construir sus expresiones lógicas.\n",
    "\n",
    "Puede solicitar que las filas devueltas se ordenen por uno de los campos de la siguiente manera:"
   ]
  },
  {
   "cell_type": "code",
   "execution_count": null,
   "metadata": {},
   "outputs": [],
   "source": [
    "SELECT title,plays FROM Tracks ORDER BY title"
   ]
  },
  {
   "cell_type": "markdown",
   "metadata": {},
   "source": [
    "Para eliminar una fila, necesita una cláusula WHERE en una sentencia SQL DELETE . La cláusula WHERE determina qué filas se eliminarán:"
   ]
  },
  {
   "cell_type": "code",
   "execution_count": null,
   "metadata": {},
   "outputs": [],
   "source": [
    " DELETE FROM Tracks WHERE title = 'My Way' "
   ]
  },
  {
   "cell_type": "markdown",
   "metadata": {},
   "source": [
    "Es posible UPDATE una columna o columnas dentro de una o más filas en una tabla usando la instrucción SQL UPDATE siguiente manera:\n",
    "\n"
   ]
  },
  {
   "cell_type": "markdown",
   "metadata": {},
   "source": [
    "La instrucción UPDATE especifica una tabla y luego una lista de campos y valores para cambiar después de la palabra clave SET y luego una cláusula WHERE opcional para seleccionar las filas que se van a actualizar. Una sola instrucción UPDATE cambiará todas las filas que coincidan con la cláusula WHERE . Si no se especifica una cláusula WHERE , realiza la UPDATE en todas las filas de la tabla.\n",
    "\n",
    "Estos cuatro comandos SQL básicos (INSERT, SELECT, UPDATE y DELETE) permiten las cuatro operaciones básicas necesarias para crear y mantener datos.\n",
    "\n",
    "### Spidering Twitter usando una base de datos\n",
    "En esta sección, crearemos un programa de spidering simple que pasará por las cuentas de Twitter y construirá una base de datos de ellas. Nota: Tenga mucho cuidado al ejecutar este programa. No desea extraer demasiados datos o ejecutar el programa durante demasiado tiempo y terminar teniendo su acceso de Twitter apagado.\n",
    "\n",
    "Uno de los problemas de cualquier tipo de programa de spidering es que necesita ser detenido y reiniciado muchas veces y no quiere perder los datos que ha recuperado hasta ahora. No siempre debe reiniciar su recuperación de datos desde el principio, por lo que queremos almacenar los datos a medida que los recuperamos para que nuestro programa pueda iniciar una copia de seguridad y continuar donde lo dejó.\n",
    "\n",
    "Comenzaremos por recuperar los amigos de Twitter de una persona y sus estados, recorriendo la lista de amigos y agregando cada uno de los amigos a una base de datos para recuperar en el futuro. Después de procesar a los amigos de Twitter de una persona, verificamos en nuestra base de datos y recuperamos a uno de los amigos del amigo. Hacemos esto una y otra vez, escogiendo a una persona \"no visitada\", recuperando su lista de amigos y agregando amigos que no hemos visto en nuestra lista para una futura visita.\n",
    "\n",
    "También hacemos un seguimiento de cuántas veces hemos visto a un amigo en particular en la base de datos para tener una idea de su \"popularidad\".\n",
    "\n",
    "Al almacenar nuestra lista de cuentas conocidas y si hemos recuperado la cuenta o no, y qué tan popular es la cuenta en una base de datos en el disco de la computadora, podemos detener y reiniciar nuestro programa tantas veces como lo deseemos.\n",
    "\n",
    "Este programa es un poco complejo. Se basa en el código del ejercicio anterior del libro que usa la API de Twitter.\n",
    "\n",
    "Aquí está el código fuente de nuestra aplicación de Twitter spidering:"
   ]
  },
  {
   "cell_type": "code",
   "execution_count": 3,
   "metadata": {},
   "outputs": [
    {
     "ename": "ImportError",
     "evalue": "No module named 'twurl'",
     "output_type": "error",
     "traceback": [
      "\u001b[0;31m---------------------------------------------------------------------------\u001b[0m",
      "\u001b[0;31mImportError\u001b[0m                               Traceback (most recent call last)",
      "\u001b[0;32m<ipython-input-3-e89a17235b01>\u001b[0m in \u001b[0;36m<module>\u001b[0;34m()\u001b[0m\n\u001b[1;32m      1\u001b[0m \u001b[0;32mfrom\u001b[0m \u001b[0murllib\u001b[0m\u001b[0;34m.\u001b[0m\u001b[0mrequest\u001b[0m \u001b[0;32mimport\u001b[0m \u001b[0murlopen\u001b[0m\u001b[0;34m\u001b[0m\u001b[0m\n\u001b[1;32m      2\u001b[0m \u001b[0;32mimport\u001b[0m \u001b[0murllib\u001b[0m\u001b[0;34m.\u001b[0m\u001b[0merror\u001b[0m\u001b[0;34m\u001b[0m\u001b[0m\n\u001b[0;32m----> 3\u001b[0;31m \u001b[0;32mimport\u001b[0m \u001b[0mtwurl\u001b[0m\u001b[0;34m\u001b[0m\u001b[0m\n\u001b[0m\u001b[1;32m      4\u001b[0m \u001b[0;32mimport\u001b[0m \u001b[0mjson\u001b[0m\u001b[0;34m\u001b[0m\u001b[0m\n\u001b[1;32m      5\u001b[0m \u001b[0;32mimport\u001b[0m \u001b[0msqlite3\u001b[0m\u001b[0;34m\u001b[0m\u001b[0m\n",
      "\u001b[0;31mImportError\u001b[0m: No module named 'twurl'"
     ]
    }
   ],
   "source": [
    "from urllib.request import urlopen\n",
    "import urllib.error\n",
    "import twurl\n",
    "import json\n",
    "import sqlite3\n",
    "import ssl\n",
    "\n",
    "TWITTER_URL = 'https://api.twitter.com/1.1/friends/list.json'\n",
    "\n",
    "conn = sqlite3.connect('spider.sqlite')\n",
    "cur = conn.cursor()\n",
    "\n",
    "cur.execute('''\n",
    "            CREATE TABLE IF NOT EXISTS Twitter\n",
    "            (name TEXT, retrieved INTEGER, friends INTEGER)''')\n",
    "\n",
    "# Ignore SSL certificate errors\n",
    "ctx = ssl.create_default_context()\n",
    "ctx.check_hostname = False\n",
    "ctx.verify_mode = ssl.CERT_NONE\n",
    "\n",
    "while True:\n",
    "    acct = input('Enter a Twitter account, or quit: ')\n",
    "    if (acct == 'quit'): break\n",
    "    if (len(acct) < 1):\n",
    "        cur.execute('SELECT name FROM Twitter WHERE retrieved = 0 LIMIT 1')\n",
    "        try:\n",
    "            acct = cur.fetchone()[0]\n",
    "        except:\n",
    "            print('No unretrieved Twitter accounts found')\n",
    "            continue\n",
    "\n",
    "    url = twurl.augment(TWITTER_URL, {'screen_name': acct, 'count': '5'})\n",
    "    print('Retrieving', url)\n",
    "    connection = urlopen(url, context=ctx)\n",
    "    data = connection.read().decode()\n",
    "    headers = dict(connection.getheaders())\n",
    "\n",
    "    print('Remaining', headers['x-rate-limit-remaining'])\n",
    "    js = json.loads(data)\n",
    "    # Debugging\n",
    "    # print json.dumps(js, indent=4)\n",
    "\n",
    "    cur.execute('UPDATE Twitter SET retrieved=1 WHERE name = ?', (acct, ))\n",
    "\n",
    "    countnew = 0\n",
    "    countold = 0\n",
    "    for u in js['users']:\n",
    "        friend = u['screen_name']\n",
    "        print(friend)\n",
    "        cur.execute('SELECT friends FROM Twitter WHERE name = ? LIMIT 1',\n",
    "                    (friend, ))\n",
    "        try:\n",
    "            count = cur.fetchone()[0]\n",
    "            cur.execute('UPDATE Twitter SET friends = ? WHERE name = ?',\n",
    "                        (count+1, friend))\n",
    "            countold = countold + 1\n",
    "        except:\n",
    "            cur.execute('''INSERT INTO Twitter (name, retrieved, friends)\n",
    "                        VALUES (?, 0, 1)''', (friend, ))\n",
    "            countnew = countnew + 1\n",
    "    print('New accounts=', countnew, ' revisited=', countold)\n",
    "    conn.commit()\n",
    "\n",
    "cur.close()\n",
    "\n",
    "# Code: http://www.py4e.com/code3/twspider.py"
   ]
  },
  {
   "cell_type": "markdown",
   "metadata": {},
   "source": [
    "Nuestra base de datos se almacena en el archivo spider.sqlite3 y tiene una tabla llamada Twitter . Cada fila en la tabla de Twitter tiene una columna para el nombre de la cuenta, si hemos recuperado los amigos de esta cuenta, y cuántas veces esta cuenta ha sido \"amigable\".\n",
    "\n",
    "En el ciclo principal del programa, solicitamos al usuario un nombre de cuenta de Twitter o \"salir\" para salir del programa. Si el usuario ingresa una cuenta de Twitter, recuperamos la lista de amigos y estados para ese usuario y agregamos cada amigo a la base de datos, si aún no está en la base de datos. Si el amigo ya está en la lista, agregamos 1 al campo de friends en la fila en la base de datos.\n",
    "\n",
    "Si el usuario presiona ingresar, buscamos en la base de datos la siguiente cuenta de Twitter que aún no hemos recuperado, recuperamos los amigos y los estados para esa cuenta, los agregamos a la base de datos o los actualizamos, y aumentamos el número de friends .\n",
    "\n",
    "Una vez que recuperamos la lista de amigos y estados, recorremos todos los elementos de user en el JSON devuelto y recuperamos el screen_name de screen_name para cada usuario. Luego usamos la instrucción SELECT para ver si ya hemos almacenado este nombre de screen_name en particular en la base de datos y recuperamos el recuento de friends ( friends ) si el registro existe."
   ]
  },
  {
   "cell_type": "code",
   "execution_count": null,
   "metadata": {},
   "outputs": [],
   "source": [
    "countnew = 0\n",
    "countold = 0\n",
    "for u in js['users'] :\n",
    "    friend = u['screen_name']\n",
    "    print(friend)\n",
    "    cur.execute('SELECT friends FROM Twitter WHERE name = ? LIMIT 1',\n",
    "        (friend, ) )\n",
    "    try:\n",
    "        count = cur.fetchone()[0]\n",
    "        cur.execute('UPDATE Twitter SET friends = ? WHERE name = ?',\n",
    "            (count+1, friend) )\n",
    "        countold = countold + 1\n",
    "    except:\n",
    "        cur.execute('''INSERT INTO Twitter (name, retrieved, friends)\n",
    "            VALUES ( ?, 0, 1 )''', ( friend, ) )\n",
    "        countnew = countnew + 1\n",
    "print('New accounts=',countnew,' revisited=',countold)\n",
    "conn.commit()"
   ]
  },
  {
   "cell_type": "markdown",
   "metadata": {},
   "source": [
    "Una vez que el cursor ejecuta la instrucción SELECT , debemos recuperar las filas. Podríamos hacer esto con una instrucción for , pero como solo estamos recuperando una fila ( LIMIT 1 ), podemos usar el método fetchone() para obtener la primera (y única) fila que es el resultado de la operación SELECT . Como fetchone() devuelve la fila como una tupla (aunque solo haya un campo), tomamos el primer valor de la tupla usando para obtener el recuento actual de amigos en el count variables.\n",
    "\n",
    "Si esta recuperación es exitosa, usamos la instrucción SQL UPDATE con una cláusula WHERE para agregar 1 a la columna de friends para la fila que coincide con la cuenta del amigo. Observe que hay dos marcadores de posición (es decir, signos de interrogación) en el SQL, y el segundo parámetro para el execute() es una tupla de dos elementos que contiene los valores que se sustituirán en el SQL en lugar de los signos de interrogación.\n",
    "\n",
    "Si el código en el bloque try falla, es probable que sea porque ningún registro coincide con WHERE name = ? cláusula en la declaración SELECCIONAR. Entonces, en el bloque except , usamos la INSERT SQL INSERT para agregar el nombre de screen_name del amigo a la tabla con una indicación de que aún no hemos recuperado el nombre de screen_name y configurado el recuento de amigos en cero.\n",
    "\n",
    "Entonces, la primera vez que se ejecuta el programa e ingresamos una cuenta de Twitter, el programa se ejecuta de la siguiente manera:\n",
    "\n"
   ]
  },
  {
   "cell_type": "code",
   "execution_count": null,
   "metadata": {},
   "outputs": [],
   "source": [
    "Enter a Twitter account, or quit: drchuck\n",
    "Retrieving http://api.twitter.com/1.1/friends ...\n",
    "New accounts= 20  revisited= 0\n",
    "Enter a Twitter account, or quit: quit"
   ]
  },
  {
   "cell_type": "markdown",
   "metadata": {},
   "source": [
    "Como esta es la primera vez que ejecutamos el programa, la base de datos está vacía y creamos la base de datos en el archivo spider.sqlite3 y agregamos una tabla llamada Twitter a la base de datos. Luego recuperamos algunos amigos y los agregamos todos a la base de datos ya que la base de datos está vacía.\n",
    "\n",
    "En este punto, es posible que deseemos escribir un volcador de base de datos simple para echar un vistazo a lo que está en nuestro archivo spider.sqlite3 :"
   ]
  },
  {
   "cell_type": "code",
   "execution_count": null,
   "metadata": {},
   "outputs": [],
   "source": [
    "import sqlite3\n",
    "\n",
    "conn = sqlite3.connect('spider.sqlite')\n",
    "cur = conn.cursor()\n",
    "cur.execute('SELECT * FROM Twitter')\n",
    "count = 0\n",
    "for row in cur:\n",
    "    print(row)\n",
    "    count = count + 1\n",
    "print(count, 'rows.')\n",
    "cur.close()\n",
    "\n",
    "# Code: http://www.py4e.com/code3/twdump.py"
   ]
  },
  {
   "cell_type": "markdown",
   "metadata": {},
   "source": [
    "Este programa simplemente abre la base de datos y selecciona todas las columnas de todas las filas en la tabla Twitter , luego recorre las filas e imprime cada fila.\n",
    "\n",
    "Si ejecutamos este programa después de la primera ejecución de nuestra araña de Twitter, su resultado será el siguiente:"
   ]
  },
  {
   "cell_type": "code",
   "execution_count": null,
   "metadata": {},
   "outputs": [],
   "source": [
    "('opencontent', 0, 1)\n",
    "('lhawthorn', 0, 1)\n",
    "('steve_coppin', 0, 1)\n",
    "('davidkocher', 0, 1)\n",
    "('hrheingold', 0, 1)\n",
    "...\n",
    "20 rows. "
   ]
  },
  {
   "cell_type": "markdown",
   "metadata": {},
   "source": [
    "Vemos una fila para cada nombre de screen_name , que no hemos recuperado los datos para ese nombre de screen_name , y todos en la base de datos tienen un amigo.\n",
    "\n",
    "Ahora nuestra base de datos refleja la recuperación de los amigos de nuestra primera cuenta de Twitter ( drchuck ). Podemos ejecutar el programa nuevamente y decirle que recupere a los amigos de la siguiente cuenta \"sin procesar\" simplemente presionando Enter en lugar de una cuenta de Twitter de la siguiente manera:\n"
   ]
  },
  {
   "cell_type": "code",
   "execution_count": null,
   "metadata": {},
   "outputs": [],
   "source": [
    "Enter a Twitter account, or quit:\n",
    "Retrieving http://api.twitter.com/1.1/friends ...\n",
    "New accounts= 18  revisited= 2\n",
    "Enter a Twitter account, or quit:\n",
    "Retrieving http://api.twitter.com/1.1/friends ...\n",
    "New accounts= 17  revisited= 3\n",
    "Enter a Twitter account, or quit: quit"
   ]
  },
  {
   "cell_type": "markdown",
   "metadata": {},
   "source": [
    "Como presionamos enter (es decir, no especificamos una cuenta de Twitter), se ejecuta el siguiente código:"
   ]
  },
  {
   "cell_type": "code",
   "execution_count": null,
   "metadata": {},
   "outputs": [],
   "source": [
    "if ( len(acct) < 1 ) :\n",
    "    cur.execute('SELECT name FROM Twitter WHERE retrieved = 0 LIMIT 1')\n",
    "    try:\n",
    "        acct = cur.fetchone()[0]\n",
    "    except:\n",
    "        print('No unretrieved twitter accounts found')\n",
    "        continue"
   ]
  },
  {
   "cell_type": "markdown",
   "metadata": {},
   "source": [
    "Usamos la SELECT SQL SELECT para recuperar el nombre del primer usuario ( LIMIT 1 ) que aún tiene su valor \"have we recuperated this user\" establecido en cero. También usamos el fetchone()[0] dentro de un bloque try / except para extraer un screen_name de los datos recuperados o screen_name un mensaje de error y hacer una copia de seguridad.\n",
    "\n",
    "Si recuperamos con éxito un screen_name no screen_name , recuperamos sus datos de la siguiente manera:"
   ]
  },
  {
   "cell_type": "code",
   "execution_count": null,
   "metadata": {},
   "outputs": [],
   "source": [
    "url=twurl.augment(TWITTER_URL,{'screen_name': acct,'count': '20'})\n",
    "print('Retrieving', url)\n",
    "connection = urllib.urlopen(url)\n",
    "data = connection.read()\n",
    "js = json.loads(data)\n",
    "\n",
    "cur.execute('UPDATE Twitter SET retrieved=1 WHERE name = ?',(acct, ))"
   ]
  },
  {
   "cell_type": "markdown",
   "metadata": {},
   "source": [
    "Una vez que recuperamos los datos con éxito, utilizamos la instrucción UPDATE para establecer la columna retrieved en 1 para indicar que hemos completado la recuperación de los amigos de esta cuenta. Esto nos impide recuperar los mismos datos una y otra vez y nos mantiene avanzando a través de la red de amigos de Twitter.\n",
    "\n",
    "Si ejecutamos el programa amigo y presionamos Enter dos veces para recuperar a los amigos del amigo no visitado, luego ejecutamos el programa de dumping, nos dará el siguiente resultado:\n",
    "\n"
   ]
  },
  {
   "cell_type": "code",
   "execution_count": null,
   "metadata": {},
   "outputs": [],
   "source": [
    "('opencontent', 1, 1)\n",
    "('lhawthorn', 1, 1)\n",
    "('steve_coppin', 0, 1)\n",
    "('davidkocher', 0, 1)\n",
    "('hrheingold', 0, 1)\n",
    "...\n",
    "('cnxorg', 0, 2)\n",
    "('knoop', 0, 1)\n",
    "('kthanos', 0, 2)\n",
    "('LectureTools', 0, 1)\n",
    "...\n",
    "55 rows."
   ]
  },
  {
   "cell_type": "markdown",
   "metadata": {},
   "source": [
    "Podemos ver que hemos registrado correctamente que hemos visitado lhawthorn y opencontent . También las cuentas cnxorg y kthanos ya tienen dos seguidores. Como ahora hemos recuperado a los amigos de tres personas ( drchuck , opencontent y lhawthorn ) nuestra mesa tiene 55 filas de amigos para recuperar.\n",
    "\n",
    "Cada vez que ejecutamos el programa y presionamos Enter, escogerá la siguiente cuenta no visitada (por ej., La siguiente cuenta será steve_coppin ), recuperará a sus amigos, los marcará como recuperados, y para cada uno de los amigos de steve_coppin , agréguelos al final de la base de datos o actualizar su cuenta de amigos si ya están en la base de datos.\n",
    "\n",
    "Dado que los datos del programa están todos almacenados en el disco en una base de datos, la actividad de spidering se puede suspender y reanudar tantas veces como desee sin pérdida de datos.\n",
    "\n",
    "### Modelado de datos básicos\n",
    "El verdadero poder de una base de datos relacional *es cuando creamos varias tablas y hacemos enlaces entre esas tablas. El acto de decidir cómo dividir los datos de la aplicación en varias tablas y establecer las relaciones entre las tablas se denomina modelado de datos* . El documento de diseño que muestra las tablas y sus relaciones se llama <b>modelo de datos</b> .\n",
    "\n",
    "El modelado de datos es una habilidad relativamente sofisticada y solo presentaremos los <b>conceptos más básicos del modelado de datos relacionales en esta sección</b>. Para obtener más detalles sobre el modelado de datos, puede comenzar con:\n",
    "\n",
    "http://en.wikipedia.org/wiki/Relational_model\n",
    "\n",
    "Digamos que para nuestra aplicación de spider de Twitter, en lugar de solo contar los amigos de una persona, queríamos mantener una lista de todas las relaciones entrantes para que pudiéramos encontrar una lista de todos los que están siguiendo una cuenta en particular.\n",
    "\n",
    "Dado que todos tendrán potencialmente muchas cuentas que los sigan, no podemos simplemente agregar una sola columna a nuestra tabla de Twitter . Entonces creamos una nueva tabla que hace un seguimiento de los pares de amigos. La siguiente es una forma simple de hacer una tabla:"
   ]
  },
  {
   "cell_type": "code",
   "execution_count": null,
   "metadata": {},
   "outputs": [],
   "source": [
    "CREATE TABLE Pals (from_friend TEXT, to_friend TEXT)"
   ]
  },
  {
   "cell_type": "markdown",
   "metadata": {},
   "source": [
    "Cada vez que nos encontramos con una persona a quien drchuck está siguiendo, insertamos una fila del formulario:"
   ]
  },
  {
   "cell_type": "code",
   "execution_count": null,
   "metadata": {},
   "outputs": [],
   "source": [
    "INSERT INTO Pals (from_friend,to_friend) VALUES ('drchuck', 'lhawthorn')"
   ]
  },
  {
   "cell_type": "markdown",
   "metadata": {},
   "source": [
    "Como estamos procesando a los 20 amigos del drchuck Twitter de drchuck , insertaremos 20 registros con \"drchuck\" como primer parámetro, por lo que terminaremos duplicando la cadena muchas veces en la base de datos.\n",
    "\n",
    "Esta duplicación de datos de cadena viola una de las mejores prácticas para la normalización de la base de datos, que básicamente establece que nunca deberíamos poner los mismos datos de cadena en la base de datos más de una vez. Si necesitamos los datos más de una vez, creamos una clave numérica para los datos y hacemos referencia a los datos reales utilizando esta clave.\n",
    "\n",
    "En términos prácticos, una cadena ocupa mucho más espacio que un entero en el disco y en la memoria de nuestra computadora, y toma más tiempo de procesador para comparar y ordenar. Si solo tenemos unos cientos de entradas, el tiempo de almacenamiento y procesador apenas importa. Pero si tenemos un millón de personas en nuestra base de datos y una posibilidad de 100 millones de enlaces de amigos, es importante poder escanear los datos lo más rápido posible.\n",
    "\n",
    "Almacenaremos nuestras cuentas de Twitter en una tabla llamada People lugar de la tabla de Twitter utilizada en el ejemplo anterior. La tabla People tiene una columna adicional para almacenar la clave numérica asociada con la fila para este usuario de Twitter. SQLite tiene una función que agrega automáticamente el valor clave para cualquier fila que insertemos en una tabla usando un tipo especial de columna de datos ( INTEGER PRIMARY KEY ).\n",
    "\n",
    "Podemos crear la tabla People con esta columna de id adicional de la siguiente manera:\n",
    "\n"
   ]
  },
  {
   "cell_type": "code",
   "execution_count": null,
   "metadata": {},
   "outputs": [],
   "source": [
    "CREATE TABLE People\n",
    "    (id INTEGER PRIMARY KEY, name TEXT UNIQUE, retrieved INTEGER)"
   ]
  },
  {
   "cell_type": "markdown",
   "metadata": {},
   "source": [
    "Tenga en cuenta que ya no mantenemos un recuento de amigos en cada fila de la tabla People . Cuando seleccionamos INTEGER PRIMARY KEY como el tipo de nuestra columna id , estamos indicando que nos gustaría que SQLite administre esta columna y asigne una clave numérica única a cada fila que insertemos automáticamente. También agregamos la palabra clave UNIQUE para indicar que no permitiremos que SQLite inserte dos filas con el mismo valor para el name .\n",
    "\n",
    "Ahora, en lugar de crear la tabla Pals anterior, creamos una tabla llamada Follows con dos columnas enteras from_id y to_id y una restricción en la tabla que la combinación de from_id y to_id debe ser única en esta tabla (es decir, no podemos insertar filas duplicadas) en nuestra base de datos"
   ]
  },
  {
   "cell_type": "code",
   "execution_count": null,
   "metadata": {},
   "outputs": [],
   "source": [
    "CREATE TABLE Follows\n",
    "    (from_id INTEGER, to_id INTEGER, UNIQUE(from_id, to_id) )"
   ]
  },
  {
   "cell_type": "markdown",
   "metadata": {},
   "source": [
    "*Cuando agregamos cláusulas UNIQUE a nuestras tablas, estamos comunicando un conjunto de reglas que estamos pidiendo a la base de datos que aplique cuando intentemos insertar registros *. Estamos creando estas reglas como una conveniencia en nuestros programas, como veremos en un momento. Las reglas no nos permiten cometer errores y simplificar la escritura de nuestro código.\n",
    "\n",
    "En esencia, al crear esta tabla Follows , estamos modelando una \"relación\" donde una persona \"sigue\" a otra persona y la representa con un par de números que indica que (a) las personas están conectadas y (b) la dirección de la relación .\n",
    "\n",
    "Relaciones entre tablas\n",
    "Relaciones entre tablas\n",
    "\n",
    "### Programación con múltiples tablas\n",
    "Ahora vamos a volver a hacer el programa de araña de Twitter utilizando dos tablas, las claves principales y las referencias clave como se describe arriba. Aquí está el código para la nueva versión del programa:"
   ]
  },
  {
   "cell_type": "code",
   "execution_count": 1,
   "metadata": {},
   "outputs": [
    {
     "ename": "ImportError",
     "evalue": "No module named 'twurl'",
     "output_type": "error",
     "traceback": [
      "\u001b[0;31m---------------------------------------------------------------------------\u001b[0m",
      "\u001b[0;31mImportError\u001b[0m                               Traceback (most recent call last)",
      "\u001b[0;32m<ipython-input-1-656b5cb93581>\u001b[0m in \u001b[0;36m<module>\u001b[0;34m()\u001b[0m\n\u001b[1;32m      1\u001b[0m \u001b[0;32mimport\u001b[0m \u001b[0murllib\u001b[0m\u001b[0;34m.\u001b[0m\u001b[0mrequest\u001b[0m\u001b[0;34m,\u001b[0m \u001b[0murllib\u001b[0m\u001b[0;34m.\u001b[0m\u001b[0mparse\u001b[0m\u001b[0;34m,\u001b[0m \u001b[0murllib\u001b[0m\u001b[0;34m.\u001b[0m\u001b[0merror\u001b[0m\u001b[0;34m\u001b[0m\u001b[0m\n\u001b[0;32m----> 2\u001b[0;31m \u001b[0;32mimport\u001b[0m \u001b[0mtwurl\u001b[0m\u001b[0;34m\u001b[0m\u001b[0m\n\u001b[0m\u001b[1;32m      3\u001b[0m \u001b[0;32mimport\u001b[0m \u001b[0mjson\u001b[0m\u001b[0;34m\u001b[0m\u001b[0m\n\u001b[1;32m      4\u001b[0m \u001b[0;32mimport\u001b[0m \u001b[0msqlite3\u001b[0m\u001b[0;34m\u001b[0m\u001b[0m\n\u001b[1;32m      5\u001b[0m \u001b[0;32mimport\u001b[0m \u001b[0mssl\u001b[0m\u001b[0;34m\u001b[0m\u001b[0m\n",
      "\u001b[0;31mImportError\u001b[0m: No module named 'twurl'"
     ]
    }
   ],
   "source": [
    "import urllib.request, urllib.parse, urllib.error\n",
    "import twurl\n",
    "import json\n",
    "import sqlite3\n",
    "import ssl\n",
    "\n",
    "TWITTER_URL = 'https://api.twitter.com/1.1/friends/list.json'\n",
    "\n",
    "conn = sqlite3.connect('friends.sqlite')\n",
    "cur = conn.cursor()\n",
    "\n",
    "cur.execute('''CREATE TABLE IF NOT EXISTS People\n",
    "            (id INTEGER PRIMARY KEY, name TEXT UNIQUE, retrieved INTEGER)''')\n",
    "cur.execute('''CREATE TABLE IF NOT EXISTS Follows\n",
    "            (from_id INTEGER, to_id INTEGER, UNIQUE(from_id, to_id))''')\n",
    "\n",
    "# Ignore SSL certificate errors\n",
    "ctx = ssl.create_default_context()\n",
    "ctx.check_hostname = False\n",
    "ctx.verify_mode = ssl.CERT_NONE\n",
    "\n",
    "while True:\n",
    "    acct = input('Enter a Twitter account, or quit: ')\n",
    "    if (acct == 'quit'): break\n",
    "    if (len(acct) < 1):\n",
    "        cur.execute('SELECT id, name FROM People WHERE retrieved = 0 LIMIT 1')\n",
    "        try:\n",
    "            (id, acct) = cur.fetchone()#devuelve una tupla\n",
    "        except:\n",
    "            print('No unretrieved Twitter accounts found')\n",
    "            continue\n",
    "    else:\n",
    "        cur.execute('SELECT id FROM People WHERE name = ? LIMIT 1',\n",
    "                    (acct, ))\n",
    "        try:\n",
    "            id = cur.fetchone()[0]\n",
    "        except:\n",
    "            cur.execute('''INSERT OR IGNORE INTO People\n",
    "                        (name, retrieved) VALUES (?, 0)''', (acct, ))\n",
    "            conn.commit()\n",
    "            if cur.rowcount != 1:\n",
    "                print('Error inserting account:', acct)\n",
    "                continue\n",
    "            id = cur.lastrowid\n",
    "\n",
    "    url = twurl.augment(TWITTER_URL, {'screen_name': acct, 'count': '100'})\n",
    "    print('Retrieving account', acct)\n",
    "    try:\n",
    "        connection = urllib.request.urlopen(url, context=ctx)\n",
    "    except Exception as err:\n",
    "        print('Failed to Retrieve', err)\n",
    "        break\n",
    "\n",
    "    data = connection.read().decode()\n",
    "    headers = dict(connection.getheaders())\n",
    "\n",
    "    print('Remaining', headers['x-rate-limit-remaining'])\n",
    "\n",
    "    try:\n",
    "        js = json.loads(data)\n",
    "    except:\n",
    "        print('Unable to parse json')\n",
    "        print(data)\n",
    "        break\n",
    "\n",
    "    # Debugging\n",
    "    # print(json.dumps(js, indent=4))\n",
    "\n",
    "    if 'users' not in js:\n",
    "        print('Incorrect JSON received')\n",
    "        print(json.dumps(js, indent=4))\n",
    "        continue\n",
    "\n",
    "    cur.execute('UPDATE People SET retrieved=1 WHERE name = ?', (acct, ))\n",
    "\n",
    "    countnew = 0\n",
    "    countold = 0\n",
    "    for u in js['users']:\n",
    "        friend = u['screen_name']\n",
    "        print(friend)\n",
    "        cur.execute('SELECT id FROM People WHERE name = ? LIMIT 1',\n",
    "                    (friend, ))\n",
    "        try:\n",
    "            friend_id = cur.fetchone()[0]\n",
    "            countold = countold + 1\n",
    "        except:\n",
    "            cur.execute('''INSERT OR IGNORE INTO People (name, retrieved)\n",
    "                        VALUES (?, 0)''', (friend, ))\n",
    "            conn.commit()\n",
    "            if cur.rowcount != 1:\n",
    "                print('Error inserting account:', friend)\n",
    "                continue\n",
    "            friend_id = cur.lastrowid\n",
    "            countnew = countnew + 1\n",
    "        cur.execute('''INSERT OR IGNORE INTO Follows (from_id, to_id)\n",
    "                    VALUES (?, ?)''', (id, friend_id))\n",
    "    print('New accounts=', countnew, ' revisited=', countold)\n",
    "    print('Remaining', headers['x-rate-limit-remaining'])\n",
    "    conn.commit()\n",
    "cur.close()\n",
    "\n",
    "# Code: http://www.py4e.com/code3/twfriends.py"
   ]
  },
  {
   "cell_type": "markdown",
   "metadata": {},
   "source": [
    "Este programa se está empezando a complicar un poco, pero ilustra los patrones que debemos usar cuando utilizamos claves enteras para vincular tablas. Los patrones básicos son:\n",
    "\n",
    "Crear tablas con claves principales y restricciones.\n",
    "\n",
    "Cuando tenemos una clave lógica para una persona (es decir, nombre de cuenta) y necesitamos el valor de id para la persona, dependiendo de si la persona ya está o no en la tabla People , o bien necesitamos: (1) buscar a la persona en la tabla People y recuperar el valor de id para la persona o (2) agregar la persona a la tabla People y obtener el valor de id para la fila recién agregada.\n",
    "\n",
    "Inserta la fila que captura la relación \"sigue\".\n",
    "\n",
    "Cubriremos cada uno de estos a su vez.\n",
    "\n",
    "### Restricciones en las tablas de la base de datos\n",
    "A medida que diseñamos las estructuras de nuestra tabla, podemos decirle al sistema de la base de datos que nos gustaría aplicar algunas reglas sobre nosotros. Estas reglas nos ayudan a cometer errores e introducir datos incorrectos en las tablas. Cuando creamos nuestras tablas:"
   ]
  },
  {
   "cell_type": "code",
   "execution_count": null,
   "metadata": {},
   "outputs": [],
   "source": [
    "cur.execute('''CREATE TABLE IF NOT EXISTS People\n",
    "    (id INTEGER PRIMARY KEY, name TEXT UNIQUE, retrieved INTEGER)''')\n",
    "cur.execute('''CREATE TABLE IF NOT EXISTS Follows\n",
    "    (from_id INTEGER, to_id INTEGER, UNIQUE(from_id, to_id))''')"
   ]
  },
  {
   "cell_type": "markdown",
   "metadata": {},
   "source": [
    "*Indicamos que la columna de name en la tabla People debe ser UNIQUE* . También indicamos que la combinación de los dos números en cada fila de la tabla Follows debe ser única. Estas restricciones nos impiden cometer errores, como agregar la misma relación más de una vez.\n",
    "\n",
    "Podemos aprovechar estas limitaciones en el siguiente código:"
   ]
  },
  {
   "cell_type": "code",
   "execution_count": null,
   "metadata": {},
   "outputs": [],
   "source": [
    "cur.execute('''INSERT OR IGNORE INTO People (name, retrieved)\n",
    "    VALUES ( ?, 0)''', ( friend, ) )"
   ]
  },
  {
   "cell_type": "markdown",
   "metadata": {},
   "source": [
    "OR IGNORE cláusula OR IGNORE a nuestra INSERT para indicar que si este INSERT particular causaría una violación de la regla \"el name debe ser único\", el sistema de la base de datos puede ignorar el INSERT . Estamos utilizando la restricción de la base de datos como una red de seguridad para asegurarnos de que no hacemos algo incorrecto inadvertidamente.\n",
    "\n",
    "Del mismo modo, el siguiente código asegura que no agreguemos exactamente la misma relación de Follows dos veces."
   ]
  },
  {
   "cell_type": "code",
   "execution_count": null,
   "metadata": {},
   "outputs": [],
   "source": [
    "cur.execute('''INSERT OR IGNORE INTO Follows\n",
    "    (from_id, to_id) VALUES (?, ?)''', (id, friend_id) )"
   ]
  },
  {
   "cell_type": "markdown",
   "metadata": {},
   "source": [
    "De nuevo, simplemente le pedimos a la base de datos que ignore nuestro intento de INSERT si viola la restricción de exclusividad que especificamos para las filas de Follows .\n",
    "\n",
    "Recuperar y / o insertar un registro\n",
    "Cuando solicitamos al usuario una cuenta de Twitter, si la cuenta existe, debemos buscar su valor de id . Si la cuenta aún no existe en la tabla People , debemos insertar el registro y obtener el valor de id de la fila insertada.\n",
    "\n",
    "Este es un patrón muy común y se realiza dos veces en el programa anterior. Este código muestra cómo buscamos la id para la cuenta de un amigo cuando hemos extraído un screen_name de un nodo de user en el Twitter JSON recuperado.\n",
    "\n",
    "Dado que con el tiempo será cada vez más probable que la cuenta ya esté en la base de datos, primero verificamos si el registro de People existe utilizando una instrucción SELECT .\n",
    "\n",
    "Si todo va bien 2 dentro de la sección de try , recuperamos el registro usando fetchone() y luego recuperamos el primer (y único) elemento de la tupla devuelta y lo almacenamos en friend_id .\n",
    "\n",
    "Si falla SELECT , el fetchone()[0] fallará y el control se transferirá a la sección de except ."
   ]
  },
  {
   "cell_type": "code",
   "execution_count": null,
   "metadata": {},
   "outputs": [],
   "source": [
    "    friend = u['screen_name']\n",
    "    cur.execute('SELECT id FROM People WHERE name = ? LIMIT 1',\n",
    "        (friend, ) )\n",
    "    try:\n",
    "        friend_id = cur.fetchone()[0]\n",
    "        countold = countold + 1\n",
    "    except:\n",
    "        cur.execute('''INSERT OR IGNORE INTO People (name, retrieved)\n",
    "            VALUES ( ?, 0)''', ( friend, ) )\n",
    "        conn.commit()\n",
    "        if cur.rowcount != 1 :\n",
    "            print('Error inserting account:',friend)\n",
    "            continue\n",
    "        friend_id = cur.lastrowid\n",
    "        countnew = countnew + 1"
   ]
  },
  {
   "cell_type": "markdown",
   "metadata": {},
   "source": [
    "Si terminamos en el código de except , simplemente significa que no se encontró la fila, por lo que debemos insertar la fila. Usamos INSERT OR IGNORE solo para evitar errores y luego llamamos a commit() para forzar que la base de datos realmente se actualice. Después de que la escritura haya terminado, podemos verificar la cuenta cur.rowcount para ver cuántas filas se vieron afectadas. Dado que estamos intentando insertar una sola fila, si el número de filas afectadas es algo distinto de 1, es un error.\n",
    "\n",
    "Si el INSERT es exitoso, podemos mirar cur.lastrowid para averiguar qué valor asignó la base de datos a la columna de id en nuestra fila recién creada.\n",
    "\n",
    "### Guardando la relación de amigo\n",
    "Una vez que conocemos el valor clave tanto para el usuario de Twitter como para el amigo en el JSON, es una cuestión simple insertar los dos números en la tabla Follows con el siguiente código:"
   ]
  },
  {
   "cell_type": "code",
   "execution_count": null,
   "metadata": {},
   "outputs": [],
   "source": [
    "cur.execute('INSERT OR IGNORE INTO Follows (from_id, to_id) VALUES (?, ?)',\n",
    "    (id, friend_id) )"
   ]
  },
  {
   "cell_type": "markdown",
   "metadata": {},
   "source": [
    "Tenga en cuenta que permitimos que la base de datos se ocupe de evitar que \"inserte dos veces\" una relación creando la tabla con una restricción de exclusividad y luego agregando OR IGNORE a nuestra INSERT .\n",
    "\n",
    "Aquí hay una muestra de ejecución de este programa:"
   ]
  },
  {
   "cell_type": "code",
   "execution_count": null,
   "metadata": {},
   "outputs": [],
   "source": [
    "Enter a Twitter account, or quit:\n",
    "No unretrieved Twitter accounts found\n",
    "Enter a Twitter account, or quit: drchuck\n",
    "Retrieving http://api.twitter.com/1.1/friends ...\n",
    "New accounts= 20  revisited= 0\n",
    "Enter a Twitter account, or quit:\n",
    "Retrieving http://api.twitter.com/1.1/friends ...\n",
    "New accounts= 17  revisited= 3\n",
    "Enter a Twitter account, or quit:\n",
    "Retrieving http://api.twitter.com/1.1/friends ...\n",
    "New accounts= 17  revisited= 3\n",
    "Enter a Twitter account, or quit: quit"
   ]
  },
  {
   "cell_type": "markdown",
   "metadata": {},
   "source": [
    "Comenzamos con la cuenta drchuck y luego dejamos que el programa seleccione automáticamente las siguientes dos cuentas para recuperar y agregar a nuestra base de datos.\n",
    "\n",
    "A continuación se muestran las primeras filas en las tablas People y Follows después de completar esta ejecución:"
   ]
  },
  {
   "cell_type": "code",
   "execution_count": null,
   "metadata": {},
   "outputs": [],
   "source": [
    "People:\n",
    "(1, 'drchuck', 1)\n",
    "(2, 'opencontent', 1)\n",
    "(3, 'lhawthorn', 1)\n",
    "(4, 'steve_coppin', 0)\n",
    "(5, 'davidkocher', 0)\n",
    "55 rows.\n",
    "Follows:\n",
    "(1, 2)\n",
    "(1, 3)\n",
    "(1, 4)\n",
    "(1, 5)\n",
    "(1, 6)\n",
    "60 rows."
   ]
  },
  {
   "cell_type": "markdown",
   "metadata": {},
   "source": [
    "Puede ver la id , el name y los campos visited en la tabla People y verá los números de ambos extremos de la relación en la tabla Follows . En la tabla People , podemos ver que las tres primeras personas han sido visitadas y que se han recuperado sus datos. Los datos en la tabla de drchuck indican que drchuck (usuario 1) es amigo de todas las personas que aparecen en las primeras cinco filas. Esto tiene sentido porque los primeros datos que recuperamos y almacenamos fueron los amigos de Twitter de drchuck . Si imprimiera más filas de la tabla Follows , también vería a los amigos de los usuarios 2 y 3.\n",
    "\n",
    "Tres tipos de llaves\n",
    "Ahora que hemos empezado a construir un modelo de datos que coloque nuestros datos en varias tablas vinculadas y que vincule las filas en esas tablas utilizando claves , debemos consultar algunos términos relacionados con las claves. En general, hay tres tipos de claves utilizadas en un modelo de base de datos.\n",
    "\n",
    "Una clave lógica es una clave que el \"mundo real\" podría usar para buscar una fila. En nuestro modelo de datos de ejemplo, el campo de name es una clave lógica. Es el nombre de pantalla del usuario y de hecho buscamos la fila de un usuario varias veces en el programa usando el campo de name . A menudo encontrará que tiene sentido agregar una restricción UNIQUE a una clave lógica. Como la clave lógica es cómo buscamos una fila del mundo exterior, tiene poco sentido permitir varias filas con el mismo valor en la tabla.\n",
    "\n",
    "Una clave principal suele ser un número que la base de datos asigna automáticamente. Por lo general, no tiene ningún significado fuera del programa y solo se usa para vincular filas de diferentes tablas.Cuando queremos buscar una fila en una tabla, generalmente la búsqueda de la clave principal es la forma más rápida de encontrar la fila. Dado que las claves primarias son números enteros, ocupan muy poco espacio de almacenamiento y se pueden comparar u ordenar rápidamente. En nuestro modelo de datos, el idcampo es un ejemplo de una clave principal.\n",
    "\n",
    "Una clave externa suele ser un número que apunta a la clave principal de una fila asociada en una tabla diferente. Un ejemplo de una clave externa en nuestro modelo de datos es el from_id.\n",
    "\n",
    "Estamos utilizando una convención de nomenclatura de llamada siempre el nombre del campo de clave principal idy anexar el sufijo _ida cualquier nombre de campo que sea una clave externa.\n",
    "\n",
    "### Usando JOIN para recuperar datos\n",
    "Ahora que hemos seguido las reglas de normalización de la base de datos y hemos separado los datos en tablas, vinculados entre sí mediante claves primarias y externas, debemos ser capaces de crear una SELECTque reensamble los datos en todas las tablas.\n",
    "\n",
    "SQL usa la JOINcláusula para volver a conectar estas tablas. En la JOINcláusula, especifique los campos que se utilizan para volver a conectar las filas entre las tablas.\n",
    "\n",
    "El siguiente es un ejemplo de a SELECTcon una JOINcláusula:"
   ]
  },
  {
   "cell_type": "code",
   "execution_count": null,
   "metadata": {},
   "outputs": [],
   "source": [
    "SELECT * FROM Follows JOIN People\n",
    "    ON Follows.from_id = People.id WHERE People.id = 1"
   ]
  },
  {
   "cell_type": "markdown",
   "metadata": {},
   "source": [
    "La JOINcláusula indica que los campos que están seleccionando cruz tanto el Followsy Peopletablas. La ONcláusula indica cómo las dos tablas se van a unir: Tome las filas de Followsy añada la fila de Peoplelos que el campo from_iden Followses el mismo idvalor en la Peopletabla.\n",
    "\n",
    "Conexión de tablas con JOIN\n",
    "Conexión de tablas con JOIN\n",
    "\n",
    "El resultado de JOIN es crear \"metarows\" extralargos que tienen tanto los campos Peoplecomo los de coincidencia Follows. Cuando haya más de una coincidencia entre el idcampo Peopley from_iddesde People, entonces ÚNASE a una metadata para cada uno de los pares de fila coincidentes, duplicando datos según sea necesario.\n",
    "\n",
    "El siguiente código demuestra los datos que tendremos en la base de datos luego de que el programa de Twitter de varias mesas se arriba ejecutado varias veces."
   ]
  },
  {
   "cell_type": "code",
   "execution_count": null,
   "metadata": {},
   "outputs": [],
   "source": [
    "import sqlite3\n",
    "\n",
    "conn = sqlite3.connect('friends.sqlite')\n",
    "cur = conn.cursor()\n",
    "\n",
    "cur.execute('SELECT * FROM People')\n",
    "count = 0\n",
    "print('People:')\n",
    "for row in cur:\n",
    "    if count < 5: print(row)\n",
    "    count = count + 1\n",
    "print(count, 'rows.')\n",
    "\n",
    "cur.execute('SELECT * FROM Follows')\n",
    "count = 0\n",
    "print('Follows:')\n",
    "for row in cur:\n",
    "    if count < 5: print(row)\n",
    "    count = count + 1\n",
    "print(count, 'rows.')\n",
    "\n",
    "cur.execute('''SELECT * FROM Follows JOIN People\n",
    "            ON Follows.to_id = People.id\n",
    "            WHERE Follows.from_id = 2''')\n",
    "count = 0\n",
    "print('Connections for id=2:')\n",
    "for row in cur:\n",
    "    if count < 5: print(row)\n",
    "    count = count + 1\n",
    "print(count, 'rows.')\n",
    "\n",
    "cur.close()\n",
    "\n",
    "# Code: http://www.py4e.com/code3/twjoin.py"
   ]
  },
  {
   "cell_type": "markdown",
   "metadata": {},
   "source": [
    "En este programa, primero volcamos el Peopley Followsluego volcamos un subconjunto de los datos en las tablas unidas.\n",
    "\n",
    "Aquí está el resultado del programa:"
   ]
  },
  {
   "cell_type": "code",
   "execution_count": null,
   "metadata": {},
   "outputs": [],
   "source": [
    "python twjoin.py\n",
    "People:\n",
    "(1, 'drchuck', 1)\n",
    "(2, 'opencontent', 1)\n",
    "(3, 'lhawthorn', 1)\n",
    "(4, 'steve_coppin', 0)\n",
    "(5, 'davidkocher', 0)\n",
    "55 rows.\n",
    "Follows:\n",
    "(1, 2)\n",
    "(1, 3)\n",
    "(1, 4)\n",
    "(1, 5)\n",
    "(1, 6)\n",
    "60 rows.\n",
    "Connections for id=2:\n",
    "(2, 1, 1, 'drchuck', 1)\n",
    "(2, 28, 28, 'cnxorg', 0)\n",
    "(2, 30, 30, 'kthanos', 0)\n",
    "(2, 102, 102, 'SomethingGirl', 0)\n",
    "(2, 103, 103, 'ja_Pac', 0)\n",
    "20 rows."
   ]
  },
  {
   "cell_type": "markdown",
   "metadata": {},
   "source": [
    "Usted tiene las columnas de Peoplelas Followstablas y el último conjunto de filas en el resultado de SELECTla JOINcláusula con .\n",
    "\n",
    "En la última selección, estamos buscando cuentas que sean amigos de \"opencontent\" (es decir, People.id=2).\n",
    "\n",
    "En cada uno de los \"metadatos\" a la última selección, las dos primeras columnas sonoras de la Followstabla, seguidas de las columnas tres a cinco de la Peopletabla. También puede ver que la segunda columna ( Follows.to_id) coincide con la tercera columna ( People.id) en cada uno de los \"metadatos\" unidos.\n",
    "\n",
    "## Resumen\n",
    "Este capítulo tiene una gran cantidad de terreno para darle una visión general de los conceptos básicos del uso de una base de datos en Python. Es más complicado escribir el código para usar una base de datos para almacenar datos que los idiomas o los archivos de Python, por lo que hay que tener en cuenta para usar una base de datos a menos que su aplicación realmente . Las situaciones en que una base de datos puede ser bastante útil son: (1) cuando su aplicación necesita hacer pequeñas actualizaciones dentro de un conjunto de datos, (2) cuando sus datos son tan grandes que no tienen cabida en un diccionario y necesitan buscar la información repetidamente,o (3) cuando tiene un proceso de ejecución prolongada que desea detener y reiniciar y retener los datos de una ejecución a la siguiente.\n",
    "\n",
    "Puede construir una base de datos simple con una sola tabla para satisfacer muchas necesidades de la aplicación, pero la mayoría de los problemas requiere varias tablas y enlaces / relaciones entre tablas en tablas diferentes. Cuando las preguntas se realizan entre tablas, es importante hacer un diseño cuidadoso y seguir las reglas de normalización de la base de datos para hacer el mejor uso de las capacidades de la base de datos. Dado que la principal motivación para usar una base de datos es que tiene una gran cantidad de datos, es importante que sus datos sean correctos para que los programas se ejecuten lo más rápido posible.\n",
    "\n",
    "## Depuración\n",
    "Un patrón común cuando se está desarrollando un programa de Python para conectarse a una base de datos SQLite se ejecuta un programa de Python y verificar los resultados utilizando el navegador de la base de datos para SQLite. El navegador lo puede verificar rápidamente si su programa funciona correctamente.\n",
    "\n",
    "Debe tener cuidado porque SQLite se preocupa por evitar que los programas cambien a los mismos datos al mismo tiempo. Por ejemplo, si abre una base de datos en el navegador y realiza un cambio en la base de datos y aún no ha presionado el botón \"guardar\" en el navegador, el navegador \"bloquea\" el archivo de base de datos y evita que otros programas accedan al archivo. En particular, su programa Python no puede acceder al archivo si está bloqueado.\n",
    "\n",
    "Entonces, una solución es segura de cerrar el navegador de la base de datos o usar el menú Archivo para cerrar la base de datos en el navegador antes de intentar acceder a la base de datos desde Python para evitar el problema de la falla del código de Python porque la base de datos está bloqueada.\n",
    "\n",
    "## Glosario\n",
    "<b>atributo</b>\n",
    "Uno de los valores dentro de una tupla. Más popular llamado \"columna\" o \"campo\".\n",
    "<b>restriccion</b>\n",
    "Cuando le decimos a la base de datos que se aplica una regla en un campo o una fila en una tabla. Una limitación común es insistir en que no se puede tener valores duplicados en un campo particular (es decir, todos los valores deben ser únicos).\n",
    "<b>cursor</b>\n",
    "Un cursor le permite ejecutar comandos SQL en una base de datos y recuperar datos de la base de datos. Un cursor es similar a un socket o identificador de archivo para conexiones de red y archivos, respectivamente.\n",
    "<b>navegador de base</b>\n",
    "Una pieza de software que permite conectarse directamente a una base de datos y manipular la base de datos directamente sin escribir un programa.\n",
    "<b>clave externa</b>\n",
    "Una tecla numérica que apunta a la tecla principal de una fila en otra tabla. Las claves foriales vinculadas entre las filas almacenadas en diferentes tablas.\n",
    "<b>índice</b>\n",
    "Datos adicionales que el software de la base de datos mantiene como filas e inserta en una tabla para realizar búsquedas muy rápido.\n",
    "</b>llave lógica</b>\n",
    "Una clave que el mundo exterior usa para buscar una fila en particular. Por ejemplo, en una tabla de cuentas de usuario, la dirección de correo electrónico de una persona podría ser un buen candidato como la clave lógica para los datos del usuario.\n",
    "<b>normalización</b>\n",
    "Diseñando un modelo de datos para que no se repinte los datos. Almacenamos cada elemento de datos en un lugar de la base de datos y lo llamamos en otro lugar utilizando una clave externa.\n",
    "<b>Clave primaria</b>\n",
    "Una tecla numérica asignada a cada fila que se usa para referirse a una fila en una tabla de otra tabla. A menudo, la base de datos está configurada para asignar automáticamente claves primarias a medida que se inserta las filas.\n",
    "<b>relación</b>\n",
    "Un área dentro de una base de datos que contiene tuplas y atributos. Más típicamente llamado una \"mesa\".\n",
    "<b>tupla</b>\n",
    "Una sola entrada en una tabla de base de datos que es un conjunto de atributos. Más popular llamado \"fila\".\n",
    "\n",
    "SQLite realmente permite una flexibilidad en el tipo de datos almacenados en una columna, pero también nos permite utilizar nuestros datos de datos en este capítulo para que los conceptos se apliquen a otros sistemas de bases de datos como MySQL. ↩\n",
    "\n",
    "En general, cuando una oración comienza con \"si todo va bien\", el código debe usar try / except. ↩\n",
    "\n"
   ]
  }
 ],
 "metadata": {
  "kernelspec": {
   "display_name": "Python 3",
   "language": "python",
   "name": "python3"
  },
  "language_info": {
   "codemirror_mode": {
    "name": "ipython",
    "version": 3
   },
   "file_extension": ".py",
   "mimetype": "text/x-python",
   "name": "python",
   "nbconvert_exporter": "python",
   "pygments_lexer": "ipython3",
   "version": "3.5.2"
  }
 },
 "nbformat": 4,
 "nbformat_minor": 2
}
