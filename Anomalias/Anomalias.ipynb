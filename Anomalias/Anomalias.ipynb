{
 "cells": [
  {
   "cell_type": "code",
   "execution_count": 1,
   "metadata": {},
   "outputs": [],
   "source": [
    "import matplotlib.pyplot as plt\n",
    "import pandas as pd\n",
    "import scipy.stats as sts\n",
    "import numpy as np"
   ]
  },
  {
   "cell_type": "markdown",
   "metadata": {},
   "source": [
    "Estatura\tEdad\n",
    "    1.77\t26\n",
    "    1.74\t31\n",
    "    1.72\t24\n",
    "    1.78\t34\n",
    "    1.65\t32\n",
    "    1.66\t29\n",
    "    1.64\t27\n",
    "    1.85\t34\n",
    "    1.85\t26\n",
    "    1.75\t21\n",
    "    1.73\t23\n",
    "    1.79\t25\n",
    "    1.82\t24\n",
    "    1.65\t25\n",
    "    1.79\t25\n",
    "    1.72\t34\n",
    "    1.70\t26\n",
    "    1.57\t25\n",
    "    1.66\t26\n",
    "    1.75\t27\n",
    "    1.77\t32"
   ]
  },
  {
   "cell_type": "code",
   "execution_count": 2,
   "metadata": {},
   "outputs": [
    {
     "data": {
      "text/html": [
       "<div>\n",
       "<style scoped>\n",
       "    .dataframe tbody tr th:only-of-type {\n",
       "        vertical-align: middle;\n",
       "    }\n",
       "\n",
       "    .dataframe tbody tr th {\n",
       "        vertical-align: top;\n",
       "    }\n",
       "\n",
       "    .dataframe thead th {\n",
       "        text-align: right;\n",
       "    }\n",
       "</style>\n",
       "<table border=\"1\" class=\"dataframe\">\n",
       "  <thead>\n",
       "    <tr style=\"text-align: right;\">\n",
       "      <th></th>\n",
       "      <th>h</th>\n",
       "      <th>age</th>\n",
       "      <th>Tipo de dato</th>\n",
       "    </tr>\n",
       "  </thead>\n",
       "  <tbody>\n",
       "    <tr>\n",
       "      <th>0</th>\n",
       "      <td>1.76</td>\n",
       "      <td>25.0</td>\n",
       "      <td>No-Anomalo</td>\n",
       "    </tr>\n",
       "    <tr>\n",
       "      <th>1</th>\n",
       "      <td>3.00</td>\n",
       "      <td>40.0</td>\n",
       "      <td>Anomalo</td>\n",
       "    </tr>\n",
       "    <tr>\n",
       "      <th>2</th>\n",
       "      <td>1.77</td>\n",
       "      <td>25.0</td>\n",
       "      <td>No-Anomalo</td>\n",
       "    </tr>\n",
       "    <tr>\n",
       "      <th>3</th>\n",
       "      <td>1.69</td>\n",
       "      <td>23.0</td>\n",
       "      <td>No-Anomalo</td>\n",
       "    </tr>\n",
       "    <tr>\n",
       "      <th>4</th>\n",
       "      <td>3.00</td>\n",
       "      <td>23.0</td>\n",
       "      <td>Anomalo</td>\n",
       "    </tr>\n",
       "    <tr>\n",
       "      <th>5</th>\n",
       "      <td>1.78</td>\n",
       "      <td>27.0</td>\n",
       "      <td>No-Anomalo</td>\n",
       "    </tr>\n",
       "  </tbody>\n",
       "</table>\n",
       "</div>"
      ],
      "text/plain": [
       "      h   age Tipo de dato\n",
       "0  1.76  25.0   No-Anomalo\n",
       "1  3.00  40.0      Anomalo\n",
       "2  1.77  25.0   No-Anomalo\n",
       "3  1.69  23.0   No-Anomalo\n",
       "4  3.00  23.0      Anomalo\n",
       "5  1.78  27.0   No-Anomalo"
      ]
     },
     "execution_count": 2,
     "metadata": {},
     "output_type": "execute_result"
    }
   ],
   "source": [
    "h= [1.77,1.74,1.72,1.65,1.85,1.85,1.75,1.73,1.82,1.65,1.79,1.72,1.7,1.57,1.66,1.75,1.77,1.80,1.85,1.82,1.75,1.73,1.55,1.76,1.68]\n",
    "age=[26,31,24,32,34,26,21,23,24,25,25,34,26,25,26,27,32,40,25,24,38,34,29,28,27]\n",
    "median = np.array([np.mean(h), np.mean(age)])\n",
    "sumatoria = np.array([np.std(h),np.std(age)])\n",
    "epsilon  = 0.006\n",
    "\n",
    "eje= np.array([[1.76,25],[3,40],[1.77,25],[1.69,23],[3.00,23],[1.78,27]])\n",
    "\n",
    "productProb = np.prod(np.multiply(np.divide(1,np.sqrt(2*np.pi)*sumatoria),\n",
    "                                  np.power(np.e,-1*np.divide(np.power(eje - median,2),\n",
    "                                  2*np.power(sumatoria,2)))),axis=1)\n",
    "\n",
    "anomalias = pd.DataFrame({'h':eje[:,0],'age':eje[:,1],'Test':productProb})\n",
    "anomalias\n",
    "anomalias.loc[(anomalias.Test<=epsilon) , 'Tipo de dato'] = 'Anomalo' \n",
    "anomalias.loc[(anomalias.Test>epsilon) , 'Tipo de dato'] = 'No-Anomalo' \n",
    "anomalias = anomalias.drop(['Test'],axis=1)\n",
    "anomalias"
   ]
  }
 ],
 "metadata": {
  "kernelspec": {
   "display_name": "Python 3",
   "language": "python",
   "name": "python3"
  },
  "language_info": {
   "codemirror_mode": {
    "name": "ipython",
    "version": 3
   },
   "file_extension": ".py",
   "mimetype": "text/x-python",
   "name": "python",
   "nbconvert_exporter": "python",
   "pygments_lexer": "ipython3",
   "version": "3.6.8"
  }
 },
 "nbformat": 4,
 "nbformat_minor": 2
}
