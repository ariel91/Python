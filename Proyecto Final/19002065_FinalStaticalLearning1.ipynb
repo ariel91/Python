{
 "cells": [
  {
   "cell_type": "markdown",
   "metadata": {},
   "source": [
    "# Jaime Ariel Chitay\n",
    "# 19002065\n",
    "# Examen Final"
   ]
  },
  {
   "cell_type": "markdown",
   "metadata": {},
   "source": [
    "## Importación de librerias"
   ]
  },
  {
   "cell_type": "code",
   "execution_count": 1,
   "metadata": {},
   "outputs": [],
   "source": [
    "import pandas as pd\n",
    "import numpy as np\n",
    "import tensorflow as tf\n",
    "import matplotlib.pyplot as plt\n",
    "from sklearn.model_selection import train_test_split\n",
    "from sklearn import preprocessing"
   ]
  },
  {
   "cell_type": "code",
   "execution_count": 40,
   "metadata": {},
   "outputs": [],
   "source": [
    "data = pd.read_csv('data_titanic_proyecto.csv')\n"
   ]
  },
  {
   "cell_type": "markdown",
   "metadata": {},
   "source": [
    "#### Variables a usar: \n",
    "\n",
    "1) Age <br>\n",
    "2) Fare, <br>\n",
    "3) Embarked, <br>\n",
    "4) passenger_class, <br>\n",
    "5) passenger_sex y <br>\n",
    "6) passenger_survived (que en realidad es la variable objetivo \"y\").</p>"
   ]
  },
  {
   "cell_type": "code",
   "execution_count": 3,
   "metadata": {},
   "outputs": [
    {
     "data": {
      "text/html": [
       "<div>\n",
       "<style scoped>\n",
       "    .dataframe tbody tr th:only-of-type {\n",
       "        vertical-align: middle;\n",
       "    }\n",
       "\n",
       "    .dataframe tbody tr th {\n",
       "        vertical-align: top;\n",
       "    }\n",
       "\n",
       "    .dataframe thead th {\n",
       "        text-align: right;\n",
       "    }\n",
       "</style>\n",
       "<table border=\"1\" class=\"dataframe\">\n",
       "  <thead>\n",
       "    <tr style=\"text-align: right;\">\n",
       "      <th></th>\n",
       "      <th>PassengerId</th>\n",
       "      <th>Age</th>\n",
       "      <th>SibSp</th>\n",
       "      <th>Parch</th>\n",
       "      <th>Fare</th>\n",
       "    </tr>\n",
       "  </thead>\n",
       "  <tbody>\n",
       "    <tr>\n",
       "      <th>count</th>\n",
       "      <td>891.000000</td>\n",
       "      <td>714.000000</td>\n",
       "      <td>891.000000</td>\n",
       "      <td>891.000000</td>\n",
       "      <td>891.000000</td>\n",
       "    </tr>\n",
       "    <tr>\n",
       "      <th>mean</th>\n",
       "      <td>446.000000</td>\n",
       "      <td>29.699118</td>\n",
       "      <td>0.523008</td>\n",
       "      <td>0.381594</td>\n",
       "      <td>32.204208</td>\n",
       "    </tr>\n",
       "    <tr>\n",
       "      <th>std</th>\n",
       "      <td>257.353842</td>\n",
       "      <td>14.526497</td>\n",
       "      <td>1.102743</td>\n",
       "      <td>0.806057</td>\n",
       "      <td>49.693429</td>\n",
       "    </tr>\n",
       "    <tr>\n",
       "      <th>min</th>\n",
       "      <td>1.000000</td>\n",
       "      <td>0.420000</td>\n",
       "      <td>0.000000</td>\n",
       "      <td>0.000000</td>\n",
       "      <td>0.000000</td>\n",
       "    </tr>\n",
       "    <tr>\n",
       "      <th>25%</th>\n",
       "      <td>223.500000</td>\n",
       "      <td>20.125000</td>\n",
       "      <td>0.000000</td>\n",
       "      <td>0.000000</td>\n",
       "      <td>7.910400</td>\n",
       "    </tr>\n",
       "    <tr>\n",
       "      <th>50%</th>\n",
       "      <td>446.000000</td>\n",
       "      <td>28.000000</td>\n",
       "      <td>0.000000</td>\n",
       "      <td>0.000000</td>\n",
       "      <td>14.454200</td>\n",
       "    </tr>\n",
       "    <tr>\n",
       "      <th>75%</th>\n",
       "      <td>668.500000</td>\n",
       "      <td>38.000000</td>\n",
       "      <td>1.000000</td>\n",
       "      <td>0.000000</td>\n",
       "      <td>31.000000</td>\n",
       "    </tr>\n",
       "    <tr>\n",
       "      <th>max</th>\n",
       "      <td>891.000000</td>\n",
       "      <td>80.000000</td>\n",
       "      <td>8.000000</td>\n",
       "      <td>6.000000</td>\n",
       "      <td>512.329200</td>\n",
       "    </tr>\n",
       "  </tbody>\n",
       "</table>\n",
       "</div>"
      ],
      "text/plain": [
       "       PassengerId         Age       SibSp       Parch        Fare\n",
       "count   891.000000  714.000000  891.000000  891.000000  891.000000\n",
       "mean    446.000000   29.699118    0.523008    0.381594   32.204208\n",
       "std     257.353842   14.526497    1.102743    0.806057   49.693429\n",
       "min       1.000000    0.420000    0.000000    0.000000    0.000000\n",
       "25%     223.500000   20.125000    0.000000    0.000000    7.910400\n",
       "50%     446.000000   28.000000    0.000000    0.000000   14.454200\n",
       "75%     668.500000   38.000000    1.000000    0.000000   31.000000\n",
       "max     891.000000   80.000000    8.000000    6.000000  512.329200"
      ]
     },
     "execution_count": 3,
     "metadata": {},
     "output_type": "execute_result"
    }
   ],
   "source": [
    "data.describe()"
   ]
  },
  {
   "cell_type": "code",
   "execution_count": 4,
   "metadata": {},
   "outputs": [
    {
     "data": {
      "text/plain": [
       "0    S\n",
       "dtype: object"
      ]
     },
     "execution_count": 4,
     "metadata": {},
     "output_type": "execute_result"
    }
   ],
   "source": [
    "data['Embarked'].mode()"
   ]
  },
  {
   "cell_type": "markdown",
   "metadata": {},
   "source": [
    "Como se puede observar en la info, Age tiene varios valores nan y Embarked cuenta con únicamente con 2. Para tratar el problema, se limpiará la variable Age llenando los espacios con la mediana y para la variable Embarked se llenarán los espacios utilizando la moda (S = Southampton)."
   ]
  },
  {
   "cell_type": "markdown",
   "metadata": {},
   "source": [
    "# Importación de Dataset"
   ]
  },
  {
   "cell_type": "code",
   "execution_count": 5,
   "metadata": {},
   "outputs": [],
   "source": [
    "dataset = data.drop(['PassengerId', 'Name', 'SibSp', 'Parch', 'Ticket', 'Cabin'], axis = 1)"
   ]
  },
  {
   "cell_type": "code",
   "execution_count": 6,
   "metadata": {},
   "outputs": [],
   "source": [
    "cleanAge = dataset['Age'].fillna(dataset['Age'].median()) #Limpiar nan de Age, llenando con la mediana. \n",
    "dataset = dataset.drop(['Age'], axis=1)\n",
    "dataset['Age'] = cleanAge"
   ]
  },
  {
   "cell_type": "code",
   "execution_count": 7,
   "metadata": {},
   "outputs": [],
   "source": [
    "cleanEmbarked = dataset['Embarked'].astype(object).fillna('S') #Limpiar Embarked llenando con la moda. \n",
    "dataset = dataset.drop(['Embarked'], axis=1)\n",
    "dataset['Embarked'] = cleanEmbarked"
   ]
  },
  {
   "cell_type": "code",
   "execution_count": 8,
   "metadata": {},
   "outputs": [
    {
     "name": "stdout",
     "output_type": "stream",
     "text": [
      "<class 'pandas.core.frame.DataFrame'>\n",
      "RangeIndex: 891 entries, 0 to 890\n",
      "Data columns (total 6 columns):\n",
      "Fare                  891 non-null float64\n",
      "passenger_class       891 non-null object\n",
      "passenger_sex         891 non-null object\n",
      "passenger_survived    891 non-null object\n",
      "Age                   891 non-null float64\n",
      "Embarked              891 non-null object\n",
      "dtypes: float64(2), object(4)\n",
      "memory usage: 41.8+ KB\n"
     ]
    }
   ],
   "source": [
    "dataset.info()"
   ]
  },
  {
   "cell_type": "markdown",
   "metadata": {},
   "source": [
    "En este paso se asignan valores numéricos a las variables categóricas a través de Label Encoder:"
   ]
  },
  {
   "cell_type": "code",
   "execution_count": 9,
   "metadata": {},
   "outputs": [],
   "source": [
    "label_encoder = preprocessing.LabelEncoder()\n",
    "label_encoder.fit(dataset['Embarked'])\n",
    "embarked = label_encoder.transform(dataset['Embarked'])\n",
    "label_encoder.fit(dataset['passenger_sex'])\n",
    "sex = label_encoder.transform(dataset['passenger_sex'])\n",
    "label_encoder.fit(dataset['passenger_class'])\n",
    "pclass = label_encoder.transform(dataset['passenger_class'])\n",
    "label_encoder.fit(dataset['passenger_survived'])\n",
    "psurvived = label_encoder.transform(dataset['passenger_survived'])"
   ]
  },
  {
   "cell_type": "code",
   "execution_count": 37,
   "metadata": {},
   "outputs": [],
   "source": [
    "dataset = dataset.drop(['passenger_class','passenger_survived','Embarked', 'passenger_sex'], axis = 1)\n",
    "dataset['Embarked'] = embarked\n",
    "dataset['passenger_sex'] = sex\n",
    "dataset['passenger_class'] = pclass\n",
    "dataset['passenger_survived'] = psurvived"
   ]
  },
  {
   "cell_type": "markdown",
   "metadata": {},
   "source": [
    "# Normalización de datos"
   ]
  },
  {
   "cell_type": "code",
   "execution_count": 39,
   "metadata": {},
   "outputs": [],
   "source": [
    "from sklearn.preprocessing import normalize\n",
    "features=dataset.iloc[:,0:2]\n",
    "normalize=preprocessing.normalize(features)"
   ]
  },
  {
   "cell_type": "code",
   "execution_count": 12,
   "metadata": {},
   "outputs": [
    {
     "data": {
      "text/html": [
       "<div>\n",
       "<style scoped>\n",
       "    .dataframe tbody tr th:only-of-type {\n",
       "        vertical-align: middle;\n",
       "    }\n",
       "\n",
       "    .dataframe tbody tr th {\n",
       "        vertical-align: top;\n",
       "    }\n",
       "\n",
       "    .dataframe thead th {\n",
       "        text-align: right;\n",
       "    }\n",
       "</style>\n",
       "<table border=\"1\" class=\"dataframe\">\n",
       "  <thead>\n",
       "    <tr style=\"text-align: right;\">\n",
       "      <th></th>\n",
       "      <th>Fare</th>\n",
       "      <th>Age</th>\n",
       "      <th>Embarked</th>\n",
       "      <th>passenger_sex</th>\n",
       "      <th>passenger_class</th>\n",
       "      <th>passenger_survived</th>\n",
       "    </tr>\n",
       "  </thead>\n",
       "  <tbody>\n",
       "    <tr>\n",
       "      <th>0</th>\n",
       "      <td>0.312988</td>\n",
       "      <td>0.949757</td>\n",
       "      <td>2</td>\n",
       "      <td>1</td>\n",
       "      <td>0</td>\n",
       "      <td>0</td>\n",
       "    </tr>\n",
       "    <tr>\n",
       "      <th>1</th>\n",
       "      <td>0.882444</td>\n",
       "      <td>0.470417</td>\n",
       "      <td>0</td>\n",
       "      <td>0</td>\n",
       "      <td>2</td>\n",
       "      <td>1</td>\n",
       "    </tr>\n",
       "    <tr>\n",
       "      <th>2</th>\n",
       "      <td>0.291564</td>\n",
       "      <td>0.956551</td>\n",
       "      <td>2</td>\n",
       "      <td>0</td>\n",
       "      <td>0</td>\n",
       "      <td>1</td>\n",
       "    </tr>\n",
       "    <tr>\n",
       "      <th>3</th>\n",
       "      <td>0.834942</td>\n",
       "      <td>0.550338</td>\n",
       "      <td>2</td>\n",
       "      <td>0</td>\n",
       "      <td>2</td>\n",
       "      <td>1</td>\n",
       "    </tr>\n",
       "    <tr>\n",
       "      <th>4</th>\n",
       "      <td>0.224148</td>\n",
       "      <td>0.974555</td>\n",
       "      <td>2</td>\n",
       "      <td>1</td>\n",
       "      <td>0</td>\n",
       "      <td>0</td>\n",
       "    </tr>\n",
       "  </tbody>\n",
       "</table>\n",
       "</div>"
      ],
      "text/plain": [
       "       Fare       Age  Embarked  passenger_sex  passenger_class  \\\n",
       "0  0.312988  0.949757         2              1                0   \n",
       "1  0.882444  0.470417         0              0                2   \n",
       "2  0.291564  0.956551         2              0                0   \n",
       "3  0.834942  0.550338         2              0                2   \n",
       "4  0.224148  0.974555         2              1                0   \n",
       "\n",
       "   passenger_survived  \n",
       "0                   0  \n",
       "1                   1  \n",
       "2                   1  \n",
       "3                   1  \n",
       "4                   0  "
      ]
     },
     "execution_count": 12,
     "metadata": {},
     "output_type": "execute_result"
    }
   ],
   "source": [
    "Farenorm=normalize[:,0]\n",
    "Agenorm=normalize[:,1]\n",
    "dataset['Fare']=Farenorm\n",
    "dataset['Age']=Agenorm\n",
    "dataset.head()"
   ]
  },
  {
   "cell_type": "markdown",
   "metadata": {},
   "source": [
    "# Datos de entrenamiento y validación"
   ]
  },
  {
   "cell_type": "code",
   "execution_count": 13,
   "metadata": {},
   "outputs": [],
   "source": [
    "y = dataset['passenger_survived'] \n",
    "y = pd.DataFrame(y,columns=['passenger_survived'])#Split data \n",
    "x = dataset.drop(['passenger_survived'],axis=1)"
   ]
  },
  {
   "cell_type": "code",
   "execution_count": 14,
   "metadata": {},
   "outputs": [],
   "source": [
    "X_train, X_test, y_train, y_test = train_test_split(x, y, test_size=0.2, random_state=1)\n",
    "#entrenamiento y validación\n",
    "X_train, X_val, y_train, y_val = train_test_split(X_train, y_train, test_size=0.2, random_state=1)"
   ]
  },
  {
   "cell_type": "code",
   "execution_count": 15,
   "metadata": {},
   "outputs": [
    {
     "name": "stdout",
     "output_type": "stream",
     "text": [
      "(569, 5)\n",
      "(143, 5)\n",
      "(179, 5)\n",
      "(569, 1)\n",
      "(143, 1)\n",
      "(179, 1)\n"
     ]
    }
   ],
   "source": [
    "print(X_train.shape)\n",
    "print(X_val.shape)\n",
    "print(X_test.shape)\n",
    "print(y_train.shape)\n",
    "print(y_val.shape)\n",
    "print(y_test.shape)"
   ]
  },
  {
   "cell_type": "markdown",
   "metadata": {},
   "source": [
    "# Cálculo de métricas"
   ]
  },
  {
   "cell_type": "code",
   "execution_count": 16,
   "metadata": {},
   "outputs": [],
   "source": [
    "# Se importan las funciones que provee sklearn para el cálculo de métricas:\n",
    "from sklearn.metrics import f1_score\n",
    "from sklearn.metrics import classification_report\n",
    "from sklearn.metrics import accuracy_score\n",
    "from sklearn.metrics import precision_score\n",
    "from sklearn.metrics import recall_score"
   ]
  },
  {
   "cell_type": "markdown",
   "metadata": {},
   "source": [
    "# Decision tree"
   ]
  },
  {
   "cell_type": "code",
   "execution_count": 17,
   "metadata": {},
   "outputs": [],
   "source": [
    "from sklearn import tree\n",
    "def decisiontree(md,X,Y):\n",
    "    clasificador_gini = tree.DecisionTreeClassifier(criterion = 'gini', max_depth=md)\n",
    "    clasificador_gini.fit(X_train, y_train)\n",
    "    yhat_gini = clasificador_gini.predict(X)\n",
    "    accuracy = accuracy_score(Y,yhat_gini)\n",
    "    error = 1 - accuracy\n",
    "    reporte = classification_report(Y, yhat_gini)\n",
    "    f1 = f1_score(Y,yhat_gini)\n",
    "    precision = precision_score(Y,yhat_gini)\n",
    "    recall = recall_score(Y,yhat_gini)\n",
    "    metricas_array = np.array([accuracy,error,precision,recall,f1])\n",
    "    df_metricas=pd.DataFrame(metricas_array,index=['Accuracy','Error','Precision','Recall','F1'])\n",
    "    lista=[df_metricas,yhat_gini]\n",
    "    return lista\n"
   ]
  },
  {
   "cell_type": "code",
   "execution_count": 18,
   "metadata": {},
   "outputs": [],
   "source": [
    "dtreetrain1=decisiontree(3,X_train,y_train)\n",
    "dtreeval1=decisiontree(3,X_val,y_val)\n",
    "dtreeval2=decisiontree(5,X_val,y_val)"
   ]
  },
  {
   "cell_type": "code",
   "execution_count": 19,
   "metadata": {},
   "outputs": [
    {
     "data": {
      "text/html": [
       "<div>\n",
       "<style scoped>\n",
       "    .dataframe tbody tr th:only-of-type {\n",
       "        vertical-align: middle;\n",
       "    }\n",
       "\n",
       "    .dataframe tbody tr th {\n",
       "        vertical-align: top;\n",
       "    }\n",
       "\n",
       "    .dataframe thead th {\n",
       "        text-align: right;\n",
       "    }\n",
       "</style>\n",
       "<table border=\"1\" class=\"dataframe\">\n",
       "  <thead>\n",
       "    <tr style=\"text-align: right;\">\n",
       "      <th></th>\n",
       "      <th>Modelo</th>\n",
       "      <th>Cadena de configuración</th>\n",
       "      <th>Accuracy</th>\n",
       "      <th>Error</th>\n",
       "      <th>Precision</th>\n",
       "      <th>Recall</th>\n",
       "      <th>F1</th>\n",
       "    </tr>\n",
       "  </thead>\n",
       "  <tbody>\n",
       "    <tr>\n",
       "      <th>0</th>\n",
       "      <td>Decision tree</td>\n",
       "      <td>D Tree train,md=3</td>\n",
       "      <td>0.841828</td>\n",
       "      <td>0.158172</td>\n",
       "      <td>0.904459</td>\n",
       "      <td>0.654378</td>\n",
       "      <td>0.759358</td>\n",
       "    </tr>\n",
       "    <tr>\n",
       "      <th>0</th>\n",
       "      <td>Decision tree</td>\n",
       "      <td>D Tree val,md=3</td>\n",
       "      <td>0.797203</td>\n",
       "      <td>0.202797</td>\n",
       "      <td>0.828571</td>\n",
       "      <td>0.557692</td>\n",
       "      <td>0.666667</td>\n",
       "    </tr>\n",
       "    <tr>\n",
       "      <th>0</th>\n",
       "      <td>Decision tree</td>\n",
       "      <td>D Tree val,md=5</td>\n",
       "      <td>0.783217</td>\n",
       "      <td>0.216783</td>\n",
       "      <td>0.769231</td>\n",
       "      <td>0.576923</td>\n",
       "      <td>0.659341</td>\n",
       "    </tr>\n",
       "  </tbody>\n",
       "</table>\n",
       "</div>"
      ],
      "text/plain": [
       "          Modelo Cadena de configuración  Accuracy     Error  Precision  \\\n",
       "0  Decision tree       D Tree train,md=3  0.841828  0.158172   0.904459   \n",
       "0  Decision tree         D Tree val,md=3  0.797203  0.202797   0.828571   \n",
       "0  Decision tree         D Tree val,md=5  0.783217  0.216783   0.769231   \n",
       "\n",
       "     Recall        F1  \n",
       "0  0.654378  0.759358  \n",
       "0  0.557692  0.666667  \n",
       "0  0.576923  0.659341  "
      ]
     },
     "execution_count": 19,
     "metadata": {},
     "output_type": "execute_result"
    }
   ],
   "source": [
    "dt = pd.concat([dtreetrain1[0],dtreeval1[0],dtreeval2[0]],axis=1).T\n",
    "dt['Cadena de configuración'] = 'D Tree train,md=3','D Tree val,md=3','D Tree val,md=5'\n",
    "dt['Modelo'] = 'Decision tree','Decision tree','Decision tree'\n",
    "dt = dt[['Modelo','Cadena de configuración','Accuracy','Error','Precision','Recall','F1']]\n",
    "dt"
   ]
  },
  {
   "cell_type": "markdown",
   "metadata": {},
   "source": [
    "# SVM"
   ]
  },
  {
   "cell_type": "code",
   "execution_count": 20,
   "metadata": {},
   "outputs": [],
   "source": [
    "from sklearn.svm import SVC\n",
    "def svm(X,Y,c):\n",
    "    svm_titanic = SVC(kernel='linear',C=c)\n",
    "    svm_titanic.fit(X_train, y_train['passenger_survived'])\n",
    "    y_hat_svm = svm_titanic.predict(X)\n",
    "    svm_accuracy = accuracy_score(Y, y_hat_svm)\n",
    "    svm_error = 1 - svm_accuracy\n",
    "    svm_precision =  precision_score(Y,y_hat_svm)\n",
    "    svm_recall = recall_score(Y,y_hat_svm)\n",
    "    svm_f1 = f1_score(Y,y_hat_svm)\n",
    "    metricas_svm = np.array([svm_accuracy,svm_error,svm_precision,svm_recall,svm_f1])\n",
    "    df_metricas=pd.DataFrame(metricas_svm,index=['Accuracy','Error','Precision','Recall','F1'])\n",
    "    listasvm=[df_metricas,y_hat_svm]\n",
    "    return listasvm"
   ]
  },
  {
   "cell_type": "code",
   "execution_count": 21,
   "metadata": {},
   "outputs": [
    {
     "data": {
      "text/html": [
       "<div>\n",
       "<style scoped>\n",
       "    .dataframe tbody tr th:only-of-type {\n",
       "        vertical-align: middle;\n",
       "    }\n",
       "\n",
       "    .dataframe tbody tr th {\n",
       "        vertical-align: top;\n",
       "    }\n",
       "\n",
       "    .dataframe thead th {\n",
       "        text-align: right;\n",
       "    }\n",
       "</style>\n",
       "<table border=\"1\" class=\"dataframe\">\n",
       "  <thead>\n",
       "    <tr style=\"text-align: right;\">\n",
       "      <th></th>\n",
       "      <th>Modelo</th>\n",
       "      <th>Cadena de configuración</th>\n",
       "      <th>Accuracy</th>\n",
       "      <th>Error</th>\n",
       "      <th>Precision</th>\n",
       "      <th>Recall</th>\n",
       "      <th>F1</th>\n",
       "    </tr>\n",
       "  </thead>\n",
       "  <tbody>\n",
       "    <tr>\n",
       "      <th>0</th>\n",
       "      <td>SVM</td>\n",
       "      <td>SVM train1,C=0.8</td>\n",
       "      <td>0.799649</td>\n",
       "      <td>0.200351</td>\n",
       "      <td>0.758794</td>\n",
       "      <td>0.695853</td>\n",
       "      <td>0.725962</td>\n",
       "    </tr>\n",
       "    <tr>\n",
       "      <th>0</th>\n",
       "      <td>SVM</td>\n",
       "      <td>SVM val1,C=0.8</td>\n",
       "      <td>0.748252</td>\n",
       "      <td>0.251748</td>\n",
       "      <td>0.660000</td>\n",
       "      <td>0.634615</td>\n",
       "      <td>0.647059</td>\n",
       "    </tr>\n",
       "  </tbody>\n",
       "</table>\n",
       "</div>"
      ],
      "text/plain": [
       "  Modelo Cadena de configuración  Accuracy     Error  Precision    Recall  \\\n",
       "0    SVM        SVM train1,C=0.8  0.799649  0.200351   0.758794  0.695853   \n",
       "0    SVM          SVM val1,C=0.8  0.748252  0.251748   0.660000  0.634615   \n",
       "\n",
       "         F1  \n",
       "0  0.725962  \n",
       "0  0.647059  "
      ]
     },
     "execution_count": 21,
     "metadata": {},
     "output_type": "execute_result"
    }
   ],
   "source": [
    "svmtrain1=svm(X_train,y_train,0.8)\n",
    "svmval1=svm(X_val,y_val,0.8)\n",
    "sv = pd.concat([svmtrain1[0],svmval1[0]],axis=1).T\n",
    "sv['Cadena de configuración'] = 'SVM train1,C=0.8','SVM val1,C=0.8'\n",
    "sv['Modelo'] = 'SVM','SVM'\n",
    "sv = sv[['Modelo','Cadena de configuración','Accuracy','Error','Precision','Recall','F1']]\n",
    "sv"
   ]
  },
  {
   "cell_type": "markdown",
   "metadata": {},
   "source": [
    "# Regresión Logística con TensorFlow"
   ]
  },
  {
   "cell_type": "code",
   "execution_count": 22,
   "metadata": {},
   "outputs": [
    {
     "name": "stdout",
     "output_type": "stream",
     "text": [
      "(569, 5)\n",
      "(143, 5)\n",
      "(179, 5)\n",
      "(569, 1)\n",
      "(143, 1)\n",
      "(179, 1)\n"
     ]
    }
   ],
   "source": [
    "print(X_train.shape)\n",
    "print(X_val.shape)\n",
    "print(X_test.shape)\n",
    "print(y_train.shape)\n",
    "print(y_val.shape)\n",
    "print(y_test.shape)"
   ]
  },
  {
   "cell_type": "code",
   "execution_count": 23,
   "metadata": {},
   "outputs": [],
   "source": [
    "def yrl(y): ##Esta se utiliza para convertir los pandas series a arrays para luego poder obtener las metricas\n",
    "    ydata = y.values\n",
    "    return ydata"
   ]
  },
  {
   "cell_type": "code",
   "execution_count": 24,
   "metadata": {},
   "outputs": [
    {
     "name": "stdout",
     "output_type": "stream",
     "text": [
      "Stored 'ytrainrl' (ndarray)\n",
      "Stored 'yvalrl' (ndarray)\n",
      "Stored 'ytestrl' (ndarray)\n"
     ]
    }
   ],
   "source": [
    "ytrainrl=yrl(y_train)\n",
    "yvalrl=yrl(y_val)\n",
    "ytestrl=yrl(y_test)\n",
    "\n",
    "%store ytrainrl\n",
    "%store yvalrl\n",
    "%store ytestrl"
   ]
  },
  {
   "cell_type": "code",
   "execution_count": 25,
   "metadata": {},
   "outputs": [],
   "source": [
    "def regresion_logistica(x,y,lr,fr,epoch,batch):\n",
    "    session = tf.Session()\n",
    "    X = tf.placeholder(shape=[None, 5], dtype = tf.float32)\n",
    "    Y = tf.placeholder(shape = [None, 1], dtype=tf.float32)\n",
    "    W = tf.Variable(tf.random_normal(shape=[5,1]))\n",
    "    b = tf.Variable(tf.random_normal(shape=[1,1]))\n",
    "    y_hat = tf.add(tf.matmul(X, W), b)\n",
    "    cost = tf.reduce_mean(tf.nn.sigmoid_cross_entropy_with_logits(logits=y_hat, labels = Y)) + fr*tf.nn.l2_loss(W)\n",
    "    init = tf.global_variables_initializer()\n",
    "    session.run(init)\n",
    "    optimizador = tf.train.GradientDescentOptimizer(learning_rate=lr)\n",
    "    opt_minimize = optimizador.minimize(cost)\n",
    "    salida_prob = tf.sigmoid(y_hat)\n",
    "    clasificacion_lr = tf.round(tf.sigmoid(y_hat))\n",
    "    clasificacion_final = tf.cast(tf.equal(clasificacion_lr, Y), tf.float32)\n",
    "    accuracy = tf.reduce_mean(clasificacion_final)\n",
    "    epochs = epoch\n",
    "    batch_size = batch\n",
    "    for epoch in range(epochs):\n",
    "        batches = int(X_train.shape[0] / batch_size)\n",
    "        for i in range(batches):\n",
    "            session.run(opt_minimize, feed_dict={X: X_train, Y: y_train})\n",
    "            parametrosW = session.run(W,feed_dict={X: X_train, Y: y_train})\n",
    "            parametrosb = session.run(b,feed_dict={X: X_train, Y: y_train}) #Hasta acá se entrena\n",
    "            prob_output = session.run(salida_prob,feed_dict={X: x, Y: y})\n",
    "            cc = session.run(clasificacion_final,feed_dict={X: x, Y: y})\n",
    "            acc = session.run(accuracy, feed_dict={X: x, Y: y})\n",
    "            errorlr = 1 - acc\n",
    "            metricas_arraylr = np.array([acc,errorlr]) #accuracy en index 0; error en index 1.\n",
    "            listlr=[metricas_arraylr,cc,prob_output,parametrosW,parametrosb]\n",
    "            \n",
    "    return listlr"
   ]
  },
  {
   "cell_type": "code",
   "execution_count": 26,
   "metadata": {},
   "outputs": [],
   "source": [
    "rltrainpred1 = regresion_logistica(X_train,ytrainrl,0.01,0.01,200,30)[1]\n",
    "rltrainW = regresion_logistica(X_train,ytrainrl,0.01,0.01,200,30)[3]\n",
    "rltrainb = regresion_logistica(X_train,ytrainrl,0.01,0.01,200,30)[4]\n",
    "rltrainmetric = regresion_logistica(X_train,ytrainrl,0.01,0.01,200,30)[0]"
   ]
  },
  {
   "cell_type": "code",
   "execution_count": 27,
   "metadata": {},
   "outputs": [],
   "source": [
    "rltrainpred2 = regresion_logistica(X_train,ytrainrl,0.001,10,200,30)[1]\n",
    "rltrainW2 = regresion_logistica(X_train,ytrainrl,0.001,10,200,30)[3]\n",
    "rltrainb2 = regresion_logistica(X_train,ytrainrl,0.001,10,200,30)[4]\n",
    "rltrainmetric2 = regresion_logistica(X_train,ytrainrl,0.001,10,200,30)[0]"
   ]
  },
  {
   "cell_type": "code",
   "execution_count": 28,
   "metadata": {},
   "outputs": [],
   "source": [
    "rltrainpred3 = regresion_logistica(X_train,ytrainrl,0.0001,5,200,30)[1]\n",
    "rltrainW3 = regresion_logistica(X_train,ytrainrl,0.0001,5,200,30)[3]\n",
    "rltrainb3 = regresion_logistica(X_train,ytrainrl,0.0001,5,200,30)[4]\n",
    "rltrainmetric3 = regresion_logistica(X_train,ytrainrl,0.0001,5,200,30)[0]"
   ]
  },
  {
   "cell_type": "code",
   "execution_count": 29,
   "metadata": {},
   "outputs": [],
   "source": [
    "rltrainpred4 = regresion_logistica(X_train,ytrainrl,0.0001,0.01,200,30)[1]\n",
    "rltrainW4 = regresion_logistica(X_train,ytrainrl,0.0001,0.01,200,30)[3]\n",
    "rltrainb4 = regresion_logistica(X_train,ytrainrl,0.0001,0.01,200,30)[4]\n",
    "rltrainmetric4 = regresion_logistica(X_train,ytrainrl,0.0001,0.01,200,30)[0]"
   ]
  },
  {
   "cell_type": "code",
   "execution_count": 31,
   "metadata": {},
   "outputs": [],
   "source": [
    "rlvalpred1 = regresion_logistica(X_val,yvalrl,0.0001,0.01,200,30)[1]"
   ]
  },
  {
   "cell_type": "code",
   "execution_count": 32,
   "metadata": {},
   "outputs": [],
   "source": [
    "#funcion similar a los modelos anteriores: regresa df con metricas, yhats y la salida probabilistica (para este caso)\n",
    "def rlfinal(y,yhat):\n",
    "    prediccion = yhat\n",
    "    accuracy = accuracy_score(y,prediccion.astype(int))  #las y que se ingresan son las obtenidas en la funcion\n",
    "    error = 1 - accuracy\n",
    "    precision = precision_score(y,prediccion.astype(int))\n",
    "    recall = recall_score(y,prediccion.astype(int))\n",
    "    f1 = f1_score(y,prediccion.astype(int))\n",
    "    metricas_rl = np.array([accuracy,error,precision,recall, f1])\n",
    "    df_metricasrl=pd.DataFrame(metricas_rl,index=['Accuracy','Error','Precision','Recall','F1'])\n",
    "    listarl=[df_metricasrl,prediccion.astype(int).T]\n",
    "    return listarl"
   ]
  },
  {
   "cell_type": "code",
   "execution_count": 33,
   "metadata": {},
   "outputs": [],
   "source": [
    "rltrain1 = rlfinal(ytrainrl,rltrainpred1)\n",
    "rltrain2 = rlfinal(ytrainrl,rltrainpred2)\n",
    "rltrain3 = rlfinal(ytrainrl,rltrainpred3)\n",
    "rltrain4 = rlfinal(ytrainrl,rltrainpred4)\n",
    "rlval = rlfinal(yvalrl,rlvalpred1)"
   ]
  },
  {
   "cell_type": "code",
   "execution_count": 34,
   "metadata": {},
   "outputs": [
    {
     "data": {
      "text/html": [
       "<div>\n",
       "<style scoped>\n",
       "    .dataframe tbody tr th:only-of-type {\n",
       "        vertical-align: middle;\n",
       "    }\n",
       "\n",
       "    .dataframe tbody tr th {\n",
       "        vertical-align: top;\n",
       "    }\n",
       "\n",
       "    .dataframe thead th {\n",
       "        text-align: right;\n",
       "    }\n",
       "</style>\n",
       "<table border=\"1\" class=\"dataframe\">\n",
       "  <thead>\n",
       "    <tr style=\"text-align: right;\">\n",
       "      <th></th>\n",
       "      <th>Modelo</th>\n",
       "      <th>Cadena de configuración</th>\n",
       "      <th>Accuracy</th>\n",
       "      <th>Error</th>\n",
       "      <th>Precision</th>\n",
       "      <th>Recall</th>\n",
       "      <th>F1</th>\n",
       "    </tr>\n",
       "  </thead>\n",
       "  <tbody>\n",
       "    <tr>\n",
       "      <th>0</th>\n",
       "      <td>RL</td>\n",
       "      <td>rl_train,lr=0.01,fr=0.01,epoch=200,batch=30</td>\n",
       "      <td>0.337434</td>\n",
       "      <td>0.662566</td>\n",
       "      <td>0.325328</td>\n",
       "      <td>0.686636</td>\n",
       "      <td>0.441481</td>\n",
       "    </tr>\n",
       "    <tr>\n",
       "      <th>0</th>\n",
       "      <td>RL</td>\n",
       "      <td>rl_train,lr=0.001,fr=10,epoch=200,batch=30</td>\n",
       "      <td>0.000000</td>\n",
       "      <td>1.000000</td>\n",
       "      <td>0.000000</td>\n",
       "      <td>0.000000</td>\n",
       "      <td>0.000000</td>\n",
       "    </tr>\n",
       "    <tr>\n",
       "      <th>0</th>\n",
       "      <td>RL</td>\n",
       "      <td>rl_train,lr=0.0001,fr=5,epoch=200,batch=30</td>\n",
       "      <td>1.000000</td>\n",
       "      <td>0.000000</td>\n",
       "      <td>1.000000</td>\n",
       "      <td>1.000000</td>\n",
       "      <td>1.000000</td>\n",
       "    </tr>\n",
       "    <tr>\n",
       "      <th>0</th>\n",
       "      <td>RL</td>\n",
       "      <td>rl_train,lr=0.0001,fr=0.01,epoch=200,batch=30</td>\n",
       "      <td>0.066784</td>\n",
       "      <td>0.933216</td>\n",
       "      <td>0.038235</td>\n",
       "      <td>0.059908</td>\n",
       "      <td>0.046679</td>\n",
       "    </tr>\n",
       "    <tr>\n",
       "      <th>0</th>\n",
       "      <td>RL</td>\n",
       "      <td>rl_val,lr=0.0001,fr=0.01,epoch=200,batch=30</td>\n",
       "      <td>1.000000</td>\n",
       "      <td>0.000000</td>\n",
       "      <td>1.000000</td>\n",
       "      <td>1.000000</td>\n",
       "      <td>1.000000</td>\n",
       "    </tr>\n",
       "  </tbody>\n",
       "</table>\n",
       "</div>"
      ],
      "text/plain": [
       "  Modelo                        Cadena de configuración  Accuracy     Error  \\\n",
       "0     RL    rl_train,lr=0.01,fr=0.01,epoch=200,batch=30  0.337434  0.662566   \n",
       "0     RL     rl_train,lr=0.001,fr=10,epoch=200,batch=30  0.000000  1.000000   \n",
       "0     RL     rl_train,lr=0.0001,fr=5,epoch=200,batch=30  1.000000  0.000000   \n",
       "0     RL  rl_train,lr=0.0001,fr=0.01,epoch=200,batch=30  0.066784  0.933216   \n",
       "0     RL    rl_val,lr=0.0001,fr=0.01,epoch=200,batch=30  1.000000  0.000000   \n",
       "\n",
       "   Precision    Recall        F1  \n",
       "0   0.325328  0.686636  0.441481  \n",
       "0   0.000000  0.000000  0.000000  \n",
       "0   1.000000  1.000000  1.000000  \n",
       "0   0.038235  0.059908  0.046679  \n",
       "0   1.000000  1.000000  1.000000  "
      ]
     },
     "execution_count": 34,
     "metadata": {},
     "output_type": "execute_result"
    }
   ],
   "source": [
    "rl = pd.concat([rltrain1[0],rltrain2[0],rltrain3[0],rltrain4[0],rlval[0]],axis=1).T\n",
    "rl['Cadena de configuración'] = 'rl_train,lr=0.01,fr=0.01,epoch=200,batch=30','rl_train,lr=0.001,fr=10,epoch=200,batch=30','rl_train,lr=0.0001,fr=5,epoch=200,batch=30','rl_train,lr=0.0001,fr=0.01,epoch=200,batch=30','rl_val,lr=0.0001,fr=0.01,epoch=200,batch=30'\n",
    "rl['Modelo'] = 'RL','RL','RL','RL','RL'\n",
    "rl = rl[['Modelo','Cadena de configuración','Accuracy','Error','Precision','Recall','F1']]\n",
    "rl"
   ]
  },
  {
   "cell_type": "code",
   "execution_count": 35,
   "metadata": {},
   "outputs": [
    {
     "data": {
      "text/html": [
       "<div>\n",
       "<style scoped>\n",
       "    .dataframe tbody tr th:only-of-type {\n",
       "        vertical-align: middle;\n",
       "    }\n",
       "\n",
       "    .dataframe tbody tr th {\n",
       "        vertical-align: top;\n",
       "    }\n",
       "\n",
       "    .dataframe thead th {\n",
       "        text-align: right;\n",
       "    }\n",
       "</style>\n",
       "<table border=\"1\" class=\"dataframe\">\n",
       "  <thead>\n",
       "    <tr style=\"text-align: right;\">\n",
       "      <th></th>\n",
       "      <th>Modelo</th>\n",
       "      <th>Cadena de configuración</th>\n",
       "      <th>Accuracy</th>\n",
       "      <th>Error</th>\n",
       "      <th>Precision</th>\n",
       "      <th>Recall</th>\n",
       "      <th>F1</th>\n",
       "    </tr>\n",
       "  </thead>\n",
       "  <tbody>\n",
       "    <tr>\n",
       "      <th>0</th>\n",
       "      <td>Decision tree</td>\n",
       "      <td>D Tree train,md=3</td>\n",
       "      <td>0.841828</td>\n",
       "      <td>0.158172</td>\n",
       "      <td>0.904459</td>\n",
       "      <td>0.654378</td>\n",
       "      <td>0.759358</td>\n",
       "    </tr>\n",
       "    <tr>\n",
       "      <th>0</th>\n",
       "      <td>Decision tree</td>\n",
       "      <td>D Tree val,md=3</td>\n",
       "      <td>0.797203</td>\n",
       "      <td>0.202797</td>\n",
       "      <td>0.828571</td>\n",
       "      <td>0.557692</td>\n",
       "      <td>0.666667</td>\n",
       "    </tr>\n",
       "    <tr>\n",
       "      <th>0</th>\n",
       "      <td>Decision tree</td>\n",
       "      <td>D Tree val,md=5</td>\n",
       "      <td>0.783217</td>\n",
       "      <td>0.216783</td>\n",
       "      <td>0.769231</td>\n",
       "      <td>0.576923</td>\n",
       "      <td>0.659341</td>\n",
       "    </tr>\n",
       "    <tr>\n",
       "      <th>0</th>\n",
       "      <td>SVM</td>\n",
       "      <td>SVM train1,C=0.8</td>\n",
       "      <td>0.799649</td>\n",
       "      <td>0.200351</td>\n",
       "      <td>0.758794</td>\n",
       "      <td>0.695853</td>\n",
       "      <td>0.725962</td>\n",
       "    </tr>\n",
       "    <tr>\n",
       "      <th>0</th>\n",
       "      <td>SVM</td>\n",
       "      <td>SVM val1,C=0.8</td>\n",
       "      <td>0.748252</td>\n",
       "      <td>0.251748</td>\n",
       "      <td>0.660000</td>\n",
       "      <td>0.634615</td>\n",
       "      <td>0.647059</td>\n",
       "    </tr>\n",
       "  </tbody>\n",
       "</table>\n",
       "</div>"
      ],
      "text/plain": [
       "          Modelo Cadena de configuración  Accuracy     Error  Precision  \\\n",
       "0  Decision tree       D Tree train,md=3  0.841828  0.158172   0.904459   \n",
       "0  Decision tree         D Tree val,md=3  0.797203  0.202797   0.828571   \n",
       "0  Decision tree         D Tree val,md=5  0.783217  0.216783   0.769231   \n",
       "0            SVM        SVM train1,C=0.8  0.799649  0.200351   0.758794   \n",
       "0            SVM          SVM val1,C=0.8  0.748252  0.251748   0.660000   \n",
       "\n",
       "     Recall        F1  \n",
       "0  0.654378  0.759358  \n",
       "0  0.557692  0.666667  \n",
       "0  0.576923  0.659341  \n",
       "0  0.695853  0.725962  \n",
       "0  0.634615  0.647059  "
      ]
     },
     "execution_count": 35,
     "metadata": {},
     "output_type": "execute_result"
    }
   ],
   "source": [
    "tabla1=pd.concat([dt,sv],axis=0)\n",
    "tabla1"
   ]
  },
  {
   "cell_type": "markdown",
   "metadata": {},
   "source": [
    "# Fase de predicción\n"
   ]
  }
 ],
 "metadata": {
  "kernelspec": {
   "display_name": "Python 3",
   "language": "python",
   "name": "python3"
  },
  "language_info": {
   "codemirror_mode": {
    "name": "ipython",
    "version": 3
   },
   "file_extension": ".py",
   "mimetype": "text/x-python",
   "name": "python",
   "nbconvert_exporter": "python",
   "pygments_lexer": "ipython3",
   "version": "3.6.8"
  }
 },
 "nbformat": 4,
 "nbformat_minor": 2
}
