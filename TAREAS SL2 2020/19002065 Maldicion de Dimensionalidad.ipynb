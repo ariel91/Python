{
 "cells": [
  {
   "cell_type": "markdown",
   "metadata": {},
   "source": [
    "# Maldición de dimensionalidad y polynomial features\n",
    "\n",
    "## 19002065 Ariel Chitay"
   ]
  },
  {
   "cell_type": "code",
   "execution_count": 4,
   "metadata": {},
   "outputs": [],
   "source": [
    "from sklearn.preprocessing import PolynomialFeatures\n",
    "import numpy as np\n",
    "import pandas as pd"
   ]
  },
  {
   "cell_type": "markdown",
   "metadata": {},
   "source": [
    "# 1 Variable"
   ]
  },
  {
   "cell_type": "code",
   "execution_count": 7,
   "metadata": {},
   "outputs": [
    {
     "data": {
      "text/html": [
       "<div>\n",
       "<style scoped>\n",
       "    .dataframe tbody tr th:only-of-type {\n",
       "        vertical-align: middle;\n",
       "    }\n",
       "\n",
       "    .dataframe tbody tr th {\n",
       "        vertical-align: top;\n",
       "    }\n",
       "\n",
       "    .dataframe thead th {\n",
       "        text-align: right;\n",
       "    }\n",
       "</style>\n",
       "<table border=\"1\" class=\"dataframe\">\n",
       "  <thead>\n",
       "    <tr style=\"text-align: right;\">\n",
       "      <th></th>\n",
       "      <th>0</th>\n",
       "    </tr>\n",
       "  </thead>\n",
       "  <tbody>\n",
       "    <tr>\n",
       "      <th>0</th>\n",
       "      <td>0.852698</td>\n",
       "    </tr>\n",
       "    <tr>\n",
       "      <th>1</th>\n",
       "      <td>0.359691</td>\n",
       "    </tr>\n",
       "    <tr>\n",
       "      <th>2</th>\n",
       "      <td>0.837309</td>\n",
       "    </tr>\n",
       "    <tr>\n",
       "      <th>3</th>\n",
       "      <td>0.862039</td>\n",
       "    </tr>\n",
       "    <tr>\n",
       "      <th>4</th>\n",
       "      <td>0.434221</td>\n",
       "    </tr>\n",
       "  </tbody>\n",
       "</table>\n",
       "</div>"
      ],
      "text/plain": [
       "          0\n",
       "0  0.852698\n",
       "1  0.359691\n",
       "2  0.837309\n",
       "3  0.862039\n",
       "4  0.434221"
      ]
     },
     "execution_count": 7,
     "metadata": {},
     "output_type": "execute_result"
    }
   ],
   "source": [
    "x = np.random.rand(5,1)\n",
    "x=pd.DataFrame(x)\n",
    "x"
   ]
  },
  {
   "cell_type": "code",
   "execution_count": 8,
   "metadata": {},
   "outputs": [
    {
     "data": {
      "text/plain": [
       "array([[1.        , 0.8526979 , 0.7270937 , 0.61999127],\n",
       "       [1.        , 0.35969064, 0.12937736, 0.04653582],\n",
       "       [1.        , 0.83730853, 0.70108557, 0.58702493],\n",
       "       [1.        , 0.86203925, 0.74311167, 0.64059143],\n",
       "       [1.        , 0.43422062, 0.18854754, 0.08187123]])"
      ]
     },
     "execution_count": 8,
     "metadata": {},
     "output_type": "execute_result"
    }
   ],
   "source": [
    "poly = PolynomialFeatures(3)\n",
    "poly.fit_transform(x)"
   ]
  },
  {
   "cell_type": "markdown",
   "metadata": {},
   "source": [
    "# 2 Variables"
   ]
  },
  {
   "cell_type": "code",
   "execution_count": 9,
   "metadata": {},
   "outputs": [
    {
     "data": {
      "text/html": [
       "<div>\n",
       "<style scoped>\n",
       "    .dataframe tbody tr th:only-of-type {\n",
       "        vertical-align: middle;\n",
       "    }\n",
       "\n",
       "    .dataframe tbody tr th {\n",
       "        vertical-align: top;\n",
       "    }\n",
       "\n",
       "    .dataframe thead th {\n",
       "        text-align: right;\n",
       "    }\n",
       "</style>\n",
       "<table border=\"1\" class=\"dataframe\">\n",
       "  <thead>\n",
       "    <tr style=\"text-align: right;\">\n",
       "      <th></th>\n",
       "      <th>0</th>\n",
       "      <th>1</th>\n",
       "    </tr>\n",
       "  </thead>\n",
       "  <tbody>\n",
       "    <tr>\n",
       "      <th>0</th>\n",
       "      <td>0.753876</td>\n",
       "      <td>0.496817</td>\n",
       "    </tr>\n",
       "    <tr>\n",
       "      <th>1</th>\n",
       "      <td>0.835113</td>\n",
       "      <td>0.919131</td>\n",
       "    </tr>\n",
       "    <tr>\n",
       "      <th>2</th>\n",
       "      <td>0.502708</td>\n",
       "      <td>0.760770</td>\n",
       "    </tr>\n",
       "    <tr>\n",
       "      <th>3</th>\n",
       "      <td>0.321346</td>\n",
       "      <td>0.425710</td>\n",
       "    </tr>\n",
       "    <tr>\n",
       "      <th>4</th>\n",
       "      <td>0.893715</td>\n",
       "      <td>0.964196</td>\n",
       "    </tr>\n",
       "  </tbody>\n",
       "</table>\n",
       "</div>"
      ],
      "text/plain": [
       "          0         1\n",
       "0  0.753876  0.496817\n",
       "1  0.835113  0.919131\n",
       "2  0.502708  0.760770\n",
       "3  0.321346  0.425710\n",
       "4  0.893715  0.964196"
      ]
     },
     "execution_count": 9,
     "metadata": {},
     "output_type": "execute_result"
    }
   ],
   "source": [
    "x1 = np.random.rand(5,2)\n",
    "pd.DataFrame(x1)"
   ]
  },
  {
   "cell_type": "code",
   "execution_count": 10,
   "metadata": {},
   "outputs": [
    {
     "data": {
      "text/plain": [
       "array([[1.        , 0.75387638, 0.49681708, 0.5683296 , 0.37453866,\n",
       "        0.24682721, 0.42845026, 0.28235585, 0.18607721, 0.12262798],\n",
       "       [1.        , 0.83511314, 0.91913106, 0.69741396, 0.76757843,\n",
       "        0.84480191, 0.58241956, 0.64101483, 0.70550517, 0.77648367],\n",
       "       [1.        , 0.5027077 , 0.76077022, 0.25271503, 0.38244505,\n",
       "        0.57877133, 0.12704179, 0.19225807, 0.29095281, 0.44031199],\n",
       "       [1.        , 0.32134564, 0.42571037, 0.10326302, 0.13680017,\n",
       "        0.18122932, 0.03318312, 0.04396014, 0.05823725, 0.0771512 ],\n",
       "       [1.        , 0.89371532, 0.9641956 , 0.79872706, 0.86171638,\n",
       "        0.92967316, 0.71383461, 0.77012912, 0.83086314, 0.89638678]])"
      ]
     },
     "execution_count": 10,
     "metadata": {},
     "output_type": "execute_result"
    }
   ],
   "source": [
    "poly1 = PolynomialFeatures(3)\n",
    "poly1.fit_transform(x1)"
   ]
  },
  {
   "cell_type": "markdown",
   "metadata": {},
   "source": [
    "# 3 variables"
   ]
  },
  {
   "cell_type": "code",
   "execution_count": 11,
   "metadata": {},
   "outputs": [
    {
     "data": {
      "text/html": [
       "<div>\n",
       "<style scoped>\n",
       "    .dataframe tbody tr th:only-of-type {\n",
       "        vertical-align: middle;\n",
       "    }\n",
       "\n",
       "    .dataframe tbody tr th {\n",
       "        vertical-align: top;\n",
       "    }\n",
       "\n",
       "    .dataframe thead th {\n",
       "        text-align: right;\n",
       "    }\n",
       "</style>\n",
       "<table border=\"1\" class=\"dataframe\">\n",
       "  <thead>\n",
       "    <tr style=\"text-align: right;\">\n",
       "      <th></th>\n",
       "      <th>0</th>\n",
       "      <th>1</th>\n",
       "      <th>2</th>\n",
       "    </tr>\n",
       "  </thead>\n",
       "  <tbody>\n",
       "    <tr>\n",
       "      <th>0</th>\n",
       "      <td>0.864082</td>\n",
       "      <td>0.191508</td>\n",
       "      <td>0.953396</td>\n",
       "    </tr>\n",
       "    <tr>\n",
       "      <th>1</th>\n",
       "      <td>0.846687</td>\n",
       "      <td>0.719857</td>\n",
       "      <td>0.189122</td>\n",
       "    </tr>\n",
       "    <tr>\n",
       "      <th>2</th>\n",
       "      <td>0.768482</td>\n",
       "      <td>0.942694</td>\n",
       "      <td>0.727194</td>\n",
       "    </tr>\n",
       "    <tr>\n",
       "      <th>3</th>\n",
       "      <td>0.929440</td>\n",
       "      <td>0.328042</td>\n",
       "      <td>0.532204</td>\n",
       "    </tr>\n",
       "    <tr>\n",
       "      <th>4</th>\n",
       "      <td>0.203560</td>\n",
       "      <td>0.731935</td>\n",
       "      <td>0.119339</td>\n",
       "    </tr>\n",
       "  </tbody>\n",
       "</table>\n",
       "</div>"
      ],
      "text/plain": [
       "          0         1         2\n",
       "0  0.864082  0.191508  0.953396\n",
       "1  0.846687  0.719857  0.189122\n",
       "2  0.768482  0.942694  0.727194\n",
       "3  0.929440  0.328042  0.532204\n",
       "4  0.203560  0.731935  0.119339"
      ]
     },
     "execution_count": 11,
     "metadata": {},
     "output_type": "execute_result"
    }
   ],
   "source": [
    "x2 = np.random.rand(5,3)\n",
    "pd.DataFrame(x2)"
   ]
  },
  {
   "cell_type": "code",
   "execution_count": 12,
   "metadata": {},
   "outputs": [
    {
     "data": {
      "text/plain": [
       "array([[1.        , 0.75387638, 0.49681708, 0.5683296 , 0.37453866,\n",
       "        0.24682721, 0.42845026, 0.28235585, 0.18607721, 0.12262798],\n",
       "       [1.        , 0.83511314, 0.91913106, 0.69741396, 0.76757843,\n",
       "        0.84480191, 0.58241956, 0.64101483, 0.70550517, 0.77648367],\n",
       "       [1.        , 0.5027077 , 0.76077022, 0.25271503, 0.38244505,\n",
       "        0.57877133, 0.12704179, 0.19225807, 0.29095281, 0.44031199],\n",
       "       [1.        , 0.32134564, 0.42571037, 0.10326302, 0.13680017,\n",
       "        0.18122932, 0.03318312, 0.04396014, 0.05823725, 0.0771512 ],\n",
       "       [1.        , 0.89371532, 0.9641956 , 0.79872706, 0.86171638,\n",
       "        0.92967316, 0.71383461, 0.77012912, 0.83086314, 0.89638678]])"
      ]
     },
     "execution_count": 12,
     "metadata": {},
     "output_type": "execute_result"
    }
   ],
   "source": [
    "poly2 = PolynomialFeatures(3)\n",
    "poly2.fit_transform(x1)"
   ]
  },
  {
   "cell_type": "markdown",
   "metadata": {},
   "source": [
    "## Conclusión\n",
    "La maldición de la dimensión nos enseña que la variabilidad de las distancias entre nuestros datos disminuye exponencialmente con el número de dimensiones (features).\n",
    "\n",
    "Esta maldición afecta a las técnicas que estén basadas en distancias tales como agrupamiento (clustering), los vecinos más cercanos (k-NN), algunas técnicas de detección de outliers, etc.\n",
    "\n",
    "Para mitigar los efectos de esta «maldición» podemos utilizar técnicas de reducción de la dimensionalidad y / o aumentar (exponencialmente) la cantidad de datos."
   ]
  }
 ],
 "metadata": {
  "kernelspec": {
   "display_name": "Python 3",
   "language": "python",
   "name": "python3"
  },
  "language_info": {
   "codemirror_mode": {
    "name": "ipython",
    "version": 3
   },
   "file_extension": ".py",
   "mimetype": "text/x-python",
   "name": "python",
   "nbconvert_exporter": "python",
   "pygments_lexer": "ipython3",
   "version": "3.6.8"
  }
 },
 "nbformat": 4,
 "nbformat_minor": 2
}
