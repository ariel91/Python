{
 "cells": [
  {
   "cell_type": "markdown",
   "metadata": {
    "colab_type": "text",
    "id": "mVPRLlzBuqg-"
   },
   "source": [
    "# Jaime Ariel Chitay\n",
    "# 19002065 \n"
   ]
  },
  {
   "cell_type": "markdown",
   "metadata": {},
   "source": [
    "# Descripcion del dataset:\n",
    "\n",
    "Se buscará encontrar un modelo para la resistencia a la compresion del concreto, este Dataset, contiene 6 variables de los ingredientes del concreto y la edad. Por tanto tendremos un dataset con 7 variables de entrada y una de salida. El modelo busca predecir un modelo de regresión.\n",
    "\n",
    "Elementos para encontrar la resistencia a la compresión del concreto:\n",
    "\n",
    "1. cemento\n",
    "2. escoria de alto horno\n",
    "3. cenizas volantes\n",
    "4. agua\n",
    "5. superplastificante\n",
    "6. agregado grueso \n",
    "7. agregado fino."
   ]
  },
  {
   "cell_type": "code",
   "execution_count": 2,
   "metadata": {},
   "outputs": [],
   "source": [
    "import numpy as np\n",
    "import pandas as pd\n",
    "import tensorflow as tf\n",
    "from sklearn import preprocessing\n",
    "from sklearn.model_selection import train_test_split\n",
    "from sklearn.metrics import roc_auc_score, accuracy_score"
   ]
  },
  {
   "cell_type": "code",
   "execution_count": 3,
   "metadata": {
    "colab": {
     "base_uri": "https://localhost:8080/",
     "height": 153
    },
    "colab_type": "code",
    "id": "ptnlSgqnn7Sp",
    "outputId": "d3e3e6dc-9c63-4cf7-9e8c-f385ab602760"
   },
   "outputs": [
    {
     "data": {
      "text/html": [
       "<div>\n",
       "<style scoped>\n",
       "    .dataframe tbody tr th:only-of-type {\n",
       "        vertical-align: middle;\n",
       "    }\n",
       "\n",
       "    .dataframe tbody tr th {\n",
       "        vertical-align: top;\n",
       "    }\n",
       "\n",
       "    .dataframe thead th {\n",
       "        text-align: right;\n",
       "    }\n",
       "</style>\n",
       "<table border=\"1\" class=\"dataframe\">\n",
       "  <thead>\n",
       "    <tr style=\"text-align: right;\">\n",
       "      <th></th>\n",
       "      <th>Blast_Furnace_Slag</th>\n",
       "      <th>Fly_Ash</th>\n",
       "      <th>Water</th>\n",
       "      <th>Superplasticizer</th>\n",
       "      <th>Coarse_Aggregate</th>\n",
       "      <th>Fine_Aggregate</th>\n",
       "      <th>Age</th>\n",
       "      <th>Concrete_compressive_strength</th>\n",
       "    </tr>\n",
       "    <tr>\n",
       "      <th>Cement</th>\n",
       "      <th></th>\n",
       "      <th></th>\n",
       "      <th></th>\n",
       "      <th></th>\n",
       "      <th></th>\n",
       "      <th></th>\n",
       "      <th></th>\n",
       "      <th></th>\n",
       "    </tr>\n",
       "  </thead>\n",
       "  <tbody>\n",
       "    <tr>\n",
       "      <th>540.0</th>\n",
       "      <td>0.0</td>\n",
       "      <td>0.0</td>\n",
       "      <td>162.0</td>\n",
       "      <td>2.5</td>\n",
       "      <td>1040.0</td>\n",
       "      <td>676.0</td>\n",
       "      <td>28</td>\n",
       "      <td>79.986111</td>\n",
       "    </tr>\n",
       "    <tr>\n",
       "      <th>540.0</th>\n",
       "      <td>0.0</td>\n",
       "      <td>0.0</td>\n",
       "      <td>162.0</td>\n",
       "      <td>2.5</td>\n",
       "      <td>1055.0</td>\n",
       "      <td>676.0</td>\n",
       "      <td>28</td>\n",
       "      <td>61.887366</td>\n",
       "    </tr>\n",
       "    <tr>\n",
       "      <th>332.5</th>\n",
       "      <td>142.5</td>\n",
       "      <td>0.0</td>\n",
       "      <td>228.0</td>\n",
       "      <td>0.0</td>\n",
       "      <td>932.0</td>\n",
       "      <td>594.0</td>\n",
       "      <td>270</td>\n",
       "      <td>40.269535</td>\n",
       "    </tr>\n",
       "    <tr>\n",
       "      <th>332.5</th>\n",
       "      <td>142.5</td>\n",
       "      <td>0.0</td>\n",
       "      <td>228.0</td>\n",
       "      <td>0.0</td>\n",
       "      <td>932.0</td>\n",
       "      <td>594.0</td>\n",
       "      <td>365</td>\n",
       "      <td>41.052780</td>\n",
       "    </tr>\n",
       "    <tr>\n",
       "      <th>198.6</th>\n",
       "      <td>132.4</td>\n",
       "      <td>0.0</td>\n",
       "      <td>192.0</td>\n",
       "      <td>0.0</td>\n",
       "      <td>978.4</td>\n",
       "      <td>825.5</td>\n",
       "      <td>360</td>\n",
       "      <td>44.296075</td>\n",
       "    </tr>\n",
       "    <tr>\n",
       "      <th>266.0</th>\n",
       "      <td>114.0</td>\n",
       "      <td>0.0</td>\n",
       "      <td>228.0</td>\n",
       "      <td>0.0</td>\n",
       "      <td>932.0</td>\n",
       "      <td>670.0</td>\n",
       "      <td>90</td>\n",
       "      <td>47.029847</td>\n",
       "    </tr>\n",
       "    <tr>\n",
       "      <th>380.0</th>\n",
       "      <td>95.0</td>\n",
       "      <td>0.0</td>\n",
       "      <td>228.0</td>\n",
       "      <td>0.0</td>\n",
       "      <td>932.0</td>\n",
       "      <td>594.0</td>\n",
       "      <td>365</td>\n",
       "      <td>43.698299</td>\n",
       "    </tr>\n",
       "    <tr>\n",
       "      <th>380.0</th>\n",
       "      <td>95.0</td>\n",
       "      <td>0.0</td>\n",
       "      <td>228.0</td>\n",
       "      <td>0.0</td>\n",
       "      <td>932.0</td>\n",
       "      <td>594.0</td>\n",
       "      <td>28</td>\n",
       "      <td>36.447770</td>\n",
       "    </tr>\n",
       "    <tr>\n",
       "      <th>266.0</th>\n",
       "      <td>114.0</td>\n",
       "      <td>0.0</td>\n",
       "      <td>228.0</td>\n",
       "      <td>0.0</td>\n",
       "      <td>932.0</td>\n",
       "      <td>670.0</td>\n",
       "      <td>28</td>\n",
       "      <td>45.854291</td>\n",
       "    </tr>\n",
       "    <tr>\n",
       "      <th>475.0</th>\n",
       "      <td>0.0</td>\n",
       "      <td>0.0</td>\n",
       "      <td>228.0</td>\n",
       "      <td>0.0</td>\n",
       "      <td>932.0</td>\n",
       "      <td>594.0</td>\n",
       "      <td>28</td>\n",
       "      <td>39.289790</td>\n",
       "    </tr>\n",
       "    <tr>\n",
       "      <th>198.6</th>\n",
       "      <td>132.4</td>\n",
       "      <td>0.0</td>\n",
       "      <td>192.0</td>\n",
       "      <td>0.0</td>\n",
       "      <td>978.4</td>\n",
       "      <td>825.5</td>\n",
       "      <td>90</td>\n",
       "      <td>38.074244</td>\n",
       "    </tr>\n",
       "    <tr>\n",
       "      <th>198.6</th>\n",
       "      <td>132.4</td>\n",
       "      <td>0.0</td>\n",
       "      <td>192.0</td>\n",
       "      <td>0.0</td>\n",
       "      <td>978.4</td>\n",
       "      <td>825.5</td>\n",
       "      <td>28</td>\n",
       "      <td>28.021684</td>\n",
       "    </tr>\n",
       "    <tr>\n",
       "      <th>427.5</th>\n",
       "      <td>47.5</td>\n",
       "      <td>0.0</td>\n",
       "      <td>228.0</td>\n",
       "      <td>0.0</td>\n",
       "      <td>932.0</td>\n",
       "      <td>594.0</td>\n",
       "      <td>270</td>\n",
       "      <td>43.012960</td>\n",
       "    </tr>\n",
       "    <tr>\n",
       "      <th>190.0</th>\n",
       "      <td>190.0</td>\n",
       "      <td>0.0</td>\n",
       "      <td>228.0</td>\n",
       "      <td>0.0</td>\n",
       "      <td>932.0</td>\n",
       "      <td>670.0</td>\n",
       "      <td>90</td>\n",
       "      <td>42.326932</td>\n",
       "    </tr>\n",
       "    <tr>\n",
       "      <th>304.0</th>\n",
       "      <td>76.0</td>\n",
       "      <td>0.0</td>\n",
       "      <td>228.0</td>\n",
       "      <td>0.0</td>\n",
       "      <td>932.0</td>\n",
       "      <td>670.0</td>\n",
       "      <td>28</td>\n",
       "      <td>47.813782</td>\n",
       "    </tr>\n",
       "    <tr>\n",
       "      <th>380.0</th>\n",
       "      <td>0.0</td>\n",
       "      <td>0.0</td>\n",
       "      <td>228.0</td>\n",
       "      <td>0.0</td>\n",
       "      <td>932.0</td>\n",
       "      <td>670.0</td>\n",
       "      <td>90</td>\n",
       "      <td>52.908320</td>\n",
       "    </tr>\n",
       "    <tr>\n",
       "      <th>139.6</th>\n",
       "      <td>209.4</td>\n",
       "      <td>0.0</td>\n",
       "      <td>192.0</td>\n",
       "      <td>0.0</td>\n",
       "      <td>1047.0</td>\n",
       "      <td>806.9</td>\n",
       "      <td>90</td>\n",
       "      <td>39.358048</td>\n",
       "    </tr>\n",
       "    <tr>\n",
       "      <th>342.0</th>\n",
       "      <td>38.0</td>\n",
       "      <td>0.0</td>\n",
       "      <td>228.0</td>\n",
       "      <td>0.0</td>\n",
       "      <td>932.0</td>\n",
       "      <td>670.0</td>\n",
       "      <td>365</td>\n",
       "      <td>56.141962</td>\n",
       "    </tr>\n",
       "    <tr>\n",
       "      <th>380.0</th>\n",
       "      <td>95.0</td>\n",
       "      <td>0.0</td>\n",
       "      <td>228.0</td>\n",
       "      <td>0.0</td>\n",
       "      <td>932.0</td>\n",
       "      <td>594.0</td>\n",
       "      <td>90</td>\n",
       "      <td>40.563252</td>\n",
       "    </tr>\n",
       "    <tr>\n",
       "      <th>475.0</th>\n",
       "      <td>0.0</td>\n",
       "      <td>0.0</td>\n",
       "      <td>228.0</td>\n",
       "      <td>0.0</td>\n",
       "      <td>932.0</td>\n",
       "      <td>594.0</td>\n",
       "      <td>180</td>\n",
       "      <td>42.620648</td>\n",
       "    </tr>\n",
       "  </tbody>\n",
       "</table>\n",
       "</div>"
      ],
      "text/plain": [
       "        Blast_Furnace_Slag  Fly_Ash  Water  Superplasticizer  \\\n",
       "Cement                                                         \n",
       "540.0                  0.0      0.0  162.0               2.5   \n",
       "540.0                  0.0      0.0  162.0               2.5   \n",
       "332.5                142.5      0.0  228.0               0.0   \n",
       "332.5                142.5      0.0  228.0               0.0   \n",
       "198.6                132.4      0.0  192.0               0.0   \n",
       "266.0                114.0      0.0  228.0               0.0   \n",
       "380.0                 95.0      0.0  228.0               0.0   \n",
       "380.0                 95.0      0.0  228.0               0.0   \n",
       "266.0                114.0      0.0  228.0               0.0   \n",
       "475.0                  0.0      0.0  228.0               0.0   \n",
       "198.6                132.4      0.0  192.0               0.0   \n",
       "198.6                132.4      0.0  192.0               0.0   \n",
       "427.5                 47.5      0.0  228.0               0.0   \n",
       "190.0                190.0      0.0  228.0               0.0   \n",
       "304.0                 76.0      0.0  228.0               0.0   \n",
       "380.0                  0.0      0.0  228.0               0.0   \n",
       "139.6                209.4      0.0  192.0               0.0   \n",
       "342.0                 38.0      0.0  228.0               0.0   \n",
       "380.0                 95.0      0.0  228.0               0.0   \n",
       "475.0                  0.0      0.0  228.0               0.0   \n",
       "\n",
       "        Coarse_Aggregate  Fine_Aggregate  Age  Concrete_compressive_strength  \n",
       "Cement                                                                        \n",
       "540.0             1040.0           676.0   28                      79.986111  \n",
       "540.0             1055.0           676.0   28                      61.887366  \n",
       "332.5              932.0           594.0  270                      40.269535  \n",
       "332.5              932.0           594.0  365                      41.052780  \n",
       "198.6              978.4           825.5  360                      44.296075  \n",
       "266.0              932.0           670.0   90                      47.029847  \n",
       "380.0              932.0           594.0  365                      43.698299  \n",
       "380.0              932.0           594.0   28                      36.447770  \n",
       "266.0              932.0           670.0   28                      45.854291  \n",
       "475.0              932.0           594.0   28                      39.289790  \n",
       "198.6              978.4           825.5   90                      38.074244  \n",
       "198.6              978.4           825.5   28                      28.021684  \n",
       "427.5              932.0           594.0  270                      43.012960  \n",
       "190.0              932.0           670.0   90                      42.326932  \n",
       "304.0              932.0           670.0   28                      47.813782  \n",
       "380.0              932.0           670.0   90                      52.908320  \n",
       "139.6             1047.0           806.9   90                      39.358048  \n",
       "342.0              932.0           670.0  365                      56.141962  \n",
       "380.0              932.0           594.0   90                      40.563252  \n",
       "475.0              932.0           594.0  180                      42.620648  "
      ]
     },
     "execution_count": 3,
     "metadata": {},
     "output_type": "execute_result"
    }
   ],
   "source": [
    "dataset = pd.read_excel('Concrete_Data.xls', index_col=0)\n",
    "dataset.shape\n",
    "dataset.head(20)"
   ]
  },
  {
   "cell_type": "markdown",
   "metadata": {
    "colab_type": "text",
    "id": "LS9Kfz0ryIui"
   },
   "source": [
    "# Preprocesamiento de la data.\n",
    "\n",
    "Se tomarán los siguientes aspectos: \n",
    "\n",
    "* Deep Learning no necesita feature engineering.\n",
    "* No hay que aplicar one-hot encoding por el tipo de variables trabajadas. "
   ]
  },
  {
   "cell_type": "markdown",
   "metadata": {
    "colab_type": "text",
    "id": "FdqeHWs7-rQL"
   },
   "source": [
    "### Normalizacion de las features: \n",
    "\n",
    "Formula: \n",
    "\n",
    "**x' = (x - xmin)/(xmax - xmin)**\n",
    "\n"
   ]
  },
  {
   "cell_type": "code",
   "execution_count": 4,
   "metadata": {
    "colab": {
     "base_uri": "https://localhost:8080/",
     "height": 204
    },
    "colab_type": "code",
    "id": "AOws6tgG-qvM",
    "outputId": "2a1c7fac-d5f5-4be0-bf6c-74fdf5d0f0f2"
   },
   "outputs": [
    {
     "data": {
      "text/html": [
       "<div>\n",
       "<style scoped>\n",
       "    .dataframe tbody tr th:only-of-type {\n",
       "        vertical-align: middle;\n",
       "    }\n",
       "\n",
       "    .dataframe tbody tr th {\n",
       "        vertical-align: top;\n",
       "    }\n",
       "\n",
       "    .dataframe thead th {\n",
       "        text-align: right;\n",
       "    }\n",
       "</style>\n",
       "<table border=\"1\" class=\"dataframe\">\n",
       "  <thead>\n",
       "    <tr style=\"text-align: right;\">\n",
       "      <th></th>\n",
       "      <th>Blast_Furnace_Slag</th>\n",
       "      <th>Fly_Ash</th>\n",
       "      <th>Water</th>\n",
       "      <th>Superplasticizer</th>\n",
       "      <th>Coarse_Aggregate</th>\n",
       "      <th>Fine_Aggregate</th>\n",
       "      <th>Age</th>\n",
       "      <th>Concrete_compressive_strength</th>\n",
       "    </tr>\n",
       "  </thead>\n",
       "  <tbody>\n",
       "    <tr>\n",
       "      <th>0</th>\n",
       "      <td>0.000000</td>\n",
       "      <td>0.0</td>\n",
       "      <td>0.321357</td>\n",
       "      <td>0.07764</td>\n",
       "      <td>0.694767</td>\n",
       "      <td>0.205720</td>\n",
       "      <td>0.074176</td>\n",
       "      <td>0.967445</td>\n",
       "    </tr>\n",
       "    <tr>\n",
       "      <th>1</th>\n",
       "      <td>0.000000</td>\n",
       "      <td>0.0</td>\n",
       "      <td>0.321357</td>\n",
       "      <td>0.07764</td>\n",
       "      <td>0.738372</td>\n",
       "      <td>0.205720</td>\n",
       "      <td>0.074176</td>\n",
       "      <td>0.741964</td>\n",
       "    </tr>\n",
       "    <tr>\n",
       "      <th>2</th>\n",
       "      <td>0.396494</td>\n",
       "      <td>0.0</td>\n",
       "      <td>0.848303</td>\n",
       "      <td>0.00000</td>\n",
       "      <td>0.380814</td>\n",
       "      <td>0.000000</td>\n",
       "      <td>0.739011</td>\n",
       "      <td>0.472642</td>\n",
       "    </tr>\n",
       "    <tr>\n",
       "      <th>3</th>\n",
       "      <td>0.396494</td>\n",
       "      <td>0.0</td>\n",
       "      <td>0.848303</td>\n",
       "      <td>0.00000</td>\n",
       "      <td>0.380814</td>\n",
       "      <td>0.000000</td>\n",
       "      <td>1.000000</td>\n",
       "      <td>0.482400</td>\n",
       "    </tr>\n",
       "    <tr>\n",
       "      <th>4</th>\n",
       "      <td>0.368392</td>\n",
       "      <td>0.0</td>\n",
       "      <td>0.560878</td>\n",
       "      <td>0.00000</td>\n",
       "      <td>0.515698</td>\n",
       "      <td>0.580783</td>\n",
       "      <td>0.986264</td>\n",
       "      <td>0.522806</td>\n",
       "    </tr>\n",
       "    <tr>\n",
       "      <th>5</th>\n",
       "      <td>0.317195</td>\n",
       "      <td>0.0</td>\n",
       "      <td>0.848303</td>\n",
       "      <td>0.00000</td>\n",
       "      <td>0.380814</td>\n",
       "      <td>0.190667</td>\n",
       "      <td>0.244505</td>\n",
       "      <td>0.556864</td>\n",
       "    </tr>\n",
       "    <tr>\n",
       "      <th>6</th>\n",
       "      <td>0.264329</td>\n",
       "      <td>0.0</td>\n",
       "      <td>0.848303</td>\n",
       "      <td>0.00000</td>\n",
       "      <td>0.380814</td>\n",
       "      <td>0.000000</td>\n",
       "      <td>1.000000</td>\n",
       "      <td>0.515358</td>\n",
       "    </tr>\n",
       "    <tr>\n",
       "      <th>7</th>\n",
       "      <td>0.264329</td>\n",
       "      <td>0.0</td>\n",
       "      <td>0.848303</td>\n",
       "      <td>0.00000</td>\n",
       "      <td>0.380814</td>\n",
       "      <td>0.000000</td>\n",
       "      <td>0.074176</td>\n",
       "      <td>0.425029</td>\n",
       "    </tr>\n",
       "    <tr>\n",
       "      <th>8</th>\n",
       "      <td>0.317195</td>\n",
       "      <td>0.0</td>\n",
       "      <td>0.848303</td>\n",
       "      <td>0.00000</td>\n",
       "      <td>0.380814</td>\n",
       "      <td>0.190667</td>\n",
       "      <td>0.074176</td>\n",
       "      <td>0.542219</td>\n",
       "    </tr>\n",
       "    <tr>\n",
       "      <th>9</th>\n",
       "      <td>0.000000</td>\n",
       "      <td>0.0</td>\n",
       "      <td>0.848303</td>\n",
       "      <td>0.00000</td>\n",
       "      <td>0.380814</td>\n",
       "      <td>0.000000</td>\n",
       "      <td>0.074176</td>\n",
       "      <td>0.460436</td>\n",
       "    </tr>\n",
       "  </tbody>\n",
       "</table>\n",
       "</div>"
      ],
      "text/plain": [
       "   Blast_Furnace_Slag  Fly_Ash     Water  Superplasticizer  Coarse_Aggregate  \\\n",
       "0            0.000000      0.0  0.321357           0.07764          0.694767   \n",
       "1            0.000000      0.0  0.321357           0.07764          0.738372   \n",
       "2            0.396494      0.0  0.848303           0.00000          0.380814   \n",
       "3            0.396494      0.0  0.848303           0.00000          0.380814   \n",
       "4            0.368392      0.0  0.560878           0.00000          0.515698   \n",
       "5            0.317195      0.0  0.848303           0.00000          0.380814   \n",
       "6            0.264329      0.0  0.848303           0.00000          0.380814   \n",
       "7            0.264329      0.0  0.848303           0.00000          0.380814   \n",
       "8            0.317195      0.0  0.848303           0.00000          0.380814   \n",
       "9            0.000000      0.0  0.848303           0.00000          0.380814   \n",
       "\n",
       "   Fine_Aggregate       Age  Concrete_compressive_strength  \n",
       "0        0.205720  0.074176                       0.967445  \n",
       "1        0.205720  0.074176                       0.741964  \n",
       "2        0.000000  0.739011                       0.472642  \n",
       "3        0.000000  1.000000                       0.482400  \n",
       "4        0.580783  0.986264                       0.522806  \n",
       "5        0.190667  0.244505                       0.556864  \n",
       "6        0.000000  1.000000                       0.515358  \n",
       "7        0.000000  0.074176                       0.425029  \n",
       "8        0.190667  0.074176                       0.542219  \n",
       "9        0.000000  0.074176                       0.460436  "
      ]
     },
     "execution_count": 4,
     "metadata": {},
     "output_type": "execute_result"
    }
   ],
   "source": [
    "scaling = preprocessing.MinMaxScaler()\n",
    "scaledMatrix = scaling.fit_transform(dataset)\n",
    "df_normalized = pd.DataFrame(scaledMatrix,columns=dataset.columns)\n",
    "df_normalized.head(10)"
   ]
  },
  {
   "cell_type": "markdown",
   "metadata": {
    "colab_type": "text",
    "id": "bMrk2cDnT-Y_"
   },
   "source": [
    "**Separacion de variables dependientes e independientes del modelo**"
   ]
  },
  {
   "cell_type": "code",
   "execution_count": 5,
   "metadata": {
    "colab": {},
    "colab_type": "code",
    "id": "e2ZtUmEay7uN"
   },
   "outputs": [],
   "source": [
    "X = df_normalized[['Blast_Furnace_Slag', 'Fly_Ash', 'Water', 'Superplasticizer', 'Coarse_Aggregate', 'Fine_Aggregate', 'Age',]]\n",
    "y = df_normalized[['Concrete_compressive_strength']]"
   ]
  },
  {
   "cell_type": "code",
   "execution_count": 6,
   "metadata": {
    "colab": {
     "base_uri": "https://localhost:8080/",
     "height": 359
    },
    "colab_type": "code",
    "id": "BQfJV3NYzWHN",
    "outputId": "1f39e024-5f71-4c2d-ff38-8f0d97c013b6"
   },
   "outputs": [
    {
     "data": {
      "text/html": [
       "<div>\n",
       "<style scoped>\n",
       "    .dataframe tbody tr th:only-of-type {\n",
       "        vertical-align: middle;\n",
       "    }\n",
       "\n",
       "    .dataframe tbody tr th {\n",
       "        vertical-align: top;\n",
       "    }\n",
       "\n",
       "    .dataframe thead th {\n",
       "        text-align: right;\n",
       "    }\n",
       "</style>\n",
       "<table border=\"1\" class=\"dataframe\">\n",
       "  <thead>\n",
       "    <tr style=\"text-align: right;\">\n",
       "      <th></th>\n",
       "      <th>Blast_Furnace_Slag</th>\n",
       "      <th>Fly_Ash</th>\n",
       "      <th>Water</th>\n",
       "      <th>Superplasticizer</th>\n",
       "      <th>Coarse_Aggregate</th>\n",
       "      <th>Fine_Aggregate</th>\n",
       "      <th>Age</th>\n",
       "    </tr>\n",
       "  </thead>\n",
       "  <tbody>\n",
       "    <tr>\n",
       "      <th>0</th>\n",
       "      <td>0.000000</td>\n",
       "      <td>0.0</td>\n",
       "      <td>0.321357</td>\n",
       "      <td>0.07764</td>\n",
       "      <td>0.694767</td>\n",
       "      <td>0.205720</td>\n",
       "      <td>0.074176</td>\n",
       "    </tr>\n",
       "    <tr>\n",
       "      <th>1</th>\n",
       "      <td>0.000000</td>\n",
       "      <td>0.0</td>\n",
       "      <td>0.321357</td>\n",
       "      <td>0.07764</td>\n",
       "      <td>0.738372</td>\n",
       "      <td>0.205720</td>\n",
       "      <td>0.074176</td>\n",
       "    </tr>\n",
       "    <tr>\n",
       "      <th>2</th>\n",
       "      <td>0.396494</td>\n",
       "      <td>0.0</td>\n",
       "      <td>0.848303</td>\n",
       "      <td>0.00000</td>\n",
       "      <td>0.380814</td>\n",
       "      <td>0.000000</td>\n",
       "      <td>0.739011</td>\n",
       "    </tr>\n",
       "    <tr>\n",
       "      <th>3</th>\n",
       "      <td>0.396494</td>\n",
       "      <td>0.0</td>\n",
       "      <td>0.848303</td>\n",
       "      <td>0.00000</td>\n",
       "      <td>0.380814</td>\n",
       "      <td>0.000000</td>\n",
       "      <td>1.000000</td>\n",
       "    </tr>\n",
       "    <tr>\n",
       "      <th>4</th>\n",
       "      <td>0.368392</td>\n",
       "      <td>0.0</td>\n",
       "      <td>0.560878</td>\n",
       "      <td>0.00000</td>\n",
       "      <td>0.515698</td>\n",
       "      <td>0.580783</td>\n",
       "      <td>0.986264</td>\n",
       "    </tr>\n",
       "    <tr>\n",
       "      <th>5</th>\n",
       "      <td>0.317195</td>\n",
       "      <td>0.0</td>\n",
       "      <td>0.848303</td>\n",
       "      <td>0.00000</td>\n",
       "      <td>0.380814</td>\n",
       "      <td>0.190667</td>\n",
       "      <td>0.244505</td>\n",
       "    </tr>\n",
       "    <tr>\n",
       "      <th>6</th>\n",
       "      <td>0.264329</td>\n",
       "      <td>0.0</td>\n",
       "      <td>0.848303</td>\n",
       "      <td>0.00000</td>\n",
       "      <td>0.380814</td>\n",
       "      <td>0.000000</td>\n",
       "      <td>1.000000</td>\n",
       "    </tr>\n",
       "    <tr>\n",
       "      <th>7</th>\n",
       "      <td>0.264329</td>\n",
       "      <td>0.0</td>\n",
       "      <td>0.848303</td>\n",
       "      <td>0.00000</td>\n",
       "      <td>0.380814</td>\n",
       "      <td>0.000000</td>\n",
       "      <td>0.074176</td>\n",
       "    </tr>\n",
       "    <tr>\n",
       "      <th>8</th>\n",
       "      <td>0.317195</td>\n",
       "      <td>0.0</td>\n",
       "      <td>0.848303</td>\n",
       "      <td>0.00000</td>\n",
       "      <td>0.380814</td>\n",
       "      <td>0.190667</td>\n",
       "      <td>0.074176</td>\n",
       "    </tr>\n",
       "    <tr>\n",
       "      <th>9</th>\n",
       "      <td>0.000000</td>\n",
       "      <td>0.0</td>\n",
       "      <td>0.848303</td>\n",
       "      <td>0.00000</td>\n",
       "      <td>0.380814</td>\n",
       "      <td>0.000000</td>\n",
       "      <td>0.074176</td>\n",
       "    </tr>\n",
       "    <tr>\n",
       "      <th>10</th>\n",
       "      <td>0.368392</td>\n",
       "      <td>0.0</td>\n",
       "      <td>0.560878</td>\n",
       "      <td>0.00000</td>\n",
       "      <td>0.515698</td>\n",
       "      <td>0.580783</td>\n",
       "      <td>0.244505</td>\n",
       "    </tr>\n",
       "    <tr>\n",
       "      <th>11</th>\n",
       "      <td>0.368392</td>\n",
       "      <td>0.0</td>\n",
       "      <td>0.560878</td>\n",
       "      <td>0.00000</td>\n",
       "      <td>0.515698</td>\n",
       "      <td>0.580783</td>\n",
       "      <td>0.074176</td>\n",
       "    </tr>\n",
       "    <tr>\n",
       "      <th>12</th>\n",
       "      <td>0.132165</td>\n",
       "      <td>0.0</td>\n",
       "      <td>0.848303</td>\n",
       "      <td>0.00000</td>\n",
       "      <td>0.380814</td>\n",
       "      <td>0.000000</td>\n",
       "      <td>0.739011</td>\n",
       "    </tr>\n",
       "    <tr>\n",
       "      <th>13</th>\n",
       "      <td>0.528659</td>\n",
       "      <td>0.0</td>\n",
       "      <td>0.848303</td>\n",
       "      <td>0.00000</td>\n",
       "      <td>0.380814</td>\n",
       "      <td>0.190667</td>\n",
       "      <td>0.244505</td>\n",
       "    </tr>\n",
       "    <tr>\n",
       "      <th>14</th>\n",
       "      <td>0.211464</td>\n",
       "      <td>0.0</td>\n",
       "      <td>0.848303</td>\n",
       "      <td>0.00000</td>\n",
       "      <td>0.380814</td>\n",
       "      <td>0.190667</td>\n",
       "      <td>0.074176</td>\n",
       "    </tr>\n",
       "    <tr>\n",
       "      <th>15</th>\n",
       "      <td>0.000000</td>\n",
       "      <td>0.0</td>\n",
       "      <td>0.848303</td>\n",
       "      <td>0.00000</td>\n",
       "      <td>0.380814</td>\n",
       "      <td>0.190667</td>\n",
       "      <td>0.244505</td>\n",
       "    </tr>\n",
       "    <tr>\n",
       "      <th>16</th>\n",
       "      <td>0.582638</td>\n",
       "      <td>0.0</td>\n",
       "      <td>0.560878</td>\n",
       "      <td>0.00000</td>\n",
       "      <td>0.715116</td>\n",
       "      <td>0.534119</td>\n",
       "      <td>0.244505</td>\n",
       "    </tr>\n",
       "    <tr>\n",
       "      <th>17</th>\n",
       "      <td>0.105732</td>\n",
       "      <td>0.0</td>\n",
       "      <td>0.848303</td>\n",
       "      <td>0.00000</td>\n",
       "      <td>0.380814</td>\n",
       "      <td>0.190667</td>\n",
       "      <td>1.000000</td>\n",
       "    </tr>\n",
       "    <tr>\n",
       "      <th>18</th>\n",
       "      <td>0.264329</td>\n",
       "      <td>0.0</td>\n",
       "      <td>0.848303</td>\n",
       "      <td>0.00000</td>\n",
       "      <td>0.380814</td>\n",
       "      <td>0.000000</td>\n",
       "      <td>0.244505</td>\n",
       "    </tr>\n",
       "    <tr>\n",
       "      <th>19</th>\n",
       "      <td>0.000000</td>\n",
       "      <td>0.0</td>\n",
       "      <td>0.848303</td>\n",
       "      <td>0.00000</td>\n",
       "      <td>0.380814</td>\n",
       "      <td>0.000000</td>\n",
       "      <td>0.491758</td>\n",
       "    </tr>\n",
       "  </tbody>\n",
       "</table>\n",
       "</div>"
      ],
      "text/plain": [
       "    Blast_Furnace_Slag  Fly_Ash     Water  Superplasticizer  Coarse_Aggregate  \\\n",
       "0             0.000000      0.0  0.321357           0.07764          0.694767   \n",
       "1             0.000000      0.0  0.321357           0.07764          0.738372   \n",
       "2             0.396494      0.0  0.848303           0.00000          0.380814   \n",
       "3             0.396494      0.0  0.848303           0.00000          0.380814   \n",
       "4             0.368392      0.0  0.560878           0.00000          0.515698   \n",
       "5             0.317195      0.0  0.848303           0.00000          0.380814   \n",
       "6             0.264329      0.0  0.848303           0.00000          0.380814   \n",
       "7             0.264329      0.0  0.848303           0.00000          0.380814   \n",
       "8             0.317195      0.0  0.848303           0.00000          0.380814   \n",
       "9             0.000000      0.0  0.848303           0.00000          0.380814   \n",
       "10            0.368392      0.0  0.560878           0.00000          0.515698   \n",
       "11            0.368392      0.0  0.560878           0.00000          0.515698   \n",
       "12            0.132165      0.0  0.848303           0.00000          0.380814   \n",
       "13            0.528659      0.0  0.848303           0.00000          0.380814   \n",
       "14            0.211464      0.0  0.848303           0.00000          0.380814   \n",
       "15            0.000000      0.0  0.848303           0.00000          0.380814   \n",
       "16            0.582638      0.0  0.560878           0.00000          0.715116   \n",
       "17            0.105732      0.0  0.848303           0.00000          0.380814   \n",
       "18            0.264329      0.0  0.848303           0.00000          0.380814   \n",
       "19            0.000000      0.0  0.848303           0.00000          0.380814   \n",
       "\n",
       "    Fine_Aggregate       Age  \n",
       "0         0.205720  0.074176  \n",
       "1         0.205720  0.074176  \n",
       "2         0.000000  0.739011  \n",
       "3         0.000000  1.000000  \n",
       "4         0.580783  0.986264  \n",
       "5         0.190667  0.244505  \n",
       "6         0.000000  1.000000  \n",
       "7         0.000000  0.074176  \n",
       "8         0.190667  0.074176  \n",
       "9         0.000000  0.074176  \n",
       "10        0.580783  0.244505  \n",
       "11        0.580783  0.074176  \n",
       "12        0.000000  0.739011  \n",
       "13        0.190667  0.244505  \n",
       "14        0.190667  0.074176  \n",
       "15        0.190667  0.244505  \n",
       "16        0.534119  0.244505  \n",
       "17        0.190667  1.000000  \n",
       "18        0.000000  0.244505  \n",
       "19        0.000000  0.491758  "
      ]
     },
     "execution_count": 6,
     "metadata": {},
     "output_type": "execute_result"
    }
   ],
   "source": [
    "X[0:20]"
   ]
  },
  {
   "cell_type": "code",
   "execution_count": 7,
   "metadata": {
    "colab": {
     "base_uri": "https://localhost:8080/",
     "height": 359
    },
    "colab_type": "code",
    "id": "8jJYiaBAzYTf",
    "outputId": "089bdec6-ad73-4e9c-c02d-1fbae5d107ed"
   },
   "outputs": [
    {
     "data": {
      "text/html": [
       "<div>\n",
       "<style scoped>\n",
       "    .dataframe tbody tr th:only-of-type {\n",
       "        vertical-align: middle;\n",
       "    }\n",
       "\n",
       "    .dataframe tbody tr th {\n",
       "        vertical-align: top;\n",
       "    }\n",
       "\n",
       "    .dataframe thead th {\n",
       "        text-align: right;\n",
       "    }\n",
       "</style>\n",
       "<table border=\"1\" class=\"dataframe\">\n",
       "  <thead>\n",
       "    <tr style=\"text-align: right;\">\n",
       "      <th></th>\n",
       "      <th>Concrete_compressive_strength</th>\n",
       "    </tr>\n",
       "  </thead>\n",
       "  <tbody>\n",
       "    <tr>\n",
       "      <th>0</th>\n",
       "      <td>0.967445</td>\n",
       "    </tr>\n",
       "    <tr>\n",
       "      <th>1</th>\n",
       "      <td>0.741964</td>\n",
       "    </tr>\n",
       "    <tr>\n",
       "      <th>2</th>\n",
       "      <td>0.472642</td>\n",
       "    </tr>\n",
       "    <tr>\n",
       "      <th>3</th>\n",
       "      <td>0.482400</td>\n",
       "    </tr>\n",
       "    <tr>\n",
       "      <th>4</th>\n",
       "      <td>0.522806</td>\n",
       "    </tr>\n",
       "    <tr>\n",
       "      <th>5</th>\n",
       "      <td>0.556864</td>\n",
       "    </tr>\n",
       "    <tr>\n",
       "      <th>6</th>\n",
       "      <td>0.515358</td>\n",
       "    </tr>\n",
       "    <tr>\n",
       "      <th>7</th>\n",
       "      <td>0.425029</td>\n",
       "    </tr>\n",
       "    <tr>\n",
       "      <th>8</th>\n",
       "      <td>0.542219</td>\n",
       "    </tr>\n",
       "    <tr>\n",
       "      <th>9</th>\n",
       "      <td>0.460436</td>\n",
       "    </tr>\n",
       "    <tr>\n",
       "      <th>10</th>\n",
       "      <td>0.445292</td>\n",
       "    </tr>\n",
       "    <tr>\n",
       "      <th>11</th>\n",
       "      <td>0.320054</td>\n",
       "    </tr>\n",
       "    <tr>\n",
       "      <th>12</th>\n",
       "      <td>0.506820</td>\n",
       "    </tr>\n",
       "    <tr>\n",
       "      <th>13</th>\n",
       "      <td>0.498273</td>\n",
       "    </tr>\n",
       "    <tr>\n",
       "      <th>14</th>\n",
       "      <td>0.566631</td>\n",
       "    </tr>\n",
       "    <tr>\n",
       "      <th>15</th>\n",
       "      <td>0.630100</td>\n",
       "    </tr>\n",
       "    <tr>\n",
       "      <th>16</th>\n",
       "      <td>0.461286</td>\n",
       "    </tr>\n",
       "    <tr>\n",
       "      <th>17</th>\n",
       "      <td>0.670386</td>\n",
       "    </tr>\n",
       "    <tr>\n",
       "      <th>18</th>\n",
       "      <td>0.476301</td>\n",
       "    </tr>\n",
       "    <tr>\n",
       "      <th>19</th>\n",
       "      <td>0.501933</td>\n",
       "    </tr>\n",
       "  </tbody>\n",
       "</table>\n",
       "</div>"
      ],
      "text/plain": [
       "    Concrete_compressive_strength\n",
       "0                        0.967445\n",
       "1                        0.741964\n",
       "2                        0.472642\n",
       "3                        0.482400\n",
       "4                        0.522806\n",
       "5                        0.556864\n",
       "6                        0.515358\n",
       "7                        0.425029\n",
       "8                        0.542219\n",
       "9                        0.460436\n",
       "10                       0.445292\n",
       "11                       0.320054\n",
       "12                       0.506820\n",
       "13                       0.498273\n",
       "14                       0.566631\n",
       "15                       0.630100\n",
       "16                       0.461286\n",
       "17                       0.670386\n",
       "18                       0.476301\n",
       "19                       0.501933"
      ]
     },
     "execution_count": 7,
     "metadata": {},
     "output_type": "execute_result"
    }
   ],
   "source": [
    "y[0:20]"
   ]
  },
  {
   "cell_type": "markdown",
   "metadata": {
    "colab_type": "text",
    "id": "FPBlnEAiUDW1"
   },
   "source": [
    "# Cross validations and k-folds\n",
    "\n",
    "Se tomaran un 15% de datos para el Test, y un 85% de datos para el Train. Tambien utilizamos crossValidation k folds."
   ]
  },
  {
   "cell_type": "code",
   "execution_count": 8,
   "metadata": {
    "colab": {},
    "colab_type": "code",
    "id": "w2qMHOPNUKOJ"
   },
   "outputs": [],
   "source": [
    "def crossValidKfolds(X,y,k=3,itTest = 3):\n",
    "    if itTest>k:\n",
    "        return None\n",
    "    elif itTest == k:\n",
    "        return (X[(X.shape[0]//k)*(itTest-1):],   #xTest             \n",
    "                y[(y.shape[0]//k)*(itTest-1):],   #yTest\n",
    "                X[:(X.shape[0]//k)*(itTest-1)],   #xTrain\n",
    "                y[:(y.shape[0]//k)*(itTest-1)])   #yTrain\n",
    "    elif itTest == 1:\n",
    "        return (X[(X.shape[0]//k)*(itTest-1): (X.shape[0]//k)*(itTest)],                \n",
    "                y[(y.shape[0]//k)*(itTest-1): (y.shape[0]//k)*(itTest)],\n",
    "                X[(X.shape[0]//k)*(itTest):],\n",
    "                y[(y.shape[0]//k)*(itTest):])\n",
    "    else:\n",
    "        firstX = X[:(X.shape[0]//k)*(itTest-1)]\n",
    "        secndX = X[(X.shape[0]//k)*(itTest):]\n",
    "        firstY = y[:(y.shape[0]//k)*(itTest-1)]\n",
    "        secndY = y[(y.shape[0]//k)*(itTest):]\n",
    "        return (X[(X.shape[0]//k)*(itTest-1): (X.shape[0]//k)*(itTest)],                \n",
    "                y[(y.shape[0]//k)*(itTest-1): (y.shape[0]//k)*(itTest)],\n",
    "                pd.concat([firstX, secndX]),\n",
    "                pd.concat([firstY, secndY])) "
   ]
  },
  {
   "cell_type": "code",
   "execution_count": 9,
   "metadata": {
    "colab": {},
    "colab_type": "code",
    "id": "ITbUHZ4GUGd0"
   },
   "outputs": [],
   "source": [
    "porcentajeTest = 0.15"
   ]
  },
  {
   "cell_type": "code",
   "execution_count": 10,
   "metadata": {
    "colab": {},
    "colab_type": "code",
    "id": "TRGshxe5UVVg"
   },
   "outputs": [],
   "source": [
    "#Devolvemos el segmento 2 de 6 (int(1/0.15))\n",
    "xTest01,yTest01,xTrain01,yTrain01 = crossValidKfolds(X,y,k=int(1/porcentajeTest),itTest = 2)\n",
    "#Devolvemos el segmento 4 de 6 (int(1/0.15))\n",
    "xTest02,yTest02,xTrain02,yTrain02 = crossValidKfolds(X,y,k=int(1/porcentajeTest),itTest = 4)\n",
    "#Devolvemos el segmento 6 de 6 (int(1/0.15))\n",
    "xTest03,yTest03,xTrain03,yTrain03 = crossValidKfolds(X,y,k=int(1/porcentajeTest),itTest = 6)"
   ]
  },
  {
   "cell_type": "markdown",
   "metadata": {
    "colab_type": "text",
    "id": "SVTCH2_mTdlq"
   },
   "source": [
    "**Agregando el Bias a cada set de entrenamiento**"
   ]
  },
  {
   "cell_type": "code",
   "execution_count": 12,
   "metadata": {
    "colab": {
     "base_uri": "https://localhost:8080/",
     "height": 221
    },
    "colab_type": "code",
    "id": "UuJmQAPfVqcs",
    "outputId": "6cad5405-dfbb-48f3-b483-a9b323407857"
   },
   "outputs": [
    {
     "name": "stdout",
     "output_type": "stream",
     "text": [
      "(171, 7)\n"
     ]
    },
    {
     "data": {
      "text/html": [
       "<div>\n",
       "<style scoped>\n",
       "    .dataframe tbody tr th:only-of-type {\n",
       "        vertical-align: middle;\n",
       "    }\n",
       "\n",
       "    .dataframe tbody tr th {\n",
       "        vertical-align: top;\n",
       "    }\n",
       "\n",
       "    .dataframe thead th {\n",
       "        text-align: right;\n",
       "    }\n",
       "</style>\n",
       "<table border=\"1\" class=\"dataframe\">\n",
       "  <thead>\n",
       "    <tr style=\"text-align: right;\">\n",
       "      <th></th>\n",
       "      <th>Blast_Furnace_Slag</th>\n",
       "      <th>Fly_Ash</th>\n",
       "      <th>Water</th>\n",
       "      <th>Superplasticizer</th>\n",
       "      <th>Coarse_Aggregate</th>\n",
       "      <th>Fine_Aggregate</th>\n",
       "      <th>Age</th>\n",
       "    </tr>\n",
       "  </thead>\n",
       "  <tbody>\n",
       "    <tr>\n",
       "      <th>171</th>\n",
       "      <td>0.000000</td>\n",
       "      <td>0.0</td>\n",
       "      <td>0.160080</td>\n",
       "      <td>0.875776</td>\n",
       "      <td>0.148547</td>\n",
       "      <td>0.751882</td>\n",
       "      <td>0.247253</td>\n",
       "    </tr>\n",
       "    <tr>\n",
       "      <th>172</th>\n",
       "      <td>0.295771</td>\n",
       "      <td>0.0</td>\n",
       "      <td>0.253493</td>\n",
       "      <td>0.512422</td>\n",
       "      <td>0.148547</td>\n",
       "      <td>0.735324</td>\n",
       "      <td>0.247253</td>\n",
       "    </tr>\n",
       "    <tr>\n",
       "      <th>173</th>\n",
       "      <td>0.591263</td>\n",
       "      <td>0.0</td>\n",
       "      <td>0.271058</td>\n",
       "      <td>0.444099</td>\n",
       "      <td>0.148547</td>\n",
       "      <td>0.718515</td>\n",
       "      <td>0.247253</td>\n",
       "    </tr>\n",
       "    <tr>\n",
       "      <th>174</th>\n",
       "      <td>0.263495</td>\n",
       "      <td>0.0</td>\n",
       "      <td>0.204790</td>\n",
       "      <td>0.354037</td>\n",
       "      <td>0.423837</td>\n",
       "      <td>0.647516</td>\n",
       "      <td>0.247253</td>\n",
       "    </tr>\n",
       "    <tr>\n",
       "      <th>175</th>\n",
       "      <td>0.525876</td>\n",
       "      <td>0.0</td>\n",
       "      <td>0.344511</td>\n",
       "      <td>0.360248</td>\n",
       "      <td>0.417733</td>\n",
       "      <td>0.405921</td>\n",
       "      <td>0.247253</td>\n",
       "    </tr>\n",
       "  </tbody>\n",
       "</table>\n",
       "</div>"
      ],
      "text/plain": [
       "     Blast_Furnace_Slag  Fly_Ash     Water  Superplasticizer  \\\n",
       "171            0.000000      0.0  0.160080          0.875776   \n",
       "172            0.295771      0.0  0.253493          0.512422   \n",
       "173            0.591263      0.0  0.271058          0.444099   \n",
       "174            0.263495      0.0  0.204790          0.354037   \n",
       "175            0.525876      0.0  0.344511          0.360248   \n",
       "\n",
       "     Coarse_Aggregate  Fine_Aggregate       Age  \n",
       "171          0.148547        0.751882  0.247253  \n",
       "172          0.148547        0.735324  0.247253  \n",
       "173          0.148547        0.718515  0.247253  \n",
       "174          0.423837        0.647516  0.247253  \n",
       "175          0.417733        0.405921  0.247253  "
      ]
     },
     "execution_count": 12,
     "metadata": {},
     "output_type": "execute_result"
    }
   ],
   "source": [
    "print(xTest01.shape)\n",
    "xTest01.head()"
   ]
  },
  {
   "cell_type": "code",
   "execution_count": 13,
   "metadata": {
    "colab": {
     "base_uri": "https://localhost:8080/",
     "height": 221
    },
    "colab_type": "code",
    "id": "_xmEvBWPWBVh",
    "outputId": "4cf03e78-3900-48ca-a84e-e83def8f1236"
   },
   "outputs": [
    {
     "name": "stdout",
     "output_type": "stream",
     "text": [
      "(171, 1)\n"
     ]
    },
    {
     "data": {
      "text/html": [
       "<div>\n",
       "<style scoped>\n",
       "    .dataframe tbody tr th:only-of-type {\n",
       "        vertical-align: middle;\n",
       "    }\n",
       "\n",
       "    .dataframe tbody tr th {\n",
       "        vertical-align: top;\n",
       "    }\n",
       "\n",
       "    .dataframe thead th {\n",
       "        text-align: right;\n",
       "    }\n",
       "</style>\n",
       "<table border=\"1\" class=\"dataframe\">\n",
       "  <thead>\n",
       "    <tr style=\"text-align: right;\">\n",
       "      <th></th>\n",
       "      <th>Concrete_compressive_strength</th>\n",
       "    </tr>\n",
       "  </thead>\n",
       "  <tbody>\n",
       "    <tr>\n",
       "      <th>171</th>\n",
       "      <td>0.708464</td>\n",
       "    </tr>\n",
       "    <tr>\n",
       "      <th>172</th>\n",
       "      <td>0.783195</td>\n",
       "    </tr>\n",
       "    <tr>\n",
       "      <th>173</th>\n",
       "      <td>0.819358</td>\n",
       "    </tr>\n",
       "    <tr>\n",
       "      <th>174</th>\n",
       "      <td>0.911526</td>\n",
       "    </tr>\n",
       "    <tr>\n",
       "      <th>175</th>\n",
       "      <td>0.958855</td>\n",
       "    </tr>\n",
       "  </tbody>\n",
       "</table>\n",
       "</div>"
      ],
      "text/plain": [
       "     Concrete_compressive_strength\n",
       "171                       0.708464\n",
       "172                       0.783195\n",
       "173                       0.819358\n",
       "174                       0.911526\n",
       "175                       0.958855"
      ]
     },
     "execution_count": 13,
     "metadata": {},
     "output_type": "execute_result"
    }
   ],
   "source": [
    "print(yTest01.shape)\n",
    "yTest01.head()"
   ]
  },
  {
   "cell_type": "code",
   "execution_count": 15,
   "metadata": {
    "colab": {
     "base_uri": "https://localhost:8080/",
     "height": 221
    },
    "colab_type": "code",
    "id": "VPE6pqyPWZMt",
    "outputId": "affbc9d4-2820-439c-be65-c81ecc1b0bdb"
   },
   "outputs": [
    {
     "name": "stdout",
     "output_type": "stream",
     "text": [
      "(859, 7)\n"
     ]
    },
    {
     "data": {
      "text/html": [
       "<div>\n",
       "<style scoped>\n",
       "    .dataframe tbody tr th:only-of-type {\n",
       "        vertical-align: middle;\n",
       "    }\n",
       "\n",
       "    .dataframe tbody tr th {\n",
       "        vertical-align: top;\n",
       "    }\n",
       "\n",
       "    .dataframe thead th {\n",
       "        text-align: right;\n",
       "    }\n",
       "</style>\n",
       "<table border=\"1\" class=\"dataframe\">\n",
       "  <thead>\n",
       "    <tr style=\"text-align: right;\">\n",
       "      <th></th>\n",
       "      <th>Blast_Furnace_Slag</th>\n",
       "      <th>Fly_Ash</th>\n",
       "      <th>Water</th>\n",
       "      <th>Superplasticizer</th>\n",
       "      <th>Coarse_Aggregate</th>\n",
       "      <th>Fine_Aggregate</th>\n",
       "      <th>Age</th>\n",
       "    </tr>\n",
       "  </thead>\n",
       "  <tbody>\n",
       "    <tr>\n",
       "      <th>0</th>\n",
       "      <td>0.000000</td>\n",
       "      <td>0.0</td>\n",
       "      <td>0.321357</td>\n",
       "      <td>0.07764</td>\n",
       "      <td>0.694767</td>\n",
       "      <td>0.205720</td>\n",
       "      <td>0.074176</td>\n",
       "    </tr>\n",
       "    <tr>\n",
       "      <th>1</th>\n",
       "      <td>0.000000</td>\n",
       "      <td>0.0</td>\n",
       "      <td>0.321357</td>\n",
       "      <td>0.07764</td>\n",
       "      <td>0.738372</td>\n",
       "      <td>0.205720</td>\n",
       "      <td>0.074176</td>\n",
       "    </tr>\n",
       "    <tr>\n",
       "      <th>2</th>\n",
       "      <td>0.396494</td>\n",
       "      <td>0.0</td>\n",
       "      <td>0.848303</td>\n",
       "      <td>0.00000</td>\n",
       "      <td>0.380814</td>\n",
       "      <td>0.000000</td>\n",
       "      <td>0.739011</td>\n",
       "    </tr>\n",
       "    <tr>\n",
       "      <th>3</th>\n",
       "      <td>0.396494</td>\n",
       "      <td>0.0</td>\n",
       "      <td>0.848303</td>\n",
       "      <td>0.00000</td>\n",
       "      <td>0.380814</td>\n",
       "      <td>0.000000</td>\n",
       "      <td>1.000000</td>\n",
       "    </tr>\n",
       "    <tr>\n",
       "      <th>4</th>\n",
       "      <td>0.368392</td>\n",
       "      <td>0.0</td>\n",
       "      <td>0.560878</td>\n",
       "      <td>0.00000</td>\n",
       "      <td>0.515698</td>\n",
       "      <td>0.580783</td>\n",
       "      <td>0.986264</td>\n",
       "    </tr>\n",
       "  </tbody>\n",
       "</table>\n",
       "</div>"
      ],
      "text/plain": [
       "   Blast_Furnace_Slag  Fly_Ash     Water  Superplasticizer  Coarse_Aggregate  \\\n",
       "0            0.000000      0.0  0.321357           0.07764          0.694767   \n",
       "1            0.000000      0.0  0.321357           0.07764          0.738372   \n",
       "2            0.396494      0.0  0.848303           0.00000          0.380814   \n",
       "3            0.396494      0.0  0.848303           0.00000          0.380814   \n",
       "4            0.368392      0.0  0.560878           0.00000          0.515698   \n",
       "\n",
       "   Fine_Aggregate       Age  \n",
       "0        0.205720  0.074176  \n",
       "1        0.205720  0.074176  \n",
       "2        0.000000  0.739011  \n",
       "3        0.000000  1.000000  \n",
       "4        0.580783  0.986264  "
      ]
     },
     "execution_count": 15,
     "metadata": {},
     "output_type": "execute_result"
    }
   ],
   "source": [
    "print(xTrain01.shape)\n",
    "xTrain01.head()"
   ]
  },
  {
   "cell_type": "code",
   "execution_count": 16,
   "metadata": {
    "colab": {
     "base_uri": "https://localhost:8080/",
     "height": 221
    },
    "colab_type": "code",
    "id": "9Tefo3JSdt0Z",
    "outputId": "9b477d76-cb81-4a99-f83f-2a2796a269e8"
   },
   "outputs": [
    {
     "name": "stdout",
     "output_type": "stream",
     "text": [
      "(859, 1)\n"
     ]
    },
    {
     "data": {
      "text/html": [
       "<div>\n",
       "<style scoped>\n",
       "    .dataframe tbody tr th:only-of-type {\n",
       "        vertical-align: middle;\n",
       "    }\n",
       "\n",
       "    .dataframe tbody tr th {\n",
       "        vertical-align: top;\n",
       "    }\n",
       "\n",
       "    .dataframe thead th {\n",
       "        text-align: right;\n",
       "    }\n",
       "</style>\n",
       "<table border=\"1\" class=\"dataframe\">\n",
       "  <thead>\n",
       "    <tr style=\"text-align: right;\">\n",
       "      <th></th>\n",
       "      <th>Concrete_compressive_strength</th>\n",
       "    </tr>\n",
       "  </thead>\n",
       "  <tbody>\n",
       "    <tr>\n",
       "      <th>0</th>\n",
       "      <td>0.967445</td>\n",
       "    </tr>\n",
       "    <tr>\n",
       "      <th>1</th>\n",
       "      <td>0.741964</td>\n",
       "    </tr>\n",
       "    <tr>\n",
       "      <th>2</th>\n",
       "      <td>0.472642</td>\n",
       "    </tr>\n",
       "    <tr>\n",
       "      <th>3</th>\n",
       "      <td>0.482400</td>\n",
       "    </tr>\n",
       "    <tr>\n",
       "      <th>4</th>\n",
       "      <td>0.522806</td>\n",
       "    </tr>\n",
       "  </tbody>\n",
       "</table>\n",
       "</div>"
      ],
      "text/plain": [
       "   Concrete_compressive_strength\n",
       "0                       0.967445\n",
       "1                       0.741964\n",
       "2                       0.472642\n",
       "3                       0.482400\n",
       "4                       0.522806"
      ]
     },
     "execution_count": 16,
     "metadata": {},
     "output_type": "execute_result"
    }
   ],
   "source": [
    "print(yTrain01.shape)\n",
    "yTrain01.head()"
   ]
  },
  {
   "cell_type": "markdown",
   "metadata": {
    "colab_type": "text",
    "id": "BJ3FzZ7lust7"
   },
   "source": [
    "# Arquitectura de la red según lo aprendido en clase.\n",
    "\n",
    "* Funciones de activacion:\n",
    "\n",
    "    1. Relu como función de activación para la neurona de salida\n",
    "\n",
    "* Funcion de costo:\n",
    "\n",
    "    1. MSE.\n",
    "\n",
    "* Input y Output layer:\n",
    "\n",
    "    1. Siete parámetros de entrada, siete features.\n",
    "    2. Una capa de salida por ser regresión.\n",
    "\n",
    "* Hidden Layer(s):\n",
    "\n",
    "    1. Dos capas ocultas\n",
    "    2. Cinco neuronas por capa oculta.\n",
    "    3. Función de activación Relu por capa.\n",
    "\n",
    "* Optimizadores:  \n",
    "\n",
    "    1. Se utilizara el optimizador Nesterov y el Adam.\n",
    "\n",
    "* Habrá deteniendo el entrenamiento cuando el error comience a aumentar.\n",
    "\n",
    "    1. Early stopping\n",
    "\n",
    "* Si hubiera overfitting.\n",
    "\n",
    "    1. Se utilizará dropout\n",
    "\n",
    "* Se aplicara mini batch gradient descent con un batch de 64, y a partir de ahi se harán pruebas.\n",
    "\n",
    "* Como numero de neuronas en cada capa interna, se utilizaran 5 neuronas.\n",
    "\n",
    "* Como numero de capas internas, el modelo utilizará dos capas.\n",
    "\n",
    "* Los hiper parametros en base al avance del proyecto\n",
    "\n"
   ]
  },
  {
   "cell_type": "markdown",
   "metadata": {
    "colab_type": "text",
    "id": "JQLWmp-u4lN8"
   },
   "source": [
    "### Creacion del modelo:"
   ]
  },
  {
   "cell_type": "markdown",
   "metadata": {
    "colab_type": "text",
    "id": "pAKGQ7iB-MhT"
   },
   "source": [
    "### batches:"
   ]
  },
  {
   "cell_type": "code",
   "execution_count": 17,
   "metadata": {
    "colab": {},
    "colab_type": "code",
    "id": "zGorXA1mOxxJ"
   },
   "outputs": [],
   "source": [
    "def batchsizeDivision(x=xTrain01,y=yTrain01,batchSize=128):\n",
    "  batchesListX = []\n",
    "  batchesListY = []\n",
    "  for i in range((x.shape[0]//batchSize)+1):\n",
    "    if i>=(x.shape[0]/batchSize):\n",
    "      batchesListX.append(x[i*batchSize:])\n",
    "      batchesListY.append(y[i*batchSize:])\n",
    "    else:\n",
    "      batchesListX.append(x[i*batchSize:(i+1)*batchSize])\n",
    "      batchesListY.append(y[i*batchSize:(i+1)*batchSize])\n",
    "  return (batchesListX,batchesListY)"
   ]
  },
  {
   "cell_type": "markdown",
   "metadata": {
    "colab_type": "text",
    "id": "l0jJJ6Cx-SEC"
   },
   "source": [
    "### Grafo:"
   ]
  },
  {
   "cell_type": "code",
   "execution_count": 18,
   "metadata": {
    "colab": {},
    "colab_type": "code",
    "id": "Ay8kOFDRuqIs"
   },
   "outputs": [],
   "source": [
    "MLPgraph = tf.Graph()\n",
    "with MLPgraph.as_default():\n",
    "  #Carga de la data:\n",
    "  with tf.name_scope('pureData') as scope:\n",
    "\n",
    "    #Inicializando matrices de pesos (Xavier inicialization)\n",
    "    w01 = tf.get_variable(name= \"W1\", shape=[8, 5],\n",
    "           initializer=tf.contrib.layers.xavier_initializer())\n",
    "    w02 = tf.get_variable(name= \"W2\", shape=[6, 5],\n",
    "           initializer=tf.contrib.layers.xavier_initializer())\n",
    "    w03 = tf.get_variable(name= \"W3\", shape=[6, 1],\n",
    "            initializer=tf.contrib.layers.xavier_initializer())\n",
    "    #Aplicando matriz de pesos a capa:\n",
    "    preX = tf.placeholder(dtype=tf.float32,name='X', shape = [None,7])\n",
    "    Y = tf.placeholder(dtype=tf.float32,name='Y', shape= [None,1])\n",
    "    learningRate = tf.placeholder(dtype=tf.float32,name='LR')\n",
    "\n",
    "    X = tf.pad(tensor=preX,paddings= tf.constant([[0,0],[1,0]]),\n",
    "               mode='CONSTANT',constant_values=1.0000) #vector de 8x128\n",
    "\n",
    "\n",
    "  with tf.name_scope('feedFoward') as scope:\n",
    "    #Aplicando feedFoward - Primera capa oculta\n",
    "    a01 = tf.nn.relu(tf.matmul(X,w01))\n",
    "    A01 = tf.pad(tensor=a01,paddings= tf.constant([[0,0],[1,0]]),\n",
    "               mode='CONSTANT',constant_values=1.0000) \n",
    "    #Aplicando feedFoward - Segunda capa oculta\n",
    "    a02 = tf.nn.relu(tf.matmul(A01,w02))\n",
    "    A02 = tf.pad(tensor=a02,paddings= tf.constant([[0,0],[1,0]]),\n",
    "                 mode='CONSTANT',constant_values=1.0000) \n",
    "    #Aplicando feedForward - Tercera capa oculta\n",
    "    a03 = tf.nn.relu(tf.matmul(A02,w03))   \n",
    "  \n",
    "  with tf.name_scope('costFunctionMSE') as scope:\n",
    "    costFunction = 0.5*tf.reduce_mean(tf.pow((Y-a03),2))\n",
    "\n",
    "  with tf.name_scope('gradient_optimizer') as scope:\n",
    "    optimizador =  tf.train.AdamOptimizer(learningRate).minimize(costFunction)\n",
    "    #optimizer = tf.train.AdamOptimizer(learning_rate).minimize(costFunction,var_list=[w01,w02,w03])"
   ]
  },
  {
   "cell_type": "markdown",
   "metadata": {
    "colab_type": "text",
    "id": "d-dvxNAa-Xoi"
   },
   "source": [
    "### Funcion de entrenamiento:"
   ]
  },
  {
   "cell_type": "code",
   "execution_count": 19,
   "metadata": {
    "colab": {},
    "colab_type": "code",
    "id": "i1an6Ddhdxlh"
   },
   "outputs": [],
   "source": [
    "def trainingFunction(x,y,lr,epoch,showError):\n",
    "  #Resetteando el grafo\n",
    "  tf.reset_default_graph()\n",
    "  #Iniciando la sesion.\n",
    "  with tf.Session(graph = MLPgraph) as session:\n",
    "    init=tf.global_variables_initializer().run() \n",
    "    #Utilizando mini-batch:\n",
    "    xBatchList, yBatchList = batchsizeDivision(x,y,128)\n",
    "    #Cada epoch implica una corrida total de los batch generados.\n",
    "    for i in range(epoch):\n",
    "      for b in range(len(xBatchList)):\n",
    "        MSE,W1,W2, W3,_ = session.run([costFunction, w01,w02,w03,optimizador],\n",
    "                                      feed_dict = {preX:xBatchList[b],Y:yBatchList[b],learningRate:lr})\n",
    "      if i%showError == 0:\n",
    "        print('Epoch: '+str(i)+' error: '+str(MSE))\n",
    "  return W1,W2,W3"
   ]
  },
  {
   "cell_type": "markdown",
   "metadata": {
    "colab_type": "text",
    "id": "qBBXJ14U-d40"
   },
   "source": [
    "# Experimentacion Cross Validation"
   ]
  },
  {
   "cell_type": "code",
   "execution_count": 20,
   "metadata": {
    "colab": {
     "base_uri": "https://localhost:8080/",
     "height": 187
    },
    "colab_type": "code",
    "id": "_R9nbnD3qavm",
    "outputId": "bf3ace18-5b6a-4033-8c48-415af08bd7df"
   },
   "outputs": [
    {
     "name": "stdout",
     "output_type": "stream",
     "text": [
      "Epoch: 0 error: 0.06893772\n",
      "Epoch: 10 error: 0.05930591\n",
      "Epoch: 20 error: 0.048757646\n",
      "Epoch: 30 error: 0.04071323\n",
      "Epoch: 40 error: 0.037013713\n",
      "Epoch: 50 error: 0.03665647\n",
      "Epoch: 60 error: 0.037713107\n",
      "Epoch: 70 error: 0.038791113\n",
      "Epoch: 80 error: 0.039474342\n",
      "Epoch: 90 error: 0.039716024\n"
     ]
    }
   ],
   "source": [
    "W01, W02, W03 = trainingFunction(x=xTrain01,y=yTrain01,lr=0.0001,epoch=100,showError=10)"
   ]
  },
  {
   "cell_type": "code",
   "execution_count": 21,
   "metadata": {
    "colab": {
     "base_uri": "https://localhost:8080/",
     "height": 187
    },
    "colab_type": "code",
    "id": "Pq27_roOrROi",
    "outputId": "721959d3-aaa0-415d-a5d7-0d2023d70ba1"
   },
   "outputs": [
    {
     "name": "stdout",
     "output_type": "stream",
     "text": [
      "Epoch: 0 error: 0.06779906\n",
      "Epoch: 10 error: 0.051214527\n",
      "Epoch: 20 error: 0.03676806\n",
      "Epoch: 30 error: 0.02653249\n",
      "Epoch: 40 error: 0.01995951\n",
      "Epoch: 50 error: 0.015789827\n",
      "Epoch: 60 error: 0.013116302\n",
      "Epoch: 70 error: 0.01132149\n",
      "Epoch: 80 error: 0.010044955\n",
      "Epoch: 90 error: 0.009084688\n"
     ]
    }
   ],
   "source": [
    "W11, W12, W13 = trainingFunction(x=xTrain02,y=yTrain02,lr=0.0001,epoch=100,showError=10)"
   ]
  },
  {
   "cell_type": "code",
   "execution_count": 22,
   "metadata": {
    "colab": {
     "base_uri": "https://localhost:8080/",
     "height": 187
    },
    "colab_type": "code",
    "id": "B4NXTOq561er",
    "outputId": "0712fd77-0802-4440-a93e-59814ea6b5ca"
   },
   "outputs": [
    {
     "name": "stdout",
     "output_type": "stream",
     "text": [
      "Epoch: 0 error: 0.1496829\n",
      "Epoch: 10 error: 0.14322972\n",
      "Epoch: 20 error: 0.1373001\n",
      "Epoch: 30 error: 0.13181706\n",
      "Epoch: 40 error: 0.12673095\n",
      "Epoch: 50 error: 0.12199998\n",
      "Epoch: 60 error: 0.11762436\n",
      "Epoch: 70 error: 0.11353858\n",
      "Epoch: 80 error: 0.10970413\n",
      "Epoch: 90 error: 0.10608115\n"
     ]
    }
   ],
   "source": [
    "W21, W22, W23 = trainingFunction(x=xTrain03,y=yTrain03,lr=0.0001,epoch=100,showError=10)"
   ]
  },
  {
   "cell_type": "markdown",
   "metadata": {
    "colab": {},
    "colab_type": "code",
    "id": "LuZpAZW-915A"
   },
   "source": [
    "# Aplicacion de resultados:\n",
    "\n",
    "Vemos que al momento de utilizar la data creada utilizando cross-validation, el que mejor desempeño tuvo en el entrenamiento fue el segundo experimento, por tanto, procedemos a utilizarlo con la data real."
   ]
  },
  {
   "cell_type": "code",
   "execution_count": 25,
   "metadata": {},
   "outputs": [
    {
     "name": "stdout",
     "output_type": "stream",
     "text": [
      "(8, 5)\n",
      "(6, 5)\n",
      "(6, 1)\n"
     ]
    }
   ],
   "source": [
    "print(W11.shape)\n",
    "print(W12.shape)\n",
    "print(W13.shape)"
   ]
  },
  {
   "cell_type": "code",
   "execution_count": 26,
   "metadata": {},
   "outputs": [],
   "source": [
    "def validData(y,x,w1,w2,w3):\n",
    "    realX = np.append(x,np.ones_like(y),axis=1)\n",
    "    firstLayer = np.matmul(realX,w1)\n",
    "    secondLayer = np.matmul(np.append(firstLayer,np.ones_like(y),axis=1),w2)\n",
    "    outputLayer = np.matmul(np.append(secondLayer,np.ones_like(y),axis=1),w3)\n",
    "    MSE = 0.5*np.mean(np.power((y-outputLayer),2))\n",
    "    return MSE\n",
    "    "
   ]
  },
  {
   "cell_type": "markdown",
   "metadata": {},
   "source": [
    "### Primeros parámetros de prueba"
   ]
  },
  {
   "cell_type": "code",
   "execution_count": 27,
   "metadata": {},
   "outputs": [
    {
     "name": "stdout",
     "output_type": "stream",
     "text": [
      "Concrete_compressive_strength    0.481946\n",
      "dtype: float64\n"
     ]
    }
   ],
   "source": [
    "print(validData(yTrain01,xTrain01,W01, W02, W03))"
   ]
  },
  {
   "cell_type": "code",
   "execution_count": 28,
   "metadata": {},
   "outputs": [
    {
     "name": "stdout",
     "output_type": "stream",
     "text": [
      "Concrete_compressive_strength    0.575406\n",
      "dtype: float64\n"
     ]
    }
   ],
   "source": [
    "print(validData(yTrain02,xTrain02,W01, W02, W03))"
   ]
  },
  {
   "cell_type": "code",
   "execution_count": 29,
   "metadata": {},
   "outputs": [
    {
     "name": "stdout",
     "output_type": "stream",
     "text": [
      "Concrete_compressive_strength    0.578371\n",
      "dtype: float64\n"
     ]
    }
   ],
   "source": [
    "print(validData(yTrain03,xTrain03,W01, W02, W03))"
   ]
  },
  {
   "cell_type": "markdown",
   "metadata": {},
   "source": [
    "### Segundos parametros de prueba y los diversos sets de entrenamiento"
   ]
  },
  {
   "cell_type": "code",
   "execution_count": 30,
   "metadata": {},
   "outputs": [
    {
     "name": "stdout",
     "output_type": "stream",
     "text": [
      "Concrete_compressive_strength    1.389748\n",
      "dtype: float64\n"
     ]
    }
   ],
   "source": [
    "print(validData(yTrain01,xTrain01,W11, W12, W13))"
   ]
  },
  {
   "cell_type": "code",
   "execution_count": 31,
   "metadata": {},
   "outputs": [
    {
     "name": "stdout",
     "output_type": "stream",
     "text": [
      "Concrete_compressive_strength    1.471007\n",
      "dtype: float64\n"
     ]
    }
   ],
   "source": [
    "print(validData(yTrain02,xTrain02,W11, W12, W13))"
   ]
  },
  {
   "cell_type": "code",
   "execution_count": 32,
   "metadata": {},
   "outputs": [
    {
     "name": "stdout",
     "output_type": "stream",
     "text": [
      "Concrete_compressive_strength    1.39786\n",
      "dtype: float64\n"
     ]
    }
   ],
   "source": [
    "print(validData(yTrain03,xTrain03,W11, W12, W13))"
   ]
  },
  {
   "cell_type": "markdown",
   "metadata": {},
   "source": [
    "### Terceros parametros y los diversos sets de entrenamiento"
   ]
  },
  {
   "cell_type": "code",
   "execution_count": 33,
   "metadata": {},
   "outputs": [
    {
     "name": "stdout",
     "output_type": "stream",
     "text": [
      "Concrete_compressive_strength    0.491744\n",
      "dtype: float64\n"
     ]
    }
   ],
   "source": [
    "print(validData(yTrain01,xTrain01,W21, W22, W23))"
   ]
  },
  {
   "cell_type": "code",
   "execution_count": 34,
   "metadata": {},
   "outputs": [
    {
     "name": "stdout",
     "output_type": "stream",
     "text": [
      "Concrete_compressive_strength    0.511539\n",
      "dtype: float64\n"
     ]
    }
   ],
   "source": [
    "print(validData(yTrain02,xTrain02,W21, W22, W23))"
   ]
  },
  {
   "cell_type": "code",
   "execution_count": 35,
   "metadata": {},
   "outputs": [
    {
     "name": "stdout",
     "output_type": "stream",
     "text": [
      "Concrete_compressive_strength    0.550964\n",
      "dtype: float64\n"
     ]
    }
   ],
   "source": [
    "print(validData(yTrain03,xTrain03,W21, W22, W23))"
   ]
  },
  {
   "cell_type": "markdown",
   "metadata": {},
   "source": [
    "# Comentarios:\n",
    "\n",
    "Ha quedado demostrado que el segundo modelo da los mejores resultados para la resistencia del cemento, en base a las técnicas y parámetros realizados."
   ]
  }
 ],
 "metadata": {
  "colab": {
   "collapsed_sections": [],
   "name": "MLP_statistical_learning_2.ipynb",
   "provenance": [],
   "toc_visible": true
  },
  "kernelspec": {
   "display_name": "Python 3",
   "language": "python",
   "name": "python3"
  },
  "language_info": {
   "codemirror_mode": {
    "name": "ipython",
    "version": 3
   },
   "file_extension": ".py",
   "mimetype": "text/x-python",
   "name": "python",
   "nbconvert_exporter": "python",
   "pygments_lexer": "ipython3",
   "version": "3.6.8"
  }
 },
 "nbformat": 4,
 "nbformat_minor": 1
}
