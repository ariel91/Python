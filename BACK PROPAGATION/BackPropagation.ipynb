{
 "cells": [
  {
   "cell_type": "markdown",
   "metadata": {},
   "source": [
    "# Jaime Ariel Chitay\n",
    "# 19002065"
   ]
  },
  {
   "cell_type": "markdown",
   "metadata": {},
   "source": [
    "\"![back](back.jpeg)\""
   ]
  },
  {
   "cell_type": "code",
   "execution_count": null,
   "metadata": {},
   "outputs": [],
   "source": [
    "import numpy as np\n",
    "import matplotlib.pyplot as plt"
   ]
  },
  {
   "cell_type": "markdown",
   "metadata": {},
   "source": [
    "Creacion de funciones de apoyo:"
   ]
  },
  {
   "cell_type": "code",
   "execution_count": 2,
   "metadata": {},
   "outputs": [],
   "source": [
    "def setPesos(k1,k2,k3):\n",
    "    return (np.random.normal(0, 0.1, (X.shape[1]+1, k1)),\n",
    "            np.random.normal(0, 0.1, (k1+1,k2 )),\n",
    "            np.random.normal(0, 0.1, (k2+1, k3)))\n",
    "\n",
    "def columnBias(x):\n",
    "    return np.append(x,np.ones((x.shape[0],1)), axis=1)\n",
    "\n",
    "def actRelu(x):\n",
    "    return np.maximum(0.0, x)\n",
    "\n",
    "def derivRelu(x):\n",
    "    return np.array(X>0,dtype = np.float)"
   ]
  },
  {
   "cell_type": "markdown",
   "metadata": {},
   "source": [
    "Se utilizara una arquitectura de dos capas ocultas, cada una con dos neuronas. Para cada neurona se utilizará un Bias.\n",
    "\n",
    "La semántica de la matriz de pesos es la siguiente\n",
    "\n",
    "Columnas = numero de Neuronas en cada capa.\n",
    "Filas = numero de parametros por neurona."
   ]
  },
  {
   "cell_type": "code",
   "execution_count": 3,
   "metadata": {},
   "outputs": [],
   "source": [
    "#Datos de entrenamiento:\n",
    "X = np.array([[0,0],[0,1],[1,0],[1,1]])\n",
    "Y = np.array([[0],[1],[1],[0]])\n",
    "\n",
    "k01 = 2 #Numero de nuronas en la primera capa\n",
    "k02 = 2 #Numero de neuronas en la segunda capa\n",
    "k03 = 1 #Numero de neuronas en la capa de salida\n",
    "\n",
    "#Inicializacion de las metrices de pesos:\n",
    "w01, w02, w03 = setPesos(k01,k02,k03)"
   ]
  },
  {
   "cell_type": "markdown",
   "metadata": {},
   "source": [
    "# Implementacion de feed forward propagation:"
   ]
  },
  {
   "cell_type": "code",
   "execution_count": 4,
   "metadata": {},
   "outputs": [],
   "source": [
    "def feedForward(x,w1,w2,w3):\n",
    "    '''\n",
    "    Funcion que recibe como entrada el vector de datos de entrenamiento \n",
    "    y devuelve el resultado de realizar feedForward\n",
    "    '''\n",
    "    #Primera capa oculta\n",
    "    Z02 = np.matmul(columnBias(x),w1)\n",
    "    #Funcion de activacion ReLu:\n",
    "    a02 = actRelu(Z02)  #Vector de 2x4 \n",
    "    \n",
    "    #Segunda capa oculta\n",
    "    Z03 = np.matmul(columnBias(a02),w2)\n",
    "    #Funcion de activacion ReLu:\n",
    "    a03 = actRelu(Z03)  #Vector de 2x4 \n",
    "    \n",
    "    #Tercera capa, salida\n",
    "    Z04 = np.matmul(columnBias(a03),w3)\n",
    "    #No se aplica funcion de activacion a la ultima capa:\n",
    "    a04 = np.copy(Z04)\n",
    "    \n",
    "    return (a04,Z04,a03,Z03,a02,Z02)"
   ]
  },
  {
   "cell_type": "code",
   "execution_count": 5,
   "metadata": {},
   "outputs": [
    {
     "data": {
      "text/plain": [
       "array([[0.01724094]])"
      ]
     },
     "execution_count": 5,
     "metadata": {},
     "output_type": "execute_result"
    }
   ],
   "source": [
    "feedForward(X[0:1],w01,w02,w03)[0]"
   ]
  },
  {
   "cell_type": "markdown",
   "metadata": {},
   "source": [
    "#### Creacion de la funcion de costo:\n",
    "\n",
    "Los valores de errDel corresponden a la siguiente ecuacion:"
   ]
  },
  {
   "cell_type": "markdown",
   "metadata": {},
   "source": [
    "\"![costo](ecuacion1.png)\""
   ]
  },
  {
   "cell_type": "markdown",
   "metadata": {},
   "source": [
    "\"![costDeriv](costDeriv.png)\""
   ]
  },
  {
   "cell_type": "code",
   "execution_count": 6,
   "metadata": {},
   "outputs": [],
   "source": [
    "def costFunction(x,y,w1,w2,w3):\n",
    "    \n",
    "    #Trace del error para cada epoch\n",
    "    allCosto = np.mean(np.power(feedForward(x,w1,w2,w3)[0] - y, 2)) / 2\n",
    "    \n",
    "    \n",
    "    #Por cambiar \n",
    "    dCost01 = np.zeros_like(w1)\n",
    "    dCost02 = np.zeros_like(w2)\n",
    "    dCost03 = np.zeros_like(w3)\n",
    "       \n",
    "    #Ahora, aplicamos backpropagation para cada ejemplo puntual:\n",
    "    for i in range(len(y)):\n",
    "        #Primero: Forward propagation:\n",
    "        a04,Z04,a03,Z03,a02,Z02 = feedForward(x[i:i+1],w1,w2,w3)\n",
    "        \n",
    "        #Ahora obtenemos el error para ese unico ejemplo, y aplicamos backpropagation para cada ejemplo:\n",
    "        minusDel04 = a04 - Y[i]\n",
    "        #Eliminamos el bias de la matriz de pesos:\n",
    "        minusDel03 = np.matmul(w3[0:2:,],minusDel04)*Z03.T\n",
    "        minusDel02 = np.matmul(w2[0:2:,],minusDel03)*Z02.T\n",
    "        \n",
    "        dCost03 += np.matmul(a04,minusDel04)\n",
    "        dCost02 += np.matmul(a03,minusDel03)\n",
    "        dCost01 += np.matmul(x[i:i+1],minusDel02)\n",
    "        \n",
    "    return (allCosto,dCost01/4,dCost02/4,dCost03/4)"
   ]
  },
  {
   "cell_type": "code",
   "execution_count": 7,
   "metadata": {},
   "outputs": [],
   "source": [
    "def trainingFunction(X, Y,learnRate, epochs):\n",
    "    # Acumulacion del error Total:\n",
    "    errorTime = []\n",
    "    \n",
    "    # Matrices de pesos sinápticos aleatorias\n",
    "    w01, w02, w03 = setPesos(k01,k02,k03)\n",
    "    \n",
    "    # Iterar sobre el número de epochs\n",
    "    for i in range(epochs):    \n",
    "        # Aplicando backpropagation y funcion de costo:\n",
    "        error, w1Train, w2Train, w3Train = costFunction(X, Y, w01, w02, w03)\n",
    "        \n",
    "        #Almacenando los pesos en un arreglo:\n",
    "        errorTime.append(error)\n",
    "        \n",
    "        # Entranmiento de las matrices de pesos\n",
    "        w01 += -learnRate * w1Train\n",
    "        w02 += -learnRate * w2Train\n",
    "        w03 += -learnRate * w3Train\n",
    "\n",
    "    return w01, w02, w03, errorTime"
   ]
  },
  {
   "cell_type": "markdown",
   "metadata": {},
   "source": [
    "Para tener una pequeña visualizacion del error con respecto a las iteraciones, se procede a graficarlas:\n",
    "Primera corrida:"
   ]
  },
  {
   "cell_type": "code",
   "execution_count": 8,
   "metadata": {},
   "outputs": [
    {
     "data": {
      "image/png": "[encoded data removed]",
      "text/plain": [
       "<Figure size 432x288 with 1 Axes>"
      ]
     },
     "metadata": {
      "needs_background": "light"
     },
     "output_type": "display_data"
    }
   ],
   "source": [
    "w1Train, w2Train, w3Train, errors = trainingFunction(X, Y, 0.001, 10000)\n",
    "fig, ax = plt.subplots()\n",
    "ax.plot(np.arange(len(errors)), np.array(errors))\n",
    "ax.set(xlabel='Numero de Iteraciones', ylabel='RMS',\n",
    "       title='Iteraciones vs. Error')\n",
    "ax.grid()\n",
    "plt.show()"
   ]
  },
  {
   "cell_type": "code",
   "execution_count": 9,
   "metadata": {},
   "outputs": [
    {
     "data": {
      "text/plain": [
       "Text(0, 0.5, 'x2')"
      ]
     },
     "execution_count": 9,
     "metadata": {},
     "output_type": "execute_result"
    },
    {
     "data": {
      "image/png": "[encoded data removed]",
      "text/plain": [
       "<Figure size 1152x288 with 2 Axes>"
      ]
     },
     "metadata": {
      "needs_background": "light"
     },
     "output_type": "display_data"
    }
   ],
   "source": [
    "\n",
    "a04,Z04,a03,Z03,a02,Z02 = feedForward(X,w1Train,w1Train,w1Train)\n",
    "X01 = X[:,0]\n",
    "X02 = X[:,1]\n",
    "\n",
    "plt.figure(figsize=(16, 4))\n",
    "\n",
    "plt.subplot(1,2,1)\n",
    "plt.scatter(X01[a02[:,0]>=1], X02[a02[:,0]>=1], marker='^', label='1')\n",
    "plt.scatter(X01[a02[:,0]<1], X02[a02[:,0]<1], marker='s', label='0')\n",
    "plt.legend()\n",
    "plt.title(\"Salida Neurona 01, capa intermedia 02\")\n",
    "plt.xlabel(\"x1\")\n",
    "plt.ylabel(\"x2\")\n",
    "\n",
    "plt.subplot(1,2,2)\n",
    "plt.scatter(X01[a02[:,1]>=1], X02[a02[:,1]>=1], marker='^', label='1')\n",
    "plt.scatter(X01[a02[:,1]<1], X02[a02[:,1]<1], marker='s', label='0')\n",
    "plt.legend()\n",
    "plt.title(\"Salida Neurona 02, capa intermedia 02\")\n",
    "plt.xlabel(\"x1\")\n",
    "plt.ylabel(\"x2\")"
   ]
  },
  {
   "cell_type": "code",
   "execution_count": null,
   "metadata": {},
   "outputs": [],
   "source": [
    "w1Train, w2Train, w3Train, errors = trainingFunction(X, Y, 0.00001, 10000)\n",
    "fig, ax = plt.subplots()\n",
    "ax.plot(np.arange(len(errors)), np.array(errors))\n",
    "ax.set(xlabel='Numero de Iteraciones', ylabel='RMS',\n",
    "       title='Iteraciones vs. Error')\n",
    "ax.grid()\n",
    "plt.show()"
   ]
  },
  {
   "cell_type": "code",
   "execution_count": null,
   "metadata": {},
   "outputs": [],
   "source": [
    "a04,Z04,a03,Z03,a02,Z02 = feedForward(X,w1Train,w1Train,w1Train)\n",
    "X01 = X[:,0]\n",
    "X02 = X[:,1]\n",
    "\n",
    "plt.figure(figsize=(16, 4))\n",
    "\n",
    "plt.subplot(1,2,1)\n",
    "plt.scatter(X01[a02[:,0]>=1], X02[a02[:,0]>=1], marker='^', label='1')\n",
    "plt.scatter(X01[a02[:,0]<1], X02[a02[:,0]<1], marker='s', label='0')\n",
    "plt.legend()\n",
    "plt.title(\"Salida Neurona 01, capa intermedia 02\")\n",
    "plt.xlabel(\"x1\")\n",
    "plt.ylabel(\"x2\")\n",
    "\n",
    "plt.subplot(1,2,2)\n",
    "plt.scatter(X01[a02[:,1]>=1], X02[a02[:,1]>=1], marker='^', label='1')\n",
    "plt.scatter(X01[a02[:,1]<1], X02[a02[:,1]<1], marker='s', label='0')\n",
    "plt.legend()\n",
    "plt.title(\"Salida Neurona 02, capa intermedia 02\")\n",
    "plt.xlabel(\"x1\")\n",
    "plt.ylabel(\"x2\")"
   ]
  },
  {
   "cell_type": "code",
   "execution_count": null,
   "metadata": {},
   "outputs": [],
   "source": [
    "w1Train, w2Train, w3Train, errors = trainingFunction(X, Y, 0.00001, 10000)\n",
    "fig, ax = plt.subplots()\n",
    "ax.plot(np.arange(len(errors)), np.array(errors))\n",
    "ax.set(xlabel='Numero de Iteraciones', ylabel='RMS',\n",
    "       title='Iteraciones vs. Error')\n",
    "ax.grid()\n",
    "plt.show()"
   ]
  },
  {
   "cell_type": "code",
   "execution_count": null,
   "metadata": {},
   "outputs": [],
   "source": [
    "a04,Z04,a03,Z03,a02,Z02 = feedForward(X,w1Train,w1Train,w1Train)\n",
    "X01 = X[:,0]\n",
    "X02 = X[:,1]\n",
    "\n",
    "plt.figure(figsize=(16, 4))\n",
    "\n",
    "plt.subplot(1,2,1)\n",
    "plt.scatter(X01[a02[:,0]>=1], X02[a02[:,0]>=1], marker='^', label='1')\n",
    "plt.scatter(X01[a02[:,0]<1], X02[a02[:,0]<1], marker='s', label='0')\n",
    "plt.legend()\n",
    "plt.title(\"Salida Neurona 01, capa intermedia 02\")\n",
    "plt.xlabel(\"x1\")\n",
    "plt.ylabel(\"x2\")\n",
    "\n",
    "plt.subplot(1,2,2)\n",
    "plt.scatter(X01[a02[:,1]>=1], X02[a02[:,1]>=1], marker='^', label='1')\n",
    "plt.scatter(X01[a02[:,1]<1], X02[a02[:,1]<1], marker='s', label='0')\n",
    "plt.legend()\n",
    "plt.title(\"Salida Neurona 02, capa intermedia 02\")\n",
    "plt.xlabel(\"x1\")\n",
    "plt.ylabel(\"x2\")"
   ]
  },
  {
   "cell_type": "code",
   "execution_count": null,
   "metadata": {},
   "outputs": [],
   "source": [
    "w1Train, w2Train, w3Train, errors = trainingFunction(X, Y, 0.001, 10000)\n",
    "fig, ax = plt.subplots()\n",
    "ax.plot(np.arange(len(errors)), np.array(errors))\n",
    "ax.set(xlabel='Numero de Iteraciones', ylabel='RMS',\n",
    "       title='Iteraciones vs. Error')\n",
    "ax.grid()\n",
    "plt.show()"
   ]
  },
  {
   "cell_type": "code",
   "execution_count": null,
   "metadata": {},
   "outputs": [],
   "source": [
    "a04,Z04,a03,Z03,a02,Z02 = feedForward(X,w1Train,w1Train,w1Train)\n",
    "X01 = X[:,0]\n",
    "X02 = X[:,1]\n",
    "\n",
    "plt.figure(figsize=(16, 4))\n",
    "\n",
    "plt.subplot(1,2,1)\n",
    "plt.scatter(X01[a02[:,0]>=1], X02[a02[:,0]>=1], marker='^', label='1')\n",
    "plt.scatter(X01[a02[:,0]<1], X02[a02[:,0]<1], marker='s', label='0')\n",
    "plt.legend()\n",
    "plt.title(\"Salida Neurona 01, capa intermedia 02\")\n",
    "plt.xlabel(\"x1\")\n",
    "plt.ylabel(\"x2\")\n",
    "\n",
    "plt.subplot(1,2,2)\n",
    "plt.scatter(X01[a02[:,1]>=1], X02[a02[:,1]>=1], marker='^', label='1')\n",
    "plt.scatter(X01[a02[:,1]<1], X02[a02[:,1]<1], marker='s', label='0')\n",
    "plt.legend()\n",
    "plt.title(\"Salida Neurona 02, capa intermedia 02\")\n",
    "plt.xlabel(\"x1\")\n",
    "plt.ylabel(\"x2\")"
   ]
  },
  {
   "cell_type": "markdown",
   "metadata": {},
   "source": [
    "# Conclusiones:\n",
    "Vemos como incluso para ciertas configuraciones iguales, se obtienen valores menores del MSE. Esto se debe a los valores iniciales de las matrices de pesos, dado que son aleatorios, los mismos pueden ubicar el sistema a puntos a veces mas cercanos del minimo local de la funcion de error, e inclusive en un minimo local completamente diferente.\n",
    "\n",
    "A pesar de los cambios que provocan matrices de pesos distintas, la salida de las neuronas en la capa intermedia sigue siendo la misma.\n",
    "\n",
    "Dado la cantidad tan pequeña de ejemplos, el modelo sufre de \"overfitting\", aunque tal como se mencionó en clase, no se necesita de un modelo profundo para modelar este tipo de funciones."
   ]
  }
 ],
 "metadata": {
  "kernelspec": {
   "display_name": "Python 3",
   "language": "python",
   "name": "python3"
  },
  "language_info": {
   "codemirror_mode": {
    "name": "ipython",
    "version": 3
   },
   "file_extension": ".py",
   "mimetype": "text/x-python",
   "name": "python",
   "nbconvert_exporter": "python",
   "pygments_lexer": "ipython3",
   "version": "3.6.8"
  }
 },
 "nbformat": 4,
 "nbformat_minor": 2
}
