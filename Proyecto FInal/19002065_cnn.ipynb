{
 "cells": [
  {
   "cell_type": "markdown",
   "metadata": {},
   "source": [
    "# Jaime Ariel Chitay\n",
    "# Red Neuronal Convolucional\n",
    "\n",
    "Importar las librerias o paquetes que se dedican a redes convolucionales. En este modelo nos dedicaremos a detectar a traves de un dataset de perros y gatos a detectar a que especie corresponde acada una con CNN.\n",
    "\n"
   ]
  },
  {
   "cell_type": "code",
   "execution_count": 14,
   "metadata": {},
   "outputs": [
    {
     "ename": "NameError",
     "evalue": "name 'imio' is not defined",
     "output_type": "error",
     "traceback": [
      "\u001b[1;31m---------------------------------------------------------------------------\u001b[0m",
      "\u001b[1;31mNameError\u001b[0m                                 Traceback (most recent call last)",
      "\u001b[1;32m<ipython-input-14-f3ac0f9d5b52>\u001b[0m in \u001b[0;36m<module>\u001b[1;34m\u001b[0m\n\u001b[0;32m      1\u001b[0m \u001b[1;32mimport\u001b[0m \u001b[0mcv2\u001b[0m\u001b[1;33m\u001b[0m\u001b[1;33m\u001b[0m\u001b[0m\n\u001b[1;32m----> 2\u001b[1;33m \u001b[0mimg_test\u001b[0m \u001b[1;33m=\u001b[0m \u001b[0mimio\u001b[0m\u001b[1;33m.\u001b[0m\u001b[0mimread\u001b[0m\u001b[1;33m(\u001b[0m\u001b[1;34m'dataset/training_set'\u001b[0m\u001b[1;33m)\u001b[0m\u001b[1;33m\u001b[0m\u001b[1;33m\u001b[0m\u001b[0m\n\u001b[0m\u001b[0;32m      3\u001b[0m \u001b[0mplt\u001b[0m\u001b[1;33m.\u001b[0m\u001b[0mimshow\u001b[0m\u001b[1;33m(\u001b[0m\u001b[0mimg_test\u001b[0m\u001b[1;33m)\u001b[0m\u001b[1;33m\u001b[0m\u001b[1;33m\u001b[0m\u001b[0m\n",
      "\u001b[1;31mNameError\u001b[0m: name 'imio' is not defined"
     ]
    }
   ],
   "source": [
    "import cv2\n",
    "img_test = imio.imread('dataset/training_set')\n",
    "plt.imshow(img_test)\n"
   ]
  },
  {
   "cell_type": "code",
   "execution_count": 5,
   "metadata": {},
   "outputs": [],
   "source": [
    "from keras.models import Sequential #para iniciar las red neuronal con los pesos aleatorios cercanos a ceros pero no nulos\n",
    "from keras.layers import Conv2D # para usar funciones que nos crean las capas que queremos aplicar convoluciones.\n",
    "from keras.layers import MaxPooling2D #Son en dos dimensiones\n",
    "from keras.layers import Flatten # Para aplanar las dimensiones\n",
    "from keras.layers import Dense #Dense sirve para crear las sinapsis para la red neuronal"
   ]
  },
  {
   "cell_type": "code",
   "execution_count": 6,
   "metadata": {},
   "outputs": [],
   "source": [
    "# Inicializar la CNN para clasificar los animales\n",
    "classifier = Sequential() "
   ]
  },
  {
   "cell_type": "code",
   "execution_count": 7,
   "metadata": {},
   "outputs": [],
   "source": [
    "#Convolución, \n",
    "classifier.add(Conv2D(filters = 32,kernel_size = (3, 3), \n",
    "                      input_shape = (64, 64, 3), activation = \"relu\"))"
   ]
  },
  {
   "cell_type": "code",
   "execution_count": 8,
   "metadata": {},
   "outputs": [],
   "source": [
    "#Tomar el maximo de una ventana para ir ro\n",
    "# Paso 2 - Max Pooling\n",
    "classifier.add(MaxPooling2D(pool_size = (2,2)))"
   ]
  },
  {
   "cell_type": "code",
   "execution_count": 9,
   "metadata": {},
   "outputs": [],
   "source": [
    "# Paso 3 - Flattening\n",
    "classifier.add(Flatten())\n",
    "\n",
    "# Paso 4 - Full Connection\n",
    "classifier.add(Dense(units = 128, activation = \"relu\"))\n",
    "classifier.add(Dense(units = 1, activation = \"sigmoid\")) #clasificacion binaril, recue\n",
    "\n",
    "# Compilar la CNN\n",
    "classifier.compile(optimizer = \"adam\", loss = \"binary_crossentropy\", metrics = [\"accuracy\"])\n"
   ]
  },
  {
   "cell_type": "code",
   "execution_count": 10,
   "metadata": {},
   "outputs": [],
   "source": [
    "# Parte 2 - Ajustar la CNN a las imágenes para entrenar \n",
    "from keras.preprocessing.image import ImageDataGenerator\n",
    "#Convertimos los valores de 0 a 1, en vez de 0 a 255 gracias a la linea anterior de keras\n",
    " #20 por ciento de zoom\n",
    "train_datagen = ImageDataGenerator(\n",
    "        rescale=1./255,\n",
    "        shear_range=0.2,\n",
    "        zoom_range=0.2,\n",
    "        horizontal_flip=True)\n",
    "\n",
    "test_datagen = ImageDataGenerator(rescale=1./255)"
   ]
  },
  {
   "cell_type": "code",
   "execution_count": 11,
   "metadata": {},
   "outputs": [
    {
     "name": "stdout",
     "output_type": "stream",
     "text": [
      "Found 8000 images belonging to 2 classes.\n"
     ]
    }
   ],
   "source": [
    "training_dataset = train_datagen.flow_from_directory('dataset/training_set',\n",
    "                                                    target_size=(64, 64),\n",
    "                                                    batch_size=32,\n",
    "                                                    class_mode='binary')"
   ]
  },
  {
   "cell_type": "code",
   "execution_count": 22,
   "metadata": {},
   "outputs": [
    {
     "name": "stdout",
     "output_type": "stream",
     "text": [
      "Found 2000 images belonging to 2 classes.\n"
     ]
    }
   ],
   "source": [
    "testing_dataset = test_datagen.flow_from_directory('dataset/test_set',\n",
    "                                                target_size=(64, 64),\n",
    "                                                batch_size=32,\n",
    "                                                class_mode='binary')"
   ]
  },
  {
   "cell_type": "markdown",
   "metadata": {},
   "source": [
    "El clasificador en el tiempo, va a aumentar su precision y va a disminuir sus perdidas. Se elegiran un numero de epoch bajo, para no forzar tanto el tiempo de procesamiento. Por fines de procesamiento, al igual que en otro modelo, solamente se haran 5 epochs y 800 steps por epoch."
   ]
  },
  {
   "cell_type": "code",
   "execution_count": null,
   "metadata": {},
   "outputs": [
    {
     "name": "stdout",
     "output_type": "stream",
     "text": [
      "Epoch 1/5\n",
      "800/800 [==============================] - 464s 580ms/step - loss: 0.4956 - acc: 0.7572 - val_loss: 0.5258 - val_acc: 0.7455\n",
      "Epoch 2/5\n",
      "800/800 [==============================] - 455s 568ms/step - loss: 0.4688 - acc: 0.7737 - val_loss: 0.5321 - val_acc: 0.7457\n",
      "Epoch 3/5\n",
      "787/800 [============================>.] - ETA: 3s - loss: 0.4489 - acc: 0.7864"
     ]
    }
   ],
   "source": [
    "classifier.fit_generator(training_dataset,\n",
    "                        steps_per_epoch=800,\n",
    "                        epochs=5,\n",
    "                        validation_data=testing_dataset,\n",
    "                        validation_steps=2000)"
   ]
  },
  {
   "cell_type": "code",
   "execution_count": null,
   "metadata": {},
   "outputs": [],
   "source": []
  }
 ],
 "metadata": {
  "kernelspec": {
   "display_name": "Python 3",
   "language": "python",
   "name": "python3"
  },
  "language_info": {
   "codemirror_mode": {
    "name": "ipython",
    "version": 3
   },
   "file_extension": ".py",
   "mimetype": "text/x-python",
   "name": "python",
   "nbconvert_exporter": "python",
   "pygments_lexer": "ipython3",
   "version": "3.6.8"
  }
 },
 "nbformat": 4,
 "nbformat_minor": 2
}
